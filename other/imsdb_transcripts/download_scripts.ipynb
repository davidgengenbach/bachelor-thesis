{
 "cells": [
  {
   "cell_type": "code",
   "execution_count": null,
   "metadata": {},
   "outputs": [],
   "source": [
    "import os\n",
    "import mechanicalsoup\n",
    "import requests\n",
    "import collections\n",
    "import pandas as pd\n",
    "from bs4 import BeautifulSoup\n",
    "import feedparser\n",
    "\n",
    "START_URL = 'http://www.imsdb.com'\n",
    "RSS_GENRE_LINK = 'http://www.imsdb.com/feeds/genre.php?genre={}'"
   ]
  },
  {
   "cell_type": "code",
   "execution_count": null,
   "metadata": {},
   "outputs": [],
   "source": [
    "b = mechanicalsoup.Browser()\n",
    "page = b.get(START_URL)"
   ]
  },
  {
   "cell_type": "code",
   "execution_count": null,
   "metadata": {},
   "outputs": [],
   "source": [
    "links_alphabetical = page.soup.select('a[href^=\"/alphabetical\"]')\n",
    "links_genres = page.soup.select('a[href^=\"/genre\"]')"
   ]
  },
  {
   "cell_type": "code",
   "execution_count": null,
   "metadata": {},
   "outputs": [],
   "source": [
    "data = collections.defaultdict(lambda: [])\n",
    "for link in links_genres:\n",
    "    url = START_URL + link.attrs['href']\n",
    "    genre = link.text\n",
    "    print('Retrieving genre: {}'.format(genre))\n",
    "    data['genre'].append(genre)\n",
    "    data['url'].append(url)\n",
    "df_genres = pd.DataFrame(data)"
   ]
  },
  {
   "cell_type": "code",
   "execution_count": null,
   "metadata": {},
   "outputs": [],
   "source": [
    "data = []\n",
    "for genre, df_ in df_genres.groupby('genre'):\n",
    "    url = RSS_GENRE_LINK.format(genre).lower()\n",
    "    result = feedparser.parse(url)\n",
    "    entries = result['entries']\n",
    "    for entry in entries:\n",
    "        entry['genre'] = genre\n",
    "        data.append(entry)\n",
    "\n",
    "df_scripts = pd.DataFrame(data)\n",
    "df_scripts.head()"
   ]
  },
  {
   "cell_type": "code",
   "execution_count": null,
   "metadata": {},
   "outputs": [],
   "source": [
    "columns = [x for x in df_scripts.columns if not x.endswith('_detail') and x != 'links']\n",
    "df_scripts = df_scripts[columns]"
   ]
  },
  {
   "cell_type": "code",
   "execution_count": null,
   "metadata": {},
   "outputs": [],
   "source": [
    "data = collections.Counter()\n",
    "for link, df_ in df_scripts.groupby('link'):\n",
    "    data[len(df_.genre.unique())] += 1\n",
    "pd.DataFrame(list(data.items()), columns = ['genre_count', 'occurrences']).set_index('genre_count').sort_index()"
   ]
  },
  {
   "cell_type": "code",
   "execution_count": null,
   "metadata": {},
   "outputs": [],
   "source": [
    "genres = []\n",
    "for link, df_ in df_scripts.groupby('link'):\n",
    "    genres.append(df_.genre.unique())\n",
    "genres = [sorted(x) for x in genres]"
   ]
  },
  {
   "cell_type": "code",
   "execution_count": null,
   "metadata": {},
   "outputs": [],
   "source": [
    "import scipy.sparse\n",
    "import numpy as np\n",
    "import matplotlib.pyplot as plt\n",
    "\n",
    "def get_flattened_list(l):\n",
    "    o = []\n",
    "    for x in l: o += list(x)\n",
    "    return o\n",
    "\n",
    "def co_occurrences(els):\n",
    "    unique_elements = sorted(set(get_flattened_list(els)))\n",
    "    tag_2_idx = {t: idx for idx, t in enumerate(unique_elements)}\n",
    "    idx_2_tag = {idx: t for t, idx in tag_2_idx.items()}\n",
    "    data = []\n",
    "    rows = []\n",
    "    cols = []\n",
    "    for tags in els:\n",
    "        assert len(tags)\n",
    "        for i, tag1 in enumerate(tags[:-1]):\n",
    "            tag1_idx = tag_2_idx[tag1]\n",
    "            for tag2 in tags[i + 1:]:\n",
    "                tag2_idx = tag_2_idx[tag2]\n",
    "                data.append(1)\n",
    "                rows.append(tag1_idx)\n",
    "                cols.append(tag2_idx)\n",
    "    coo_mat = scipy.sparse.coo_matrix((data, (rows, cols)), shape=(len(unique_elements), len(unique_elements))).todense()\n",
    "    coo_mat = np.maximum(coo_mat, coo_mat.T)\n",
    "    return coo_mat, tag_2_idx, idx_2_tag\n",
    "\n",
    "coo_mat, tag_2_idx, idx_2_tag = co_occurrences(genres)"
   ]
  },
  {
   "cell_type": "markdown",
   "metadata": {},
   "source": [
    "## Most common multi genre combinations"
   ]
  },
  {
   "cell_type": "code",
   "execution_count": null,
   "metadata": {},
   "outputs": [],
   "source": [
    "df_ = pd.DataFrame(list(collections.Counter([','.join(x) for x in genres]).items()), columns=['genres', 'occurrences']).set_index('genres').sort_values('occurrences', ascending=False)\n",
    "df_[df_.index.map(lambda x: x.count(',') > 1)].head(10)"
   ]
  },
  {
   "cell_type": "markdown",
   "metadata": {},
   "source": [
    "## Correlations between genres"
   ]
  },
  {
   "cell_type": "code",
   "execution_count": null,
   "metadata": {},
   "outputs": [],
   "source": [
    "fig, ax = plt.subplots(figsize = (10, 10))\n",
    "img = ax.imshow(np.tril(coo_mat), cmap=plt.get_cmap('magma_r'))\n",
    "labels = sorted(tag_2_idx.keys(), key=lambda x: tag_2_idx[x])\n",
    "label_indices = list(range(len(labels)))\n",
    "ax.set_xticks(label_indices)\n",
    "ax.set_xticklabels(labels, rotation=45)\n",
    "\n",
    "ax.set_yticks(label_indices)\n",
    "ax.set_yticklabels(labels)\n",
    "fig.colorbar(img)\n",
    "fig.tight_layout()"
   ]
  },
  {
   "cell_type": "markdown",
   "metadata": {},
   "source": [
    "## Scripts per genre"
   ]
  },
  {
   "cell_type": "code",
   "execution_count": null,
   "metadata": {},
   "outputs": [],
   "source": [
    "df_genre_occurrences = df_scripts.genre.value_counts()\n",
    "genre_occurrences = [df_genre_occurrences[label] for label in labels]\n",
    "fig, ax = plt.subplots(figsize=(16, 5))\n",
    "df_genre_occurrences.to_frame().sort_index().genre.plot(kind='bar', ax=ax)\n",
    "fig.tight_layout()"
   ]
  },
  {
   "cell_type": "markdown",
   "metadata": {},
   "source": [
    "## Correlations per occurrenes per genre"
   ]
  },
  {
   "cell_type": "code",
   "execution_count": null,
   "metadata": {},
   "outputs": [],
   "source": [
    "correlations = np.asarray(np.sum(coo_mat, axis=0))[0]\n",
    "fig, ax = plt.subplots(figsize = (16, 5))\n",
    "df_ = pd.DataFrame(list(zip(genre_occurrences, correlations, labels)), columns=['occurrences', 'correlations', 'label']).set_index('label')\n",
    "df_['relative_correlation'] = df_.correlations / df_.occurrences\n",
    "df_.relative_correlation.plot(kind='bar', ax=ax)\n",
    "fig.tight_layout()"
   ]
  },
  {
   "cell_type": "markdown",
   "metadata": {},
   "source": [
    "## Create single labels for multi-genre elements"
   ]
  },
  {
   "cell_type": "code",
   "execution_count": null,
   "metadata": {},
   "outputs": [],
   "source": [
    "import sklearn\n",
    "import sklearn.cluster\n",
    "\n",
    "def get_genre_vectors(genres):\n",
    "    data, rows, cols = [], [], []\n",
    "    for idx, tags in enumerate(genres):\n",
    "        data += [1] * len(tags)\n",
    "        rows += [idx] * len(tags)\n",
    "        cols += [tag_2_idx[tag] for tag in tags]\n",
    "    return scipy.sparse.coo_matrix((data, (rows, cols)), shape=(len(genres), len(tag_2_idx.keys()))).todense()\n",
    "\n",
    "document_genre_vectors = get_genre_vectors(genres)\n",
    "\n",
    "NUM_CLUSTERS=4\n",
    "#Birch, FeatureAgglomeration, KMeans, MiniBatchKMeans\n",
    "clf = sklearn.cluster.Birch(n_clusters=NUM_CLUSTERS)\n",
    "clf.fit(document_genre_vectors)\n",
    "X = clf.transform(document_genre_vectors)\n",
    "Y = clf.predict(document_genre_vectors)\n",
    "\n",
    "fig, ax = plt.subplots(figsize=(10, 3))\n",
    "pd.Series(np.bincount(Y)).plot(kind='bar', ax=ax)\n",
    "ax.set_xlabel('New label')\n",
    "ax.set_ylabel('# documents')"
   ]
  },
  {
   "cell_type": "code",
   "execution_count": null,
   "metadata": {},
   "outputs": [],
   "source": [
    "X_train, X_test, Y_train, Y_test = sklearn.model_selection.train_test_split(X, Y, stratify = Y)\n",
    "classifier = sklearn.svm.LinearSVC()\n",
    "classifier.fit(X_train, Y_train)\n",
    "Y_train_pred = classifier.predict(X_train)\n",
    "Y_test_pred = classifier.predict(X_test)\n",
    "for true, pred in [(Y_train, Y_train_pred), (Y_test, Y_test_pred)]:\n",
    "    print(len(true), sklearn.metrics.f1_score(true, pred, average='macro'))"
   ]
  },
  {
   "cell_type": "code",
   "execution_count": null,
   "metadata": {},
   "outputs": [],
   "source": [
    "import sklearn.manifold\n",
    "\n",
    "tsne = sklearn.manifold.TSNE(n_components=2)\n",
    "X_tsne = tsne.fit_transform(X)"
   ]
  },
  {
   "cell_type": "code",
   "execution_count": null,
   "metadata": {},
   "outputs": [],
   "source": [
    "cmap = plt.get_cmap('Set1')\n",
    "x, y = X_tsne[:,0], X_tsne[:,1]\n",
    "colors = [cmap.colors[new_label] for new_label in Y]\n",
    "fig, ax = plt.subplots(figsize=(10, 10))\n",
    "ax.grid('off')\n",
    "\n",
    "for label in range(len(set(Y))):\n",
    "    color = cmap.colors[label]\n",
    "    ax.scatter(x[Y == label], y[Y == label], c=color, label=label)\n",
    "ax.legend()\n",
    "ax.set_xticks([])\n",
    "ax.set_yticks([]);"
   ]
  },
  {
   "cell_type": "code",
   "execution_count": null,
   "metadata": {},
   "outputs": [],
   "source": [
    "def get_samples_for_classes(genres, new_labels, num_samples=5):\n",
    "    num_labels = len(set(new_labels))\n",
    "    genres = np.array(genres)\n",
    "    samples = []\n",
    "    for i in range(num_labels):\n",
    "        elements = np.where(new_labels == i)[0]\n",
    "        choice = np.random.choice(elements, size=num_samples)\n",
    "        samples.append(genres[choice])\n",
    "    return samples\n",
    "    \n",
    "for i, samples in enumerate(get_samples_for_classes(genres, Y)):\n",
    "    print('New class:')\n",
    "    for sample in samples:\n",
    "        print('\\t' + ''.join(['{:15}'.format(x) for x in sample]))\n",
    "        "
   ]
  }
 ],
 "metadata": {
  "language_info": {
   "name": "python",
   "pygments_lexer": "ipython3"
  }
 },
 "nbformat": 4,
 "nbformat_minor": 2
}
