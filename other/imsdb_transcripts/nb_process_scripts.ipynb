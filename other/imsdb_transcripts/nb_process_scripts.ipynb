{
 "cells": [
  {
   "cell_type": "code",
   "execution_count": null,
   "metadata": {},
   "outputs": [],
   "source": [
    "import os\n",
    "import collections\n",
    "import pandas as pd\n",
    "import helper\n",
    "import re"
   ]
  },
  {
   "cell_type": "code",
   "execution_count": null,
   "metadata": {},
   "outputs": [],
   "source": [
    "df_scripts = helper.get_scripts_df()\n",
    "scripts = helper.get_extracted_scripts()"
   ]
  },
  {
   "cell_type": "code",
   "execution_count": null,
   "metadata": {},
   "outputs": [],
   "source": [
    "all_tags = []\n",
    "clean_scripts = []\n",
    "for link, script in scripts:\n",
    "    assert script.startswith('<pre>')\n",
    "    script = re.sub(r'<script>(?:.+?)</script>', '', script, flags=re.MULTILINE | re.DOTALL)\n",
    "    script = script.replace('<br/>', '\\n')\n",
    "    script = re.sub(r'<([^b]+?)>', '', script, flags=re.MULTILINE | re.DOTALL)\n",
    "    script = script.strip()\n",
    "    if script != '':\n",
    "        clean_scripts.append((link, script))"
   ]
  },
  {
   "cell_type": "code",
   "execution_count": null,
   "metadata": {},
   "outputs": [],
   "source": [
    "cleaned_cleaned_scripts = []\n",
    "for link, script in clean_scripts:\n",
    "    lines = script.splitlines()\n",
    "    def get_clean_line(line):\n",
    "        line = line.strip()\n",
    "        if line.count('<b>') > 0:\n",
    "            line = line.replace('<b>', '').strip()\n",
    "            if len(line):\n",
    "                line = '(INSTRUCTION: {}).'.format(line)\n",
    "            else:\n",
    "                line = ''\n",
    "        return line\n",
    "    \n",
    "    script_lines = [get_clean_line(line) for line in lines if line.strip() != '' and line.strip() != '</b>' and get_clean_line(line) != '']\n",
    "    script_lines = [line.replace('</b>', '').strip() for line in script_lines]\n",
    "    cleaned_cleaned_scripts.append((link, '\\n'.join(script_lines)))"
   ]
  },
  {
   "cell_type": "code",
   "execution_count": null,
   "metadata": {},
   "outputs": [],
   "source": [
    "helper.save_scripts(cleaned_cleaned_scripts)"
   ]
  },
  {
   "cell_type": "code",
   "execution_count": null,
   "metadata": {},
   "outputs": [],
   "source": [
    "processed_scripts = helper.get_processed_scripts()"
   ]
  }
 ],
 "metadata": {
  "language_info": {
   "name": "python",
   "pygments_lexer": "ipython3"
  }
 },
 "nbformat": 4,
 "nbformat_minor": 2
}
