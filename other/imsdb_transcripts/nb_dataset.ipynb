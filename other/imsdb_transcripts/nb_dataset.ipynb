{
 "cells": [
  {
   "cell_type": "code",
   "execution_count": null,
   "metadata": {},
   "outputs": [],
   "source": [
    "from helper import *\n",
    "\n",
    "scripts = get_processed_scripts()\n",
    "link_2_label = get_link_2_label()"
   ]
  },
  {
   "cell_type": "code",
   "execution_count": null,
   "metadata": {},
   "outputs": [],
   "source": [
    "for link, _ in scripts:\n",
    "    assert link in link_2_label\n",
    "    \n",
    "X = [script for _, script in scripts]\n",
    "Y = [link_2_label[link] for link, _ in scripts]"
   ]
  },
  {
   "cell_type": "code",
   "execution_count": null,
   "metadata": {},
   "outputs": [],
   "source": [
    "with open('data/dataset_imsdb.npy', 'wb') as f:\n",
    "    pickle.dump((X, Y), f)"
   ]
  }
 ],
 "metadata": {
  "language_info": {
   "name": "python",
   "pygments_lexer": "ipython3"
  }
 },
 "nbformat": 4,
 "nbformat_minor": 2
}
