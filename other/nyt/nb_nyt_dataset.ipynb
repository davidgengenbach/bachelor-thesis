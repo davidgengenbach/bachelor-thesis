{
 "cells": [
  {
   "cell_type": "code",
   "execution_count": null,
   "metadata": {},
   "outputs": [],
   "source": [
    "import pandas as pd\n",
    "import matplotlib.pyplot as plt\n",
    "\n",
    "with open('files.txt') as f:\n",
    "    files = [x.strip() for x in f.read().splitlines() if x.strip() != '']"
   ]
  },
  {
   "cell_type": "code",
   "execution_count": null,
   "metadata": {},
   "outputs": [],
   "source": [
    "s = pd.DataFrame(pd.to_datetime(files), columns=['date']).date.value_counts()"
   ]
  },
  {
   "cell_type": "code",
   "execution_count": null,
   "metadata": {},
   "outputs": [],
   "source": [
    "fig, ax = plt.subplots(figsize=(16, 8))\n",
    "s.plot(ax = ax, marker='o', linestyle='none', markersize=1)"
   ]
  },
  {
   "cell_type": "markdown",
   "metadata": {},
   "source": [
    "## Filter articles"
   ]
  },
  {
   "cell_type": "markdown",
   "metadata": {},
   "source": [
    "### Read in metadata"
   ]
  },
  {
   "cell_type": "code",
   "execution_count": null,
   "metadata": {},
   "outputs": [],
   "source": [
    "import csv\n",
    "import numpy as np\n",
    "file = 'meta.csv'\n",
    "header = ['filename', 'title', 'print_section', 'desk', 'online_sections', 'word_count']\n",
    "\n",
    "with open(file) as f:\n",
    "    reader = csv.DictReader(f, fieldnames=header)\n",
    "    rows = list(reader)\n",
    "\n",
    "df = pd.DataFrame(rows).set_index('filename')\n",
    "for c in df:\n",
    "    df[df[c] == '_'] = np.nan\n",
    "df['word_count'] = pd.to_numeric(df.word_count)"
   ]
  },
  {
   "cell_type": "markdown",
   "metadata": {},
   "source": [
    "### Filter by wordcount\n",
    "\n",
    "Use only articles with more than 3000 words"
   ]
  },
  {
   "cell_type": "code",
   "execution_count": null,
   "metadata": {},
   "outputs": [],
   "source": [
    "def get_articles_with_word_counts(df, low, high):\n",
    "    return df[(df.word_count > low) & (df.word_count < high)]\n",
    "\n",
    "df_filtered = get_articles_with_word_counts(df, 3000, df.word_count.quantile(0.9999))"
   ]
  },
  {
   "cell_type": "code",
   "execution_count": null,
   "metadata": {},
   "outputs": [],
   "source": [
    "fig, ax = plt.subplots(figsize=(16, 6))\n",
    "df_filtered.word_count.plot(kind='hist', ax = ax, bins=120, title='Histogram of # words per article - after word count filter, #articles: {}'.format(len(df_filtered)))\n",
    "fig.tight_layout()"
   ]
  },
  {
   "cell_type": "markdown",
   "metadata": {},
   "source": [
    "### Filter out by the online section\n",
    "\n",
    "Remove all articles that have been posted in multiple online sections."
   ]
  },
  {
   "cell_type": "code",
   "execution_count": null,
   "metadata": {},
   "outputs": [],
   "source": [
    "f = df_filtered[df_filtered.online_sections.str.contains(';') == False].online_sections.value_counts().to_frame()"
   ]
  },
  {
   "cell_type": "markdown",
   "metadata": {},
   "source": [
    "And remove all articles that belong to a online section that has less than 250 articles in it."
   ]
  },
  {
   "cell_type": "code",
   "execution_count": null,
   "metadata": {},
   "outputs": [],
   "source": [
    "filtered_online_section = f[f.online_sections > 250].index.values\n",
    "df_filtered_filtered = df_filtered[df_filtered.online_sections.apply(lambda x: x in filtered_online_section)]\n",
    "df_filtered_filtered.head()"
   ]
  },
  {
   "cell_type": "markdown",
   "metadata": {},
   "source": [
    "### Plot articles per class after filtering"
   ]
  },
  {
   "cell_type": "code",
   "execution_count": null,
   "metadata": {},
   "outputs": [],
   "source": [
    "fig, ax = plt.subplots(figsize=(10, 5))\n",
    "df_filtered_filtered.online_sections.value_counts().plot(kind='barh', ax = ax, title='# articles per class')\n",
    "fig.tight_layout()"
   ]
  },
  {
   "cell_type": "markdown",
   "metadata": {},
   "source": [
    "## Save filenames to disk"
   ]
  },
  {
   "cell_type": "code",
   "execution_count": null,
   "metadata": {},
   "outputs": [],
   "source": [
    "with open('filtered_articles.txt', 'w') as f:\n",
    "    f.write('\\n'.join(df_filtered_filtered.index.values))"
   ]
  }
 ],
 "metadata": {
  "language_info": {
   "name": "python",
   "pygments_lexer": "ipython3"
  }
 },
 "nbformat": 4,
 "nbformat_minor": 2
}
