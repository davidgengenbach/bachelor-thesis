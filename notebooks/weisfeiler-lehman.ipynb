{
 "cells": [
  {
   "cell_type": "code",
   "execution_count": 1,
   "metadata": {},
   "outputs": [],
   "source": [
    "%load_ext autoreload\n",
    "%autoreload 2"
   ]
  },
  {
   "cell_type": "code",
   "execution_count": null,
   "metadata": {},
   "outputs": [],
   "source": [
    "import numpy as np\n",
    "import networkx as nx\n",
    "from scipy.sparse import lil_matrix, csr_matrix, vstack\n",
    "import copy\n",
    "import os\n",
    "from wl import WL_compute, WL_compute_original"
   ]
  },
  {
   "cell_type": "code",
   "execution_count": null,
   "metadata": {
    "collapsed": true
   },
   "outputs": [],
   "source": [
    "if 0 == 1:\n",
    "    for start, end in [(0, 7)]:\n",
    "        print(\"# YES\", test_graph_names[start:end])\n",
    "        k, _, label_lookup = get_wl_for_graph_names(test_graph_names[start:end], fn = WL_compute)\n",
    "        k_org, _ = get_wl_for_graph_names(test_graph_names[start:end], fn = WL_compute_original)\n",
    "        print(k_org[-1] == k[-1])"
   ]
  },
  {
   "cell_type": "code",
   "execution_count": 3,
   "metadata": {},
   "outputs": [
    {
     "name": "stdout",
     "output_type": "stream",
     "text": [
      "Found empty graph: /Users/davidgengenbach/Desktop/falke/code/data/ng20/test_graphs/rec.sport.baseball/ng-20.graph.gml\n",
      "Found empty graph: /Users/davidgengenbach/Desktop/falke/code/data/ng20/test_graphs/sci.med/ng-20.graph.gml\n",
      "Found empty graph: /Users/davidgengenbach/Desktop/falke/code/data/ng20/test_graphs/sci.space/ng-20.graph.gml\n",
      "Found empty graph: /Users/davidgengenbach/Desktop/falke/code/data/ng20/test_graphs/talk.politics.guns/ng-20.graph.gml\n",
      "Found empty graph: /Users/davidgengenbach/Desktop/falke/code/data/ng20/test_graphs/talk.politics.misc/ng-20.graph.gml\n"
     ]
    }
   ],
   "source": [
    "import networkx as nx\n",
    "import matplotlib.pyplot as plt\n",
    "from glob import glob\n",
    "GRAPH_DIR = '/Users/davidgengenbach/Desktop/falke/code/data/ng20/{}_graphs'\n",
    "\n",
    "def get_graphs(directory):\n",
    "    graphs = {}\n",
    "    for topic in os.listdir(directory):\n",
    "        graph_dir = os.path.join(directory, topic)\n",
    "        if not os.path.isdir(graph_dir): continue\n",
    "        graph_file = glob(os.path.join(graph_dir, '*.gml'))[0]\n",
    "        with open(graph_file) as f:\n",
    "            graph = f.read().split('\\n')\n",
    "        for idx, line in enumerate(graph):\n",
    "            if line.startswith('label'):\n",
    "                next_line = graph[idx + 1]\n",
    "                label = next_line.replace('name', 'label')\n",
    "                graph[idx] = label\n",
    "        new_graph_file = graph_file.replace('.gml', '.renamed.gml')\n",
    "        with open(new_graph_file, 'w') as f:\n",
    "            f.write('\\n'.join(graph))\n",
    "        graph = nx.read_gml(new_graph_file, label = 'label')\n",
    "        if graph.number_of_nodes() > 0 and graph.number_of_edges() > 0:\n",
    "            graphs[topic] = graph\n",
    "        else:\n",
    "            graphs[topic] = None\n",
    "            print(\"Found empty graph: {}\".format(graph_file))\n",
    "    return graphs\n",
    "graphs_test_docs = get_graphs(GRAPH_DIR.format('test'))\n",
    "graphs_train_docs = get_graphs(GRAPH_DIR.format('train'))\n",
    "assert graphs_test_docs.keys() == graphs_train_docs.keys()\n",
    "assert len(graphs_test_docs.keys()) > 0\n",
    "\n",
    "all_nodes = [val for sublist in [g.nodes() for g in list(graphs_train_docs.values()) + list(graphs_test_docs.values()) if g is not None] for val in sublist]"
   ]
  },
  {
   "cell_type": "code",
   "execution_count": null,
   "metadata": {
    "scrolled": true
   },
   "outputs": [],
   "source": [
    "def get_wl_for_graphs(graphs, all_nodes = all_nodes,  h = 10, fn = WL_compute):\n",
    "    nodes = [g.nodes() for g in graphs]\n",
    "    adjs = [nx.adjacency_matrix(g).toarray() for g in graphs]\n",
    "    return fn(adjs, nodes, all_nodes = all_nodes, h = h)\n",
    "\n",
    "def get_wl_for_graph_names(graph_names, add_all_nodes = False, h = 10, fn = WL_compute):\n",
    "    graphs = [graphs_test_docs[x] for x in graph_names]\n",
    "    graphs[0] = graphs[0].copy()\n",
    "    if add_all_nodes:\n",
    "        for node in all_nodes:\n",
    "            graphs[0].add_node(node)\n",
    "    return get_wl_for_graphs(graphs, all_nodes, h = h, fn = fn)\n",
    "\n",
    "test_graph_names = list(sorted(graphs_test_docs.keys()))"
   ]
  },
  {
   "cell_type": "code",
   "execution_count": null,
   "metadata": {},
   "outputs": [
    {
     "name": "stdout",
     "output_type": "stream",
     "text": [
      "Calculating WL_train: start\n",
      "Number of original labels 5529\n",
      "K original is computed\n",
      "Iteration 0: phi is computed\n"
     ]
    }
   ],
   "source": [
    "#%%time\n",
    "from sklearn import svm\n",
    "\n",
    "augmented_graph = graphs_train_docs[list(graphs_train_docs.keys())[0]]\n",
    "#for node in all_nodes:\n",
    "#    augmented_graph.add_node(node)\n",
    "adjs = []\n",
    "nodes = []\n",
    "for topic, graph in sorted(graphs_train_docs.items(), key = lambda x: x[0]):\n",
    "    adjs.append(nx.adjacency_matrix(graph).toarray())\n",
    "    nodes.append(graph.nodes())\n",
    "print('Calculating WL_train: start')\n",
    "K_train, phi_list_train, label_lookup_train = WL_compute(adjs, nodes, 2, all_nodes = all_nodes, DEBUG = True)\n",
    "print('Calculating WL_train: end')"
   ]
  },
  {
   "cell_type": "code",
   "execution_count": null,
   "metadata": {},
   "outputs": [],
   "source": [
    "clf = svm.SVC(kernel = 'precomputed', verbose = True, probability=True, )\n",
    "clf.fit(K_train[-1], sorted(graphs_train_docs.keys()))"
   ]
  },
  {
   "cell_type": "code",
   "execution_count": null,
   "metadata": {},
   "outputs": [],
   "source": [
    "#%%time\n",
    "for test_topic, graph in sorted(graphs_test_docs.items(), key = lambda x: x[0]):\n",
    "    print('Testing graph:\\t{}'.format(test_topic))\n",
    "    test_graph = graph\n",
    "    adjs_test = [nx.adjacency_matrix(test_graph).toarray()] + adjs\n",
    "    nodes_test = [test_graph.nodes()] + nodes\n",
    "    K_test, phi_list_test, label_lookup_test = WL_compute(adjs_test, nodes_test, 2, all_nodes = all_nodes, DEBUG = False)\n",
    "    X_test = K_test[-1][0, 1:].reshape(1, -1)\n",
    "    print('Predicted:\\t{}'.format(clf.predict(X_test)[0]))\n",
    "    probs_test = clf.predict_proba(X_test)[0]\n",
    "    probs_zipped = list(zip(clf.classes_, probs_test))\n",
    "    for clazz, prob in sorted(probs_zipped, key = lambda x: x[1])[:5]:\n",
    "        print('\\t{:.3f}\\t{}'.format(prob, clazz))"
   ]
  },
  {
   "cell_type": "code",
   "execution_count": null,
   "metadata": {
    "collapsed": true
   },
   "outputs": [],
   "source": [
    "if 0 == 1:\n",
    "    fig = plt.figure(figsize=(30, 30))\n",
    "    pos=nx.spring_layout(g_mult_dir)\n",
    "    nx.draw(g_mult_dir, pos = pos)\n",
    "\n",
    "    edge_labels=dict([((u,v,),d['name'])\n",
    "                 for u,v,d in g_mult_dir.edges(data=True)])\n",
    "    nx.draw_networkx_edge_labels(g_mult_dir,pos,edge_labels=edge_labels)\n",
    "    nx.draw_networkx_nodes(g_mult_dir, pos = pos, label='name', )\n",
    "    nx.draw_networkx_labels(g_mult_dir, pos = pos)\n",
    "    plt.show()\n",
    "\n",
    "    graphs = sorted(list(nx.weakly_connected_component_subgraphs(g_mult_dir)), key = len)#, reverse = True)\n",
    "\n",
    "    for graph in graphs[-4:]:\n",
    "        fig = plt.figure(figsize=(20, 20))\n",
    "        pos=nx.spring_layout(graph)\n",
    "        #nx.draw(graph, pos = pos)\n",
    "        edge_labels=dict([((u,v,),d['name'])\n",
    "                     for u,v,d in graph.edges(data=True)])\n",
    "        nx.draw_networkx_edge_labels(graph, pos, edge_labels=edge_labels)\n",
    "        nx.draw_networkx_edges(graph, pos, arrows = True)\n",
    "        nx.draw_networkx_nodes(graph, pos = pos, label='name')\n",
    "        nx.draw_networkx_labels(graph, pos = pos)\n",
    "        plt.show()\n"
   ]
  }
 ],
 "metadata": {
  "anaconda-cloud": {},
  "kernelspec": {
   "display_name": "Python [conda root]",
   "language": "python",
   "name": "conda-root-py"
  },
  "language_info": {
   "codemirror_mode": {
    "name": "ipython",
    "version": 3
   },
   "file_extension": ".py",
   "mimetype": "text/x-python",
   "name": "python",
   "nbconvert_exporter": "python",
   "pygments_lexer": "ipython3",
   "version": "3.5.3"
  },
  "toc": {
   "colors": {
    "hover_highlight": "#DAA520",
    "navigate_num": "#000000",
    "navigate_text": "#333333",
    "running_highlight": "#FF0000",
    "selected_highlight": "#FFD700",
    "sidebar_border": "#EEEEEE",
    "wrapper_background": "#FFFFFF"
   },
   "moveMenuLeft": true,
   "nav_menu": {
    "height": "4px",
    "width": "254px"
   },
   "navigate_menu": true,
   "number_sections": true,
   "sideBar": true,
   "threshold": 4,
   "toc_cell": false,
   "toc_section_display": "block",
   "toc_window_display": false,
   "widenNotebook": false
  }
 },
 "nbformat": 4,
 "nbformat_minor": 1
}
