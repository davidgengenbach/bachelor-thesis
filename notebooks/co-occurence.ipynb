{
 "cells": [
  {
   "cell_type": "code",
   "execution_count": 32,
   "metadata": {
    "collapsed": true
   },
   "outputs": [],
   "source": [
    "import numpy as np\n",
    "from scipy.sparse import lil_matrix"
   ]
  },
  {
   "cell_type": "code",
   "execution_count": 57,
   "metadata": {
    "collapsed": false
   },
   "outputs": [
    {
     "name": "stdout",
     "output_type": "stream",
     "text": [
      "a, cafe, is, nice, this, yes\n",
      "[[0 0 1 1 0 0]\n",
      " [0 2 2 1 0 0]\n",
      " [0 0 0 0 3 0]\n",
      " [0 0 0 0 0 0]\n",
      " [0 0 0 0 1 1]\n",
      " [0 0 0 0 0 0]]\n"
     ]
    }
   ],
   "source": [
    "def words_to_dict(words):\n",
    "    words = set(words)\n",
    "    words = sorted(list(words))\n",
    "    word2id = {word: idx for idx, word in enumerate(words)}\n",
    "    return word2id, {idx: word for word, idx in word2id.items()}\n",
    "\n",
    "def get_coocurrence_matrix(text):\n",
    "    text = \" \".join(text.split('.'))\n",
    "    words = [x.strip() for x in text.split()]\n",
    "    word2id, id2word = words_to_dict(words)\n",
    "    num_words = len(word2id.keys())\n",
    "    mat = lil_matrix((num_words, num_words), dtype=np.int8)\n",
    "    for word1, word2 in zip(words[:-1], words[1:]):\n",
    "        if word2 < word1:\n",
    "            tmp = word1\n",
    "            word1 = word2\n",
    "            word2 = tmp\n",
    "        mat[word2id[word1], word2id[word2]] += 1\n",
    "        # Create symmetric matrix\n",
    "        #mat[word2id[word2], word2id[word1]] += 1\n",
    "    return word2id, id2word, mat\n",
    "    \n",
    "word2id, id2word, mat = get_coocurrence_matrix(\n",
    "    'yes. this is a nice cafe.'\n",
    "    'cafe is this. this is cafe cafe.'\n",
    ")\n",
    "print(', '.join(sorted(word2id.keys())))\n",
    "print(mat.toarray())"
   ]
  }
 ],
 "metadata": {
  "anaconda-cloud": {},
  "kernelspec": {
   "display_name": "Python [conda root]",
   "language": "python",
   "name": "conda-root-py"
  },
  "language_info": {
   "codemirror_mode": {
    "name": "ipython",
    "version": 3
   },
   "file_extension": ".py",
   "mimetype": "text/x-python",
   "name": "python",
   "nbconvert_exporter": "python",
   "pygments_lexer": "ipython3",
   "version": "3.5.2"
  }
 },
 "nbformat": 4,
 "nbformat_minor": 1
}
