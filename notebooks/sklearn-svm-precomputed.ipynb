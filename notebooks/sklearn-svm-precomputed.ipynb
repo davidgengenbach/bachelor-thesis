{
 "cells": [
  {
   "cell_type": "code",
   "execution_count": 61,
   "metadata": {},
   "outputs": [
    {
     "name": "stdout",
     "output_type": "stream",
     "text": [
      "[0 1 2]\n",
      "0.00, 0.00 -> Expected: 0, Got: 0, Probs: 0.24,0.28,0.48\n",
      "0.50, 0.50 -> Expected: 1, Got: 1, Probs: 0.35,0.30,0.35\n",
      "1.00, 1.00 -> Expected: 2, Got: 2, Probs: 0.48,0.28,0.24\n",
      "0.75, 0.75 -> Expected: 1, Got: 2, Probs: 0.41,0.29,0.29\n"
     ]
    }
   ],
   "source": [
    "import numpy as np\n",
    "from sklearn import svm\n",
    "X = np.array([[0, 0], [0.5, 0.5], [1, 1]])\n",
    "y = [0, 1, 2]\n",
    "clf = svm.SVC(kernel='precomputed', probability=True)\n",
    "gram = np.dot(X, X.T)\n",
    "clf.fit(gram, y)\n",
    "\n",
    "for x, y in zip(np.concatenate((X, [[0.75, 0.75]]), axis = 0), np.concatenate((y, np.array([1])), axis = 0)):\n",
    "    preds = clf.predict_proba(np.dot(x, X.T).reshape(1, -1))[0]\n",
    "    pred_class = clf.classes_[np.argmin(preds)]\n",
    "    print('{} -> Expected: {}, Got: {}, Probs: {}'.format(\", \".join('{:.2f}'.format(x) for x in x), y, pred_class, \",\".join(\"{:.2f}\".format(x) for x in preds)))"
   ]
  }
 ],
 "metadata": {
  "kernelspec": {
   "display_name": "Python [conda root]",
   "language": "python",
   "name": "conda-root-py"
  },
  "language_info": {
   "codemirror_mode": {
    "name": "ipython",
    "version": 3
   },
   "file_extension": ".py",
   "mimetype": "text/x-python",
   "name": "python",
   "nbconvert_exporter": "python",
   "pygments_lexer": "ipython3",
   "version": "3.5.3"
  },
  "toc": {
   "colors": {
    "hover_highlight": "#DAA520",
    "navigate_num": "#000000",
    "navigate_text": "#333333",
    "running_highlight": "#FF0000",
    "selected_highlight": "#FFD700",
    "sidebar_border": "#EEEEEE",
    "wrapper_background": "#FFFFFF"
   },
   "moveMenuLeft": true,
   "nav_menu": {
    "height": "4px",
    "width": "254px"
   },
   "navigate_menu": true,
   "number_sections": true,
   "sideBar": true,
   "threshold": 4,
   "toc_cell": false,
   "toc_section_display": "block",
   "toc_window_display": false,
   "widenNotebook": false
  }
 },
 "nbformat": 4,
 "nbformat_minor": 2
}
