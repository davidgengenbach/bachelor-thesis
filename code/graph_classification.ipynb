{
 "cells": [
  {
   "cell_type": "code",
   "execution_count": 1,
   "metadata": {
    "collapsed": true
   },
   "outputs": [],
   "source": [
    "%load_ext autoreload\n",
    "%autoreload 2"
   ]
  },
  {
   "cell_type": "code",
   "execution_count": null,
   "metadata": {},
   "outputs": [
    {
     "name": "stdout",
     "output_type": "stream",
     "text": [
      "##########\tDataset File: dataset_graph_cooccurrence_1_no-nouns_cade-ana.npy\n",
      "Fitting 3 folds for each of 1 candidates, totalling 3 fits\n",
      "[CV] clf__class_weight=balanced, clf__n_iter=100, wl_transformer__n_jobs=1, wl_transformer__H=1 \n",
      "FastWLGraphKernelTransformer.fit: len(X)=27317, H=1\n",
      "FastWLGraphKernelTransformer.fit: Found empty graphs in training set: 73\n"
     ]
    }
   ],
   "source": [
    "import numpy as np\n",
    "import sklearn\n",
    "from sklearn.pipeline import Pipeline\n",
    "from sklearn.linear_model import Perceptron\n",
    "from sklearn.model_selection import GridSearchCV\n",
    "from transformers.wl_graph_kernel_transformer import WLGraphKernelTransformer\n",
    "from transformers.fast_wl_graph_kernel_transformer import FastWLGraphKernelTransformer\n",
    "import graph_helper\n",
    "import dataset_helper\n",
    "import wl\n",
    "import os\n",
    "import pickle\n",
    "import json\n",
    "\n",
    "results = {}\n",
    "for cache_file in dataset_helper.get_all_cached_graph_datasets():\n",
    "    graph_dataset_cache_file = cache_file.split('/')[-1]\n",
    "    result_file = 'data/results/{}.results.npy'.format(graph_dataset_cache_file)\n",
    "    print('{}\\tDataset File: {}'.format('#' * 10, graph_dataset_cache_file))\n",
    "\n",
    "    if os.path.exists(result_file):\n",
    "        print('\\tAlready calculated result: {}'.format(result_file))\n",
    "        continue\n",
    "\n",
    "    if not os.path.exists(cache_file):\n",
    "        print('\\tCould not find cachefile: \"{}\". Skipping.'.format(cache_file))\n",
    "        continue\n",
    "        \n",
    "    X, Y = dataset_helper.get_dataset_cached(cache_file)\n",
    "    X, Y = np.array(X), np.array(Y)\n",
    "\n",
    "    p = Pipeline([\n",
    "        ('wl_transformer', FastWLGraphKernelTransformer()),\n",
    "        ('clf', sklearn.linear_model.PassiveAggressiveClassifier())\n",
    "    ])\n",
    "\n",
    "    param_grid = dict(\n",
    "        wl_transformer__H= [1],\n",
    "        wl_transformer__n_jobs= [1],\n",
    "        clf__n_iter=[100],\n",
    "        clf__class_weight = ['balanced']\n",
    "    )\n",
    "\n",
    "    cv = GridSearchCV(estimator = p, param_grid=param_grid, cv=3, scoring = 'f1_macro', n_jobs=1, verbose = 11)\n",
    "    gscv_result = cv.fit(X, Y)\n",
    "    with open(result_file, 'wb') as f:\n",
    "        pickle.dump(gscv_result.cv_results_, f)\n",
    "    results[graph_dataset_cache_file] = gscv_result.cv_results_\n",
    "    break\n",
    "    #gscv_result.best_estimator_, gscv_result.cv_results_"
   ]
  }
 ],
 "metadata": {
  "anaconda-cloud": {},
  "kernelspec": {
   "display_name": "Python [conda root]",
   "language": "python",
   "name": "conda-root-py"
  },
  "language_info": {
   "codemirror_mode": {
    "name": "ipython",
    "version": 3
   },
   "file_extension": ".py",
   "mimetype": "text/x-python",
   "name": "python",
   "nbconvert_exporter": "python",
   "pygments_lexer": "ipython3",
   "version": "3.5.3"
  },
  "toc": {
   "colors": {
    "hover_highlight": "#DAA520",
    "navigate_num": "#000000",
    "navigate_text": "#333333",
    "running_highlight": "#FF0000",
    "selected_highlight": "#FFD700",
    "sidebar_border": "#EEEEEE",
    "wrapper_background": "#FFFFFF"
   },
   "moveMenuLeft": true,
   "nav_menu": {
    "height": "4px",
    "width": "254px"
   },
   "navigate_menu": true,
   "number_sections": true,
   "sideBar": true,
   "threshold": 4,
   "toc_cell": false,
   "toc_section_display": "block",
   "toc_window_display": false,
   "widenNotebook": false
  }
 },
 "nbformat": 4,
 "nbformat_minor": 2
}
