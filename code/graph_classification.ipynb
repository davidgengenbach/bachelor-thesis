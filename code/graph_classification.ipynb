{
 "cells": [
  {
   "cell_type": "code",
   "execution_count": null,
   "metadata": {
    "collapsed": true
   },
   "outputs": [],
   "source": [
    "%load_ext autoreload\n",
    "%autoreload 2"
   ]
  },
  {
   "cell_type": "code",
   "execution_count": null,
   "metadata": {},
   "outputs": [],
   "source": [
    "import numpy as np\n",
    "import sklearn\n",
    "from sklearn.pipeline import Pipeline\n",
    "from sklearn.model_selection import GridSearchCV\n",
    "from transformers.wl_graph_kernel_transformer import WLGraphKernelTransformer\n",
    "from transformers.fast_wl_graph_kernel_transformer import FastWLGraphKernelTransformer\n",
    "from transformers.phi_picker_transformer import PhiPickerTransformer\n",
    "import graph_helper\n",
    "import dataset_helper\n",
    "import wl\n",
    "import os\n",
    "import pickle\n",
    "import json\n",
    "import tempfile\n",
    "import gc\n",
    "\n",
    "gc.collect()\n",
    "\n",
    "TARGETS = [\n",
    "    'dataset_graph_cooccurrence_1_only-nouns_ling-spam.npy',\n",
    "    'dataset_graph_cooccurrence_1_all_ling-spam.npy'\n",
    "]\n",
    "\n",
    "for cache_file in dataset_helper.get_all_cached_graph_datasets():\n",
    "    graph_dataset_cache_file = cache_file.split('/')[-1]\n",
    "    \n",
    "    if graph_dataset_cache_file not in TARGETS: continue\n",
    "        \n",
    "    result_file = 'data/results/{}.results.npy'.format(graph_dataset_cache_file)\n",
    "    print('{}\\tDataset File: {}'.format('#' * 10, graph_dataset_cache_file))\n",
    "\n",
    "    if os.path.exists(result_file):\n",
    "        print('\\tAlready calculated result: {}'.format(result_file))\n",
    "        continue\n",
    "\n",
    "    if not os.path.exists(cache_file):\n",
    "        print('\\tCould not find cachefile: \"{}\". Skipping.'.format(cache_file))\n",
    "        continue\n",
    "        \n",
    "    X, Y = dataset_helper.get_dataset_cached(cache_file)\n",
    "    X, Y = np.array(X), np.array(Y)\n",
    "\n",
    "    #cache_dir = tempfile.mkdtemp()\n",
    "    p = Pipeline([\n",
    "        ('wl_transformer', FastWLGraphKernelTransformer()),\n",
    "        ('phi_picker', PhiPickerTransformer()),\n",
    "        ('scaler', None),\n",
    "        ('clf', None)\n",
    "    ])#, memory = cache_dir)\n",
    "\n",
    "    param_grid = dict(\n",
    "        wl_transformer__h=[2],\n",
    "        phi_picker__return_iteration=[-1, 0, 1],\n",
    "        scaler = [sklearn.preprocessing.Normalizer(norm=\"l1\")],\n",
    "        # clf = [sklearn.linear_model.PassiveAggressiveClassifier(max_iter = 1000, tol = 1e-3)],\n",
    "        # clf = [sklearn.svm.LinearSVC()],\n",
    "        # clf = [sklearn.svm.LinearSVR()],\n",
    "        # clf = [sklearn.svm.NuSVC()],\n",
    "        # clf = [sklearn.svm.NuSVR()],\n",
    "        # clf = [sklearn.svm.OneClassSVM()],\n",
    "        clf = [sklearn.linear_model.PassiveAggressiveClassifier(max_iter = 1000)],\n",
    "        # clf = [sklearn.svm.SVR()],\n",
    "        # clf = [sklearn.svm.l1_min_c()],\n",
    "        clf__max_iter=[1000],\n",
    "        clf__tol = [1e-3],\n",
    "        clf__class_weight=['balanced']\n",
    "    )\n",
    "\n",
    "    cv = GridSearchCV(\n",
    "        estimator = p,\n",
    "        param_grid=param_grid,\n",
    "        cv=3,\n",
    "        scoring = 'f1_macro',\n",
    "        n_jobs=1,\n",
    "        verbose = 11\n",
    "    )\n",
    "    \n",
    "    gscv_result = cv.fit(X, Y)\n",
    "    with open(result_file, 'wb') as f:\n",
    "        pickle.dump(gscv_result.cv_results_, f)\n",
    "    break\n",
    "    #gscv_result.best_estimator_, gscv_result.cv_results_"
   ]
  },
  {
   "cell_type": "code",
   "execution_count": null,
   "metadata": {},
   "outputs": [],
   "source": [
    "gscv_result.best_score_, gscv_result.best_params_"
   ]
  }
 ],
 "metadata": {
  "anaconda-cloud": {},
  "kernelspec": {
   "display_name": "Python [conda root]",
   "language": "python",
   "name": "conda-root-py"
  },
  "language_info": {
   "codemirror_mode": {
    "name": "ipython",
    "version": 3
   },
   "file_extension": ".py",
   "mimetype": "text/x-python",
   "name": "python",
   "nbconvert_exporter": "python",
   "pygments_lexer": "ipython3",
   "version": "3.5.3"
  },
  "toc": {
   "colors": {
    "hover_highlight": "#DAA520",
    "navigate_num": "#000000",
    "navigate_text": "#333333",
    "running_highlight": "#FF0000",
    "selected_highlight": "#FFD700",
    "sidebar_border": "#EEEEEE",
    "wrapper_background": "#FFFFFF"
   },
   "moveMenuLeft": true,
   "nav_menu": {
    "height": "4px",
    "width": "254px"
   },
   "navigate_menu": true,
   "number_sections": true,
   "sideBar": true,
   "threshold": 4,
   "toc_cell": false,
   "toc_section_display": "block",
   "toc_window_display": false,
   "widenNotebook": false
  }
 },
 "nbformat": 4,
 "nbformat_minor": 2
}
