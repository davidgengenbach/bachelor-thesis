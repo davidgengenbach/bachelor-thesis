{
 "cells": [
  {
   "cell_type": "markdown",
   "metadata": {},
   "source": [
    "# Baselines"
   ]
  },
  {
   "cell_type": "code",
   "execution_count": null,
   "metadata": {
    "collapsed": true
   },
   "outputs": [],
   "source": [
    "%load_ext autoreload\n",
    "%autoreload 2"
   ]
  },
  {
   "cell_type": "code",
   "execution_count": null,
   "metadata": {},
   "outputs": [],
   "source": [
    "import pandas as pd\n",
    "import helper\n",
    "import matplotlib\n",
    "import matplotlib.pyplot as plt\n",
    "import w2v_d2v\n",
    "import dataset_helper\n",
    "import preprocessing\n",
    "import classifier_baseline\n",
    "import numpy as np\n",
    "import sklearn\n",
    "from sklearn.pipeline import Pipeline\n",
    "from sklearn.linear_model import Perceptron\n",
    "from sklearn.model_selection import GridSearchCV\n",
    "from transformers.wl_graph_kernel_transformer import WLGraphKernelTransformer\n",
    "from transformers.preprocessing_transformer import PreProcessingTransformer\n",
    "import graph_helper\n",
    "import dataset_helper\n",
    "import wl\n",
    "import os\n",
    "import pickle\n",
    "\n",
    "for dataset_name in dataset_helper.get_all_available_dataset_names():\n",
    "    if dataset_name != 'ling-spam': continue\n",
    "            \n",
    "    result_file = 'data/results/text_{}.results.npy'.format(dataset_name)\n",
    "    \n",
    "    if os.path.exists(result_file): continue\n",
    "    \n",
    "    X, Y = dataset_helper.get_dataset(dataset_name, use_cached= True)\n",
    "    \n",
    "    p = Pipeline([\n",
    "        ('preprocessing', None),\n",
    "        ('count_vectorizer', sklearn.feature_extraction.text.CountVectorizer()),\n",
    "        ('TfidfTransformer', sklearn.feature_extraction.text.TfidfTransformer()),\n",
    "        ('clf', None)\n",
    "    ])\n",
    "    \n",
    "    param_grid = dict(\n",
    "        preprocessing = [None, PreProcessingTransformer(only_nouns = True)],\n",
    "        count_vectorizer__stop_words = ['english'],\n",
    "        clf = [sklearn.linear_model.PassiveAggressiveClassifier(max_iter = 1000)],\n",
    "        clf__class_weight = ['balanced']\n",
    "    )\n",
    "\n",
    "    cv = sklearn.model_selection.StratifiedKFold(n_splits = 3, random_state= 42, shuffle= True)\n",
    "    gscv = GridSearchCV(estimator = p, param_grid=param_grid, cv=cv, scoring = 'f1_macro', n_jobs=1, verbose = 11)\n",
    "    gscv_result = gscv.fit(X, Y)\n",
    "    \n",
    "    with open(result_file, 'wb') as f:\n",
    "        pickle.dump(gscv_result.cv_results_, f)\n",
    "    print('Best score:\\t{:.5f}\\nBest params:\\t{}'.format(gscv_result.best_score_, gscv_result.best_params_))"
   ]
  },
  {
   "cell_type": "markdown",
   "metadata": {},
   "source": [
    "## Graphs"
   ]
  },
  {
   "cell_type": "code",
   "execution_count": null,
   "metadata": {},
   "outputs": [
    {
     "name": "stdout",
     "output_type": "stream",
     "text": [
      "##########\tDataset File: dataset_graph_cooccurrence_1_all_cade-ana.npy\n",
      "Fitting 3 folds for each of 6 candidates, totalling 18 fits\n",
      "[CV] phi_picker__return_iteration=0, wl_transformer__h=2, clf__tol=0.001, clf__max_iter=1000, clf=PassiveAggressiveClassifier(C=1.0, average=False, class_weight=None,\n",
      "              fit_intercept=True, loss='hinge', max_iter=1000, n_iter=None,\n",
      "              n_jobs=1, random_state=None, shuffle=True, tol=None,\n",
      "              verbose=0, warm_start=False), scaler=None, clf__class_weight=balanced \n",
      "FastWLGraphKernelTransformer.fit: len(X)=27317, H=2\n",
      "FastWLGraphKernelTransformer.fit: Found empty graphs in training set: 3\n",
      "FastWLGraphKernelTransformer.transform: len(X)=27317, H=2\n",
      "FastWLGraphKernelTransformer.transform: len(X)=13666, H=2\n",
      "FastWLGraphKernelTransformer.transform: len(X)=27317, H=2\n",
      "[CV]  phi_picker__return_iteration=0, wl_transformer__h=2, clf__tol=0.001, clf__max_iter=1000, clf=PassiveAggressiveClassifier(C=1.0, average=False, class_weight=None,\n",
      "              fit_intercept=True, loss='hinge', max_iter=1000, n_iter=None,\n",
      "              n_jobs=1, random_state=None, shuffle=True, tol=None,\n",
      "              verbose=0, warm_start=False), scaler=None, clf__class_weight=balanced, score=0.44670005796411266, total= 7.2min\n"
     ]
    },
    {
     "name": "stderr",
     "output_type": "stream",
     "text": [
      "[Parallel(n_jobs=1)]: Done   1 out of   1 | elapsed:  9.1min remaining:    0.0s\n"
     ]
    },
    {
     "name": "stdout",
     "output_type": "stream",
     "text": [
      "[CV] phi_picker__return_iteration=0, wl_transformer__h=2, clf__tol=0.001, clf__max_iter=1000, clf=PassiveAggressiveClassifier(C=1.0, average=False, class_weight='balanced',\n",
      "              fit_intercept=True, loss='hinge', max_iter=1000, n_iter=None,\n",
      "              n_jobs=1, random_state=None, shuffle=True, tol=0.001,\n",
      "              verbose=0, warm_start=False), scaler=None, clf__class_weight=balanced \n",
      "FastWLGraphKernelTransformer.fit: len(X)=27323, H=2\n",
      "FastWLGraphKernelTransformer.fit: Found empty graphs in training set: 0\n",
      "FastWLGraphKernelTransformer.transform: len(X)=27323, H=2\n",
      "FastWLGraphKernelTransformer.transform: len(X)=13660, H=2\n",
      "FastWLGraphKernelTransformer.transform: len(X)=27323, H=2\n",
      "[CV]  phi_picker__return_iteration=0, wl_transformer__h=2, clf__tol=0.001, clf__max_iter=1000, clf=PassiveAggressiveClassifier(C=1.0, average=False, class_weight='balanced',\n",
      "              fit_intercept=True, loss='hinge', max_iter=1000, n_iter=None,\n",
      "              n_jobs=1, random_state=None, shuffle=True, tol=0.001,\n",
      "              verbose=0, warm_start=False), scaler=None, clf__class_weight=balanced, score=0.4264858431167426, total= 5.0min\n"
     ]
    },
    {
     "name": "stderr",
     "output_type": "stream",
     "text": [
      "[Parallel(n_jobs=1)]: Done   2 out of   2 | elapsed: 15.9min remaining:    0.0s\n"
     ]
    },
    {
     "name": "stdout",
     "output_type": "stream",
     "text": [
      "[CV] phi_picker__return_iteration=0, wl_transformer__h=2, clf__tol=0.001, clf__max_iter=1000, clf=PassiveAggressiveClassifier(C=1.0, average=False, class_weight='balanced',\n",
      "              fit_intercept=True, loss='hinge', max_iter=1000, n_iter=None,\n",
      "              n_jobs=1, random_state=None, shuffle=True, tol=0.001,\n",
      "              verbose=0, warm_start=False), scaler=None, clf__class_weight=balanced \n",
      "FastWLGraphKernelTransformer.fit: len(X)=27326, H=2\n",
      "FastWLGraphKernelTransformer.fit: Found empty graphs in training set: 0\n",
      "FastWLGraphKernelTransformer.transform: len(X)=27326, H=2\n",
      "FastWLGraphKernelTransformer.transform: len(X)=13657, H=2\n",
      "FastWLGraphKernelTransformer.transform: len(X)=27326, H=2\n",
      "[CV]  phi_picker__return_iteration=0, wl_transformer__h=2, clf__tol=0.001, clf__max_iter=1000, clf=PassiveAggressiveClassifier(C=1.0, average=False, class_weight='balanced',\n",
      "              fit_intercept=True, loss='hinge', max_iter=1000, n_iter=None,\n",
      "              n_jobs=1, random_state=None, shuffle=True, tol=0.001,\n",
      "              verbose=0, warm_start=False), scaler=None, clf__class_weight=balanced, score=0.44961704137607067, total= 4.0min\n"
     ]
    },
    {
     "name": "stderr",
     "output_type": "stream",
     "text": [
      "[Parallel(n_jobs=1)]: Done   3 out of   3 | elapsed: 21.3min remaining:    0.0s\n"
     ]
    },
    {
     "name": "stdout",
     "output_type": "stream",
     "text": [
      "[CV] phi_picker__return_iteration=0, wl_transformer__h=2, clf__tol=0.001, clf__max_iter=1000, clf=PassiveAggressiveClassifier(C=1.0, average=False, class_weight='balanced',\n",
      "              fit_intercept=True, loss='hinge', max_iter=1000, n_iter=None,\n",
      "              n_jobs=1, random_state=None, shuffle=True, tol=0.001,\n",
      "              verbose=0, warm_start=False), scaler=Normalizer(copy=False, norm='l1'), clf__class_weight=balanced \n",
      "FastWLGraphKernelTransformer.fit: len(X)=27317, H=2\n",
      "FastWLGraphKernelTransformer.fit: Found empty graphs in training set: 0\n",
      "FastWLGraphKernelTransformer.transform: len(X)=27317, H=2\n",
      "FastWLGraphKernelTransformer.transform: len(X)=13666, H=2\n",
      "FastWLGraphKernelTransformer.transform: len(X)=27317, H=2\n",
      "[CV]  phi_picker__return_iteration=0, wl_transformer__h=2, clf__tol=0.001, clf__max_iter=1000, clf=PassiveAggressiveClassifier(C=1.0, average=False, class_weight='balanced',\n",
      "              fit_intercept=True, loss='hinge', max_iter=1000, n_iter=None,\n",
      "              n_jobs=1, random_state=None, shuffle=True, tol=0.001,\n",
      "              verbose=0, warm_start=False), scaler=Normalizer(copy=False, norm='l1'), clf__class_weight=balanced, score=0.5093891762364315, total= 4.5min\n"
     ]
    },
    {
     "name": "stderr",
     "output_type": "stream",
     "text": [
      "[Parallel(n_jobs=1)]: Done   4 out of   4 | elapsed: 28.1min remaining:    0.0s\n"
     ]
    },
    {
     "name": "stdout",
     "output_type": "stream",
     "text": [
      "[CV] phi_picker__return_iteration=0, wl_transformer__h=2, clf__tol=0.001, clf__max_iter=1000, clf=PassiveAggressiveClassifier(C=1.0, average=False, class_weight='balanced',\n",
      "              fit_intercept=True, loss='hinge', max_iter=1000, n_iter=None,\n",
      "              n_jobs=1, random_state=None, shuffle=True, tol=0.001,\n",
      "              verbose=0, warm_start=False), scaler=Normalizer(copy=False, norm='l1'), clf__class_weight=balanced \n",
      "FastWLGraphKernelTransformer.fit: len(X)=27323, H=2\n",
      "FastWLGraphKernelTransformer.fit: Found empty graphs in training set: 0\n",
      "FastWLGraphKernelTransformer.transform: len(X)=27323, H=2\n",
      "FastWLGraphKernelTransformer.transform: len(X)=13660, H=2\n",
      "FastWLGraphKernelTransformer.transform: len(X)=27323, H=2\n"
     ]
    }
   ],
   "source": [
    "import numpy as np\n",
    "import sklearn\n",
    "from sklearn.pipeline import Pipeline\n",
    "from sklearn.model_selection import GridSearchCV\n",
    "from transformers.wl_graph_kernel_transformer import WLGraphKernelTransformer\n",
    "from transformers.fast_wl_graph_kernel_transformer import FastWLGraphKernelTransformer\n",
    "from transformers.phi_picker_transformer import PhiPickerTransformer\n",
    "import graph_helper\n",
    "import dataset_helper\n",
    "import wl\n",
    "import os\n",
    "import pickle\n",
    "import json\n",
    "import tempfile\n",
    "import gc\n",
    "import traceback\n",
    "import logging\n",
    "\n",
    "logging.basicConfig(level=logging.DEBUG)\n",
    "logger = logging.getLogger(__name__)\n",
    "\n",
    "gc.collect()\n",
    "\n",
    "TARGETS = [\n",
    "    'dataset_graph_gml_ling-spam-single.npy',\n",
    "    'dataset_graph_cooccurrence_1_only-nouns_ling-spam.npy',\n",
    "    'dataset_graph_cooccurrence_2_only-nouns_ling-spam.npy',\n",
    "    'dataset_graph_cooccurrence_3_only-nouns_ling-spam.npy',\n",
    "    'dataset_graph_cooccurrence_4_only-nouns_ling-spam.npy',\n",
    "    'dataset_graph_cooccurrence_1_all_ling-spam.npy'\n",
    "]\n",
    "\n",
    "for cache_file in dataset_helper.get_all_cached_graph_datasets():\n",
    "    graph_dataset_cache_file = cache_file.split('/')[-1]\n",
    "    \n",
    "    #if graph_dataset_cache_file not in TARGETS: continue\n",
    "        \n",
    "    result_file = 'data/results/{}.results.npy'.format(graph_dataset_cache_file)\n",
    "    print('{}\\tDataset File: {}'.format('#' * 10, graph_dataset_cache_file))\n",
    "\n",
    "    if os.path.exists(result_file):\n",
    "        print('\\tAlready calculated result: {}'.format(result_file))\n",
    "        continue\n",
    "\n",
    "    if not os.path.exists(cache_file):\n",
    "        print('\\tCould not find cachefile: \"{}\". Skipping.'.format(cache_file))\n",
    "        continue\n",
    "        \n",
    "    gc.collect()\n",
    "    \n",
    "    X, Y = dataset_helper.get_dataset_cached(cache_file)\n",
    "    X, Y = np.array(X), np.array(Y)\n",
    "    \n",
    "    p = Pipeline([\n",
    "        ('wl_transformer', FastWLGraphKernelTransformer()),\n",
    "        ('phi_picker', PhiPickerTransformer()),\n",
    "        ('scaler', None),\n",
    "        ('clf', None)\n",
    "    ])\n",
    "\n",
    "    param_grid = dict(\n",
    "        wl_transformer__h=[2],\n",
    "        phi_picker__return_iteration=[0, 1, 2],\n",
    "        scaler = [None, sklearn.preprocessing.Normalizer(norm=\"l1\", copy = False)],\n",
    "        clf = [sklearn.linear_model.PassiveAggressiveClassifier(max_iter = 1000)],\n",
    "        clf__max_iter=[1000],\n",
    "        clf__tol = [1e-3],\n",
    "        clf__class_weight=['balanced']\n",
    "    )\n",
    "\n",
    "    cv = sklearn.model_selection.StratifiedKFold(n_splits = 3, random_state= 42, shuffle= True)\n",
    "    gscv = GridSearchCV(\n",
    "        estimator = p,\n",
    "        param_grid=param_grid,\n",
    "        cv=cv,\n",
    "        scoring = 'f1_macro',\n",
    "        n_jobs=1,\n",
    "        verbose = 11\n",
    "    )\n",
    "    if 0 == 1:\n",
    "        try:\n",
    "            gscv_result = gscv.fit(X, Y)\n",
    "        except Exception as e:\n",
    "            logger.exception(e)\n",
    "            print('Error occured during fitting: {}'.format(e))\n",
    "            continue\n",
    "    else:\n",
    "        gscv_result = gscv.fit(X, Y)\n",
    "    with open(result_file, 'wb') as f:\n",
    "        pickle.dump(gscv_result.cv_results_, f)\n",
    "\n"
   ]
  },
  {
   "cell_type": "markdown",
   "metadata": {},
   "source": [
    "## Appendix"
   ]
  },
  {
   "cell_type": "markdown",
   "metadata": {},
   "source": [
    "### Pre-process docs for d2v and w2v"
   ]
  },
  {
   "cell_type": "code",
   "execution_count": null,
   "metadata": {
    "collapsed": true
   },
   "outputs": [],
   "source": [
    "w2v_data_train = [w2v_d2v.w2v_preproess(doc) for doc in data_train_X]\n",
    "w2v_data_test = [w2v_d2v.w2v_preproess(doc) for doc in data_test_X]"
   ]
  },
  {
   "cell_type": "markdown",
   "metadata": {},
   "source": [
    "### Train Doc2Vec"
   ]
  },
  {
   "cell_type": "code",
   "execution_count": null,
   "metadata": {
    "collapsed": true
   },
   "outputs": [],
   "source": [
    "model_d2v = w2v_d2v.train_d2v(w2v_data_train, data_train_Y, iterations = 5)"
   ]
  },
  {
   "cell_type": "code",
   "execution_count": null,
   "metadata": {},
   "outputs": [],
   "source": [
    "scores = w2v_d2v.score_d2v(clfs, data_train_Y, data_test_Y, model_d2v, w2v_data_train, w2v_data_test, steps = 1)"
   ]
  }
 ],
 "metadata": {
  "anaconda-cloud": {},
  "kernelspec": {
   "display_name": "Python [conda root]",
   "language": "python",
   "name": "conda-root-py"
  },
  "language_info": {
   "codemirror_mode": {
    "name": "ipython",
    "version": 3
   },
   "file_extension": ".py",
   "mimetype": "text/x-python",
   "name": "python",
   "nbconvert_exporter": "python",
   "pygments_lexer": "ipython3",
   "version": "3.5.3"
  },
  "toc": {
   "colors": {
    "hover_highlight": "#DAA520",
    "navigate_num": "#000000",
    "navigate_text": "#333333",
    "running_highlight": "#FF0000",
    "selected_highlight": "#FFD700",
    "sidebar_border": "#EEEEEE",
    "wrapper_background": "#FFFFFF"
   },
   "moveMenuLeft": true,
   "nav_menu": {
    "height": "251px",
    "width": "254px"
   },
   "navigate_menu": true,
   "number_sections": true,
   "sideBar": true,
   "threshold": 4,
   "toc_cell": false,
   "toc_section_display": "block",
   "toc_window_display": false,
   "widenNotebook": false
  }
 },
 "nbformat": 4,
 "nbformat_minor": 1
}
