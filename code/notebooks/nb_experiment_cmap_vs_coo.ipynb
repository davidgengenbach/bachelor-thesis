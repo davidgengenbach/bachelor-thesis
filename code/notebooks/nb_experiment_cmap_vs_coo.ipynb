{
 "cells": [
  {
   "cell_type": "markdown",
   "metadata": {},
   "source": [
    "# Experiment: _Concept map vs Co-occurence graphs_"
   ]
  },
  {
   "cell_type": "code",
   "execution_count": null,
   "metadata": {},
   "outputs": [],
   "source": [
    "from notebook_prelude import *"
   ]
  },
  {
   "cell_type": "code",
   "execution_count": null,
   "metadata": {},
   "outputs": [],
   "source": [
    "df = results_helper.get_experiments_by_names(['experiment_graphs_plain'], fetch_predictions=True)"
   ]
  },
  {
   "cell_type": "markdown",
   "metadata": {},
   "source": [
    "## Results"
   ]
  },
  {
   "cell_type": "code",
   "execution_count": null,
   "metadata": {},
   "outputs": [],
   "source": [
    "attr = 'prediction_score_f1_macro'\n",
    "df_ = df.groupby(['dataset', 'type'])[attr].max().to_frame().unstack()\n",
    "df_.columns = df_.columns.droplevel()\n",
    "df_['difference'] =  df_.cooccurrence - df_.concept_map\n",
    "print(df_.to_latex(float_format=\"%.3f\"))\n",
    "df_"
   ]
  },
  {
   "cell_type": "markdown",
   "metadata": {},
   "source": [
    "## Confidence"
   ]
  },
  {
   "cell_type": "code",
   "execution_count": null,
   "metadata": {},
   "outputs": [],
   "source": [
    "df_confidence = significance_test_utils.get_confidences(df, performance_attr=attr, model_selection_attr='type', model_selection_vals=[TYPE_CONCEPT_MAP, TYPE_COOCCURRENCE], log_progress=log_progress_nb)"
   ]
  }
 ],
 "metadata": {
  "language_info": {
   "name": "python",
   "pygments_lexer": "ipython3"
  }
 },
 "nbformat": 4,
 "nbformat_minor": 2
}
