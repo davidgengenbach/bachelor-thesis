{
 "cells": [
  {
   "cell_type": "markdown",
   "metadata": {},
   "source": [
    "# Experiment: _Graphs - Plain WL_"
   ]
  },
  {
   "cell_type": "code",
   "execution_count": null,
   "metadata": {},
   "outputs": [],
   "source": [
    "from notebook_prelude import *"
   ]
  },
  {
   "cell_type": "code",
   "execution_count": null,
   "metadata": {},
   "outputs": [],
   "source": [
    "experiments = ['experiment_graphs_plain', 'experiment_text_plain', 'experiment_text_tfidf']\n",
    "df = results_helper.get_experiments_by_names(experiments, fetch_predictions=True)"
   ]
  },
  {
   "cell_type": "code",
   "execution_count": null,
   "metadata": {},
   "outputs": [],
   "source": [
    "attr = 'prediction_score_f1_macro'\n",
    "best = df.groupby(['dataset', 'text__vectorizer', 'type'])[attr].max().to_frame().unstack().unstack()\n",
    "cols = [\n",
    "    ('prediction_score_f1_macro', 'concept_map', '-'),\n",
    "    ('prediction_score_f1_macro', 'text', 'CountVectorizer'),\n",
    "    ('prediction_score_f1_macro', 'text', 'TfidfVectorizer'),\n",
    "]\n",
    "best[cols]"
   ]
  },
  {
   "cell_type": "code",
   "execution_count": null,
   "metadata": {},
   "outputs": [],
   "source": [
    "df.columns.values.tolist()"
   ]
  }
 ],
 "metadata": {
  "language_info": {
   "name": "python",
   "pygments_lexer": "ipython3"
  }
 },
 "nbformat": 4,
 "nbformat_minor": 2
}
