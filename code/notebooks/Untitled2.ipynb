{
 "cells": [
  {
   "cell_type": "code",
   "execution_count": null,
   "metadata": {},
   "outputs": [],
   "source": [
    "from notebook_prelude import *"
   ]
  },
  {
   "cell_type": "code",
   "execution_count": null,
   "metadata": {},
   "outputs": [],
   "source": [
    "experiment_helper.save_experiment_params_as_experiment_config()"
   ]
  },
  {
   "cell_type": "code",
   "execution_count": null,
   "metadata": {},
   "outputs": [],
   "source": [
    "nested_files = glob('data/results/201*/*nested*.npy')\n",
    "for f in nested_files:\n",
    "    filename = filename_utils.get_filename_only(f)\n",
    "    print(filename)\n",
    "    res = dataset_helper.get_dataset_cached(f, check_validity=False)['results']\n",
    "    keys = [k for k in res.keys() if k.startswith('test_') or k.startswith('train_') or k.startswith('fit_')]\n",
    "    other_keys = [k for k in res.keys() if k not in keys]\n",
    "    for k in keys:\n",
    "        if 'test' not in k or 'f1' not in k: continue\n",
    "        val = res[k]\n",
    "        assert isinstance(val, np.ndarray)\n",
    "        assert len(val)\n",
    "        print('{:30} {:.3f} {:.3f}'.format(k, np.mean(val), np.std(val)))\n",
    "    print()"
   ]
  }
 ],
 "metadata": {
  "language_info": {
   "name": "python",
   "pygments_lexer": "ipython3"
  }
 },
 "nbformat": 4,
 "nbformat_minor": 2
}
