{
 "cells": [
  {
   "cell_type": "markdown",
   "metadata": {},
   "source": [
    "# Experiment: _Relabel graphs_\n",
    "\n",
    "Here, we relabel graph nodes which occur only non-frequent in the dataset. Eg. label 'something' occurs only once in the training set, so relabel with another label that is similar to it and occurs more often."
   ]
  },
  {
   "cell_type": "code",
   "execution_count": null,
   "metadata": {},
   "outputs": [],
   "source": [
    "from notebook_prelude import *"
   ]
  },
  {
   "cell_type": "code",
   "execution_count": null,
   "metadata": {},
   "outputs": [],
   "source": [
    "df = results_helper.get_experiments_by_names(['experiment_relabel'], fetch_predictions=True)\n",
    "df_ = results_helper.get_results(filter_out_non_complete_datasets=None)\n",
    "df = df.append(df_[(df_.combined == False) & (df_.type == TYPE_CONCEPT_MAP)]).fillna('-').reset_index()\n",
    "df = results_helper.filter_out_datasets(df, lambda x: 'RelabelGraphsTransformer' in x.graph_preprocessing.values).reset_index()\n",
    "print('# Results: {}'.format(len(df)))"
   ]
  },
  {
   "cell_type": "code",
   "execution_count": null,
   "metadata": {},
   "outputs": [],
   "source": [
    "df.columns"
   ]
  },
  {
   "cell_type": "code",
   "execution_count": null,
   "metadata": {},
   "outputs": [],
   "source": [
    "#'graph_preprocessing__threshold',\n",
    "d = df[(np.isin(df.type, (TYPE_CONCEPT_MAP))) & (df.kernel == 'wl')].groupby(['dataset',  'graph_preprocessing']).mean_test_f1_macro.max().to_frame().unstack()#.reset_index()\n",
    "#d_ = d[['mean_test_f1_macro']].mean_test_f1_macro.reset_index().set_index('dataset')\n",
    "#d_['ratio_relabeled_vs_plain'] = (d_['RelabelGraphsTransformer'] - d_['-'])\n",
    "#d_\n",
    "d"
   ]
  },
  {
   "cell_type": "code",
   "execution_count": null,
   "metadata": {},
   "outputs": [],
   "source": [
    "best = df.loc[df[(np.isin(df.type, (TYPE_CONCEPT_MAP))) & (df.kernel == 'wl')].groupby(['dataset',  'graph_preprocessing']).mean_test_f1_macro.idxmax()]\n",
    "best[best.dataset == 'ng20'].params"
   ]
  }
 ],
 "metadata": {
  "language_info": {
   "name": "python",
   "pygments_lexer": "ipython3"
  }
 },
 "nbformat": 4,
 "nbformat_minor": 2
}
