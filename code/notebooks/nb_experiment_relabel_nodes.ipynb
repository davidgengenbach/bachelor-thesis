{
 "cells": [
  {
   "cell_type": "markdown",
   "metadata": {},
   "source": [
    "# Experiment: _Relabel graphs_\n",
    "\n",
    "Here, we relabel graph nodes which occur only non-frequent in the dataset. Eg. label 'something' occurs only once in the training set, so relabel with another label that is similar to it and occurs more often."
   ]
  },
  {
   "cell_type": "code",
   "execution_count": null,
   "metadata": {},
   "outputs": [],
   "source": [
    "from notebook_prelude import *"
   ]
  },
  {
   "cell_type": "code",
   "execution_count": null,
   "metadata": {},
   "outputs": [],
   "source": [
    "df = results_helper.get_experiments_by_names(['experiment_relabel'])\n",
    "df_ = results_helper.get_results()\n",
    "df = df.append(df_).fillna('-')\n",
    "print('# Results: {}'.format(len(df)))"
   ]
  },
  {
   "cell_type": "code",
   "execution_count": null,
   "metadata": {},
   "outputs": [],
   "source": [
    "df.columns"
   ]
  },
  {
   "cell_type": "code",
   "execution_count": null,
   "metadata": {},
   "outputs": [],
   "source": [
    "df[(df.combined == False) & (df.type != TYPE_COOCCURRENCE) ].groupby(['dataset', 'type', 'graph_preprocessing', 'graph__phi_picker__use_zeroth']).mean_test_f1_macro.max().to_frame()"
   ]
  },
  {
   "cell_type": "code",
   "execution_count": null,
   "metadata": {},
   "outputs": [],
   "source": [
    "df.features__fast_wl_pipeline__feature_extraction__graph_preprocessing.unique()"
   ]
  }
 ],
 "metadata": {
  "language_info": {
   "name": "python",
   "pygments_lexer": "ipython3"
  }
 },
 "nbformat": 4,
 "nbformat_minor": 2
}
