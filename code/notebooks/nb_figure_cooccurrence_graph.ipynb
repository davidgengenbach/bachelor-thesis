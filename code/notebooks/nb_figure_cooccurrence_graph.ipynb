{
 "cells": [
  {
   "cell_type": "code",
   "execution_count": null,
   "metadata": {},
   "outputs": [],
   "source": [
    "from notebook_prelude import *"
   ]
  },
  {
   "cell_type": "code",
   "execution_count": null,
   "metadata": {},
   "outputs": [],
   "source": [
    "from utils import cooccurrence\n",
    "\n",
    "text = 'Quotation is a serviceable substitute for wit'\n",
    "# https://en.wikiquote.org/wiki/Jorge_Luis_Borges\n",
    "text = 'Universal history is the history of a few metaphors'.lower()\n",
    "graphs = []\n",
    "for window_size in [1, 2, 6]:\n",
    "    mat = cooccurrence.get_coocurrence_matrix(text, window_size=window_size)\n",
    "    g = graph_helper.convert_from_numpy_to_nx(*mat)\n",
    "    graphs.append((window_size, g))"
   ]
  },
  {
   "cell_type": "code",
   "execution_count": null,
   "metadata": {},
   "outputs": [],
   "source": [
    "FOLDER = 'tmp/cooccurrence_graphs_example'\n",
    "os.makedirs(FOLDER, exist_ok=True)\n",
    "for window_size, graph in graphs:\n",
    "    nx.write_dot(graph, '{}/window_size_{}.dot'.format(FOLDER, window_size))"
   ]
  },
  {
   "cell_type": "code",
   "execution_count": null,
   "metadata": {},
   "outputs": [],
   "source": [
    "NUM_ITEMS = len(set(text.split()))\n",
    "ANGLES = 2 * np.pi / NUM_ITEMS\n",
    "FACTOR = 120\n",
    "xys = []\n",
    "for i in range(NUM_ITEMS):\n",
    "    angle_in_rad = ANGLES * i\n",
    "    x, y = np.sin(angle_in_rad), np.cos(angle_in_rad)\n",
    "    xys.append((x, y))\n",
    "xs = [x for x, _ in xys]\n",
    "ys = [y for _, y in xys]\n",
    "max_x = max(xs)\n",
    "min_x = min(xs)\n",
    "max_y = max(ys)\n",
    "min_y = min(ys)\n",
    "xys_ = []\n",
    "for x, y in xys:\n",
    "    x = (x - min_x) * FACTOR\n",
    "    y = (y - min_y) * FACTOR\n",
    "    xys_.append((x, y))\n",
    "print(xys_)\n",
    "pos = ['universal', 'history', 'is', 'the', 'of', 'a', 'few', 'metaphors']\n",
    "for item, (x, y) in zip(pos, xys_):\n",
    "    for file in glob('{}/*.dot'.format(FOLDER)):\n",
    "        with open(file) as f:\n",
    "            graph = f.read()\n",
    "        graph_ = graph.replace('{};'.format(item), '{}[pos = \"{:.2f},{:.2f}!\"];'.format(item, x, y))\n",
    "        with open(file, 'w') as f:\n",
    "            f.write(graph_)"
   ]
  },
  {
   "cell_type": "code",
   "execution_count": null,
   "metadata": {},
   "outputs": [],
   "source": [
    "!cd tmp/cooccurrence_graphs_example && ./convert.sh"
   ]
  },
  {
   "cell_type": "code",
   "execution_count": null,
   "metadata": {},
   "outputs": [],
   "source": [
    "g = graphs[0][1]\n",
    "print(nx.adjacency_matrix(g).todense())\n",
    "for layout in ['circular_layout', 'fruchterman_reingold_layout', 'spectral_layout', 'spring_layout', 'shell_layout']:\n",
    "    l = getattr(nx.layout, layout)\n",
    "    pos = l(g)\n",
    "    fig, axes = plt.subplots(ncols=len(graphs))\n",
    "    for ax, (window_size, graph) in zip(axes, graphs):\n",
    "        nx.draw_networkx(graph, pos = pos, ax=ax)\n",
    "        ax.grid('off')\n",
    "        cleanup_axes(ax)\n",
    "        ax.set_title(window_size)\n",
    "    fig.suptitle(layout)"
   ]
  }
 ],
 "metadata": {
  "language_info": {
   "name": "python",
   "pygments_lexer": "ipython3"
  }
 },
 "nbformat": 4,
 "nbformat_minor": 2
}
