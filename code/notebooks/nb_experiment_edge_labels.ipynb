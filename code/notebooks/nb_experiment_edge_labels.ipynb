{
 "cells": [
  {
   "cell_type": "markdown",
   "metadata": {},
   "source": [
    "# Experiment: _Edge label importance_"
   ]
  },
  {
   "cell_type": "code",
   "execution_count": null,
   "metadata": {},
   "outputs": [],
   "source": [
    "from notebook_prelude import *"
   ]
  },
  {
   "cell_type": "code",
   "execution_count": null,
   "metadata": {},
   "outputs": [],
   "source": [
    "EXPERIMENT_NAME = 'experiment_edge_labels'\n",
    "\n",
    "df = results_helper.get_experiments_by_names([EXPERIMENT_NAME, EXPERIMENT_NAME + '_without_edge', EXPERIMENT_NAME + '_with_edge'], fetch_predictions=True)"
   ]
  },
  {
   "cell_type": "code",
   "execution_count": null,
   "metadata": {},
   "outputs": [],
   "source": [
    "attr = 'prediction_score_f1_macro'\n",
    "groupby = ['dataset', 'graph__graph_to_text__use_edges']\n",
    "df_ = df.groupby(groupby)[attr].max().to_frame().unstack().sort_index()\n",
    "df_.columns = df_.columns.droplevel()\n",
    "df_['p-value'] = confidences\n",
    "df_ = df_.rename(columns={True: 'With', False: 'Without'})\n",
    "df_.columns = df_.columns.values\n",
    "print(\n",
    "    df_.to_latex(float_format = '%.3f')\n",
    ")\n",
    "df_"
   ]
  },
  {
   "cell_type": "code",
   "execution_count": null,
   "metadata": {},
   "outputs": [],
   "source": [
    "from utils import significance_test_utils\n",
    "\n",
    "best = df.loc[df.groupby(groupby)[attr].idxmax()]\n",
    "\n",
    "print('Score A: With edges')\n",
    "print('Score B: Without edges')\n",
    "print()\n",
    "\n",
    "confidences = []\n",
    "for dataset, df_ in best.groupby('dataset'):\n",
    "    assert len(df_) == 2\n",
    "    print(dataset)\n",
    "    df__ = [df_.loc[df_.graph__graph_to_text__use_edges == x].iloc[0] for x in [True, False]]\n",
    "    prediction_filenames = [df___.prediction_file for df___ in df__]\n",
    "    \n",
    "    diffs, score_a, score_b, global_difference, confidence = results_helper.calculate_significance(prediction_filenames[0], prediction_filenames[1])\n",
    "    \n",
    "    for k, v in [('Score A', score_a), ('Score B', score_b), ('Difference', global_difference), ('Confidence', confidence)]:\n",
    "        print('\\t{:20} {:9.4f}'.format(k, v))\n",
    "    print()\n",
    "    confidences.append(confidence)"
   ]
  },
  {
   "cell_type": "markdown",
   "metadata": {},
   "source": [
    "## Statistics about edge label occurrences"
   ]
  },
  {
   "cell_type": "code",
   "execution_count": null,
   "metadata": {},
   "outputs": [],
   "source": [
    "from itertools import chain\n",
    "\n",
    "data = collections.defaultdict(list)\n",
    "for dataset in helper.log_progress(dataset_helper.get_dataset_names_with_concept_map()):\n",
    "    X, Y = dataset_helper.get_concept_map_for_dataset(dataset, graphs_only=True)\n",
    "    edge_labels = [[data['name'] for source, target, data in x.edges(data=True)] for x in X]\n",
    "    flat_edge_labels = list(chain.from_iterable(edge_labels))\n",
    "    labels_set = set(flat_edge_labels)\n",
    "    data['dataset'].append(dataset)\n",
    "    data['edge_labels'].append(flat_edge_labels)"
   ]
  },
  {
   "cell_type": "code",
   "execution_count": null,
   "metadata": {},
   "outputs": [],
   "source": [
    "df = pd.DataFrame(data).set_index('dataset')\n",
    "\n",
    "top_n = 50\n",
    "\n",
    "def get_most_common_labels(c, top=top_n):\n",
    "    sorted_label_occs = sorted(c.items(), key=lambda x: x[1])\n",
    "    return [label for label, occurrences in sorted_label_occs[-top:]]\n",
    "\n",
    "df['edge_labels_unique'] = df.edge_labels.apply(set)\n",
    "df['label_count'] = df.edge_labels.apply(len)\n",
    "df['label_counts'] = df.edge_labels.apply(collections.Counter)\n",
    "df['label_count_unique'] = df.label_counts.apply(len)\n",
    "df['label_count_only_once'] = df.apply(lambda x: len([occs for _, occs in x.label_counts.items() if occs == 1]), axis=1)\n",
    "df['label_ratio_only_once'] = df.label_count_only_once / df.label_count_unique\n",
    "df['label_ratio_only_once_all'] = df.label_count_only_once / df.label_count\n",
    "df['most_common_labels'] = df.label_counts.apply(get_most_common_labels)\n",
    "df['sum_most_common_labels'] = df.apply(lambda x: sum([x.label_counts[label] for label in x.most_common_labels]), axis = 1)\n",
    "df['ratio_most_common_labels'] = df.sum_most_common_labels / (df.label_count - df.label_count_only_once)"
   ]
  },
  {
   "cell_type": "markdown",
   "metadata": {},
   "source": [
    "### Percentage of edge labels occurring only once"
   ]
  },
  {
   "cell_type": "code",
   "execution_count": null,
   "metadata": {},
   "outputs": [],
   "source": [
    "df_ = df.copy().sort_index()\n",
    "df_ = (df_[['label_ratio_only_once', 'label_ratio_only_once_all']] * 100)\n",
    "df_.loc['mean'] = df_.mean()\n",
    "print(df_.to_latex(float_format = '%.0f'))\n",
    "df_"
   ]
  },
  {
   "cell_type": "markdown",
   "metadata": {},
   "source": [
    "### Cumulative edge occurrences"
   ]
  },
  {
   "cell_type": "code",
   "execution_count": null,
   "metadata": {},
   "outputs": [],
   "source": [
    "df_ = df.loc['ng20']\n",
    "cum_sum = pd.Series(sorted(df_.label_counts.values())).cumsum()\n",
    "max_cum_sum = cum_sum.max()\n",
    "x = np.array(range(len(cum_sum)))\n",
    "y = cum_sum\n",
    "fig, ax = plt.subplots(figsize=(11, 4))\n",
    "ax.plot(x, y)\n",
    "\n",
    "only_once_lables = df_.label_count_only_once\n",
    "ax.axvline(only_once_lables, alpha=0.4, color='red')\n",
    "#ax.grid(False)\n",
    "\n",
    "for attr, max_ in [('x', max(x)), ('y', max(y))]:\n",
    "    ticks_attr = 'set_{}ticks'.format(attr)\n",
    "    ticklabels_attr = 'set_{}ticklabels'.format(attr)\n",
    "    ticks = np.linspace(0, max_, 11)\n",
    "    tick_labels = ['{}%'.format(i * 10) for i in range(11)]\n",
    "    getattr(ax, ticks_attr)(ticks)\n",
    "    getattr(ax, ticklabels_attr)(tick_labels)\n",
    "\n",
    "#ax.set_xticks(np.linspace(0, cum_sum, 10))\n",
    "ax.set_ylabel('Cumulative label count')\n",
    "ax.set_xlabel('Labels')\n",
    "fig.tight_layout()"
   ]
  }
 ],
 "metadata": {
  "language_info": {
   "name": "python",
   "pygments_lexer": "ipython3"
  }
 },
 "nbformat": 4,
 "nbformat_minor": 2
}
