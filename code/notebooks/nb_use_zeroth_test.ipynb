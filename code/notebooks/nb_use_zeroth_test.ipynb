{
 "cells": [
  {
   "cell_type": "code",
   "execution_count": null,
   "metadata": {},
   "outputs": [],
   "source": [
    "from notebook_prelude import *"
   ]
  },
  {
   "cell_type": "code",
   "execution_count": null,
   "metadata": {},
   "outputs": [],
   "source": [
    "import experiments\n",
    "from experiments import task_helper\n",
    "import sklearn.model_selection\n",
    "\n",
    "task = [x for x in experiments.get_filtered_tasks(task_type='graph', dataset='ng20') if x.name.count('concept') == 1][0]\n",
    "X, Y, estimator, param_grid = task.fn()"
   ]
  },
  {
   "cell_type": "code",
   "execution_count": null,
   "metadata": {},
   "outputs": [],
   "source": [
    "_param_grid = task_helper.add_classifier_to_params(param_grid)\n",
    "_param_grid['feature_extraction__phi_picker__use_zeroth'] = [False]\n",
    "cv = sklearn.model_selection.StratifiedKFold(n_splits=3, shuffle=True, random_state=42)\n",
    "gscv = sklearn.model_selection.GridSearchCV(estimator, param_grid = _param_grid, scoring = 'f1_macro', cv=cv, verbose=11)\n",
    "gscv_result = gscv.fit(X, Y)"
   ]
  },
  {
   "cell_type": "code",
   "execution_count": null,
   "metadata": {},
   "outputs": [],
   "source": [
    "pd.DataFrame(gscv_result.cv_results_)"
   ]
  },
  {
   "cell_type": "code",
   "execution_count": null,
   "metadata": {},
   "outputs": [],
   "source": []
  }
 ],
 "metadata": {
  "language_info": {
   "name": "python",
   "pygments_lexer": "ipython3"
  }
 },
 "nbformat": 4,
 "nbformat_minor": 2
}
