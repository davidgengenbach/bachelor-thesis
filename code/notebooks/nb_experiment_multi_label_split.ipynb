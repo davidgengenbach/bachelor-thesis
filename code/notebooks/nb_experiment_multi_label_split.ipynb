{
 "cells": [
  {
   "cell_type": "markdown",
   "metadata": {},
   "source": [
    "# Experiment: _Multi-label splitting_\n",
    "\n",
    "The node labels for concept maps often (~80% of the time) consist of more than one word. This experiment tests the effect of splitting these labels and then classifying the graphs afterwards."
   ]
  },
  {
   "cell_type": "code",
   "execution_count": null,
   "metadata": {},
   "outputs": [],
   "source": [
    "from notebook_prelude import *"
   ]
  },
  {
   "cell_type": "code",
   "execution_count": null,
   "metadata": {},
   "outputs": [],
   "source": [
    "EXPERIMENT_NAME = 'experiment_test_split_multi_words'\n",
    "experiment_data = experiment_helper.get_experiment_config_for(EXPERIMENT_NAME)\n",
    "param_grid = experiment_data['params_per_type']\n",
    "df = results_helper.get_results(filter_out_experiment=EXPERIMENT_NAME, filter_out_non_complete_datasets=False).fillna('(MISSING)')\n",
    "\n",
    "df_normal = results_helper.get_results(filter_out_experiment=EXPERIMENT_NAME + '_2', filter_out_non_complete_datasets=False).fillna('(MISSING)')\n",
    "\n",
    "df = df.append(df_normal)\n",
    "\n",
    "datasets = df.dataset.unique()\n",
    "df_text = results_helper.get_results(filter_out_non_complete_datasets=False, only_load_dataset=datasets)\n",
    "df_text = df_text[df_text.type == 'text']\n",
    "df = df.append(df_text).fillna('(MISSING)')\n",
    "pipeline_helper.remove_complex_types(pipeline_helper.flatten_nested_params(param_grid))"
   ]
  },
  {
   "cell_type": "code",
   "execution_count": null,
   "metadata": {},
   "outputs": [],
   "source": [
    "df.groupby(['dataset', 'type', 'graph_preprocessing']).mean_test_f1_macro.max().to_frame()"
   ]
  },
  {
   "cell_type": "code",
   "execution_count": null,
   "metadata": {},
   "outputs": [],
   "source": [
    "df.groupby(['dataset', 'type', 'graph_preprocessing', 'graph_preprocessing__add_self_links', 'graph__phi_picker__use_zeroth']).mean_test_f1_macro.max().to_frame()"
   ]
  }
 ],
 "metadata": {
  "language_info": {
   "name": "python",
   "pygments_lexer": "ipython3"
  }
 },
 "nbformat": 4,
 "nbformat_minor": 2
}
