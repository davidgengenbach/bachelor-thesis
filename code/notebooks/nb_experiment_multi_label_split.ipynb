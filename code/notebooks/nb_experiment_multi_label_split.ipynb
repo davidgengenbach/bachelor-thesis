{
 "cells": [
  {
   "cell_type": "markdown",
   "metadata": {},
   "source": [
    "# Experiment: _Multi-label splitting_\n",
    "\n",
    "The node labels for concept maps often (~80% of the time) consist of more than one word. This experiment tests the effect of splitting these labels and then classifying the graphs afterwards."
   ]
  },
  {
   "cell_type": "code",
   "execution_count": null,
   "metadata": {},
   "outputs": [],
   "source": [
    "from notebook_prelude import *"
   ]
  },
  {
   "cell_type": "code",
   "execution_count": null,
   "metadata": {},
   "outputs": [],
   "source": [
    "NA_VAL = '-'\n",
    "EXPERIMENT_NAME = 'experiment_split_multi_words'\n",
    "\n",
    "df = results_helper.get_experiments_by_names([\n",
    "    EXPERIMENT_NAME + '_with_splitter',\n",
    "    EXPERIMENT_NAME + '_without_splitter',\n",
    "    EXPERIMENT_NAME + '_with_splitter_and_lemmatizer'\n",
    "], fetch_predictions=True)\n",
    "\n",
    "print('# Results: {}'.format(len(df)))"
   ]
  },
  {
   "cell_type": "code",
   "execution_count": null,
   "metadata": {},
   "outputs": [],
   "source": [
    "df['graph__preprocessing__lemmatizer_or_stemmer'] = df.graph__preprocessing__lemmatizer_or_stemmer.apply(lambda x: type(x).__name__)"
   ]
  },
  {
   "cell_type": "code",
   "execution_count": null,
   "metadata": {},
   "outputs": [],
   "source": [
    "df.groupby(['dataset', 'graph__preprocessing__lemmatizer_or_stemmer', 'graph__preprocessing'])[attr].max().to_frame().unstack().unstack()#.dropna(axis=1)"
   ]
  },
  {
   "cell_type": "code",
   "execution_count": null,
   "metadata": {},
   "outputs": [],
   "source": [
    "attr = 'mean_test_f1_macro'\n",
    "attr = 'prediction_score_f1_macro'\n",
    "def get_max_grouped_by(df, groupby, attr = attr):\n",
    "    g = df.groupby(groupby)[attr]\n",
    "    g_ = g.max().to_frame().unstack()\n",
    "    g__ = g.idxmax()\n",
    "    return g_, g__\n",
    "\n",
    "df_ = df[df.type == 'concept_map']\n",
    "groupby = ['dataset', 'graph__preprocessing']\n",
    "\n",
    "df_, df__ = get_max_grouped_by(df_, groupby)\n",
    "df_.columns = df_.columns.droplevel().values\n",
    "df_ = df_.rename(columns={'-': 'not_split', 'GraphMultiWordLabelSplitter': 'split'})\n",
    "df_['difference'] = df_['split'] - df_['not_split']\n",
    "\n",
    "df__ = df__.to_frame().unstack()\n",
    "df_['split_idx'] = df__.values[:,0]\n",
    "df_['not_split_idx'] = df__.values[:,1]\n",
    "df_\n",
    "\n",
    "for idx, x in enumerate(['split_idx', 'not_split_idx']):\n",
    "    df___ = df.loc[df_[x]]\n",
    "    std = df___.std_test_f1_macro\n",
    "    df_[x + '_std'] = std.values\n",
    "    name = x.rsplit('_', 1)[0]\n",
    "    df_[name + '_cv_f1_macro'] = df___.mean_test_f1_macro.values\n",
    "    df_[name + '_pred_f1_macro'] = df___.prediction_score_f1_macro.values\n",
    "#    print(df__.mean_test_f1_macro.values)\n",
    "    \n",
    "df_[['not_split', 'split', 'difference']]\n",
    "#df.loc[df_.split_idx].mean_test_f1_macro"
   ]
  },
  {
   "cell_type": "code",
   "execution_count": null,
   "metadata": {},
   "outputs": [],
   "source": [
    "df_[['not_split', 'split', 'difference']]"
   ]
  },
  {
   "cell_type": "code",
   "execution_count": null,
   "metadata": {},
   "outputs": [],
   "source": [
    "a = df_[['not_split', 'split']]\n",
    "print(a.to_latex())\n",
    "a"
   ]
  },
  {
   "cell_type": "markdown",
   "metadata": {},
   "source": [
    "## Statistics about multi-word node labels"
   ]
  },
  {
   "cell_type": "code",
   "execution_count": null,
   "metadata": {},
   "outputs": [],
   "source": [
    "labels = {}\n",
    "for dataset in log_progress_nb(dataset_helper.get_dataset_names_with_concept_map()):\n",
    "    X, Y = dataset_helper.get_concept_map_for_dataset(dataset)\n",
    "    X = graph_helper.get_graphs_only(X)\n",
    "    node_labels = graph_helper.get_all_node_labels_uniq(X)\n",
    "    labels[dataset] = node_labels"
   ]
  },
  {
   "cell_type": "code",
   "execution_count": null,
   "metadata": {},
   "outputs": [],
   "source": [
    "data = list()\n",
    "for dataset, labels_ in labels.items():\n",
    "    c = collections.Counter()\n",
    "    for l in labels_:\n",
    "        c['multi_word' if len(l.split()) > 1 else 'single_word'] += 1\n",
    "    c['dataset'] = dataset\n",
    "    data.append(c)\n"
   ]
  },
  {
   "cell_type": "code",
   "execution_count": null,
   "metadata": {},
   "outputs": [],
   "source": [
    "df = pd.DataFrame(data).set_index('dataset').sort_index(ascending=False)\n",
    "sum_ = df.single_word + df.multi_word\n",
    "df['Single'] = df.single_word / sum_\n",
    "df['Multi'] = df.multi_word / sum_\n",
    "fig, ax = plt.subplots(figsize=(8, 2.8))\n",
    "\n",
    "(df[['Single', 'Multi']] * 100).plot(kind='barh', stacked=True, ax=ax)\n",
    "ax.set_xlim(0, 113)\n",
    "ax.grid(False)\n",
    "ax.set_xlabel('%')\n",
    "ax.set_ylabel('')\n",
    "ax.legend(loc='upper right')\n",
    "fig.tight_layout()\n",
    "save_fig(fig, 'statistics_percentage_multi_word_labels')"
   ]
  }
 ],
 "metadata": {
  "language_info": {
   "name": "python",
   "pygments_lexer": "ipython3"
  }
 },
 "nbformat": 4,
 "nbformat_minor": 2
}
