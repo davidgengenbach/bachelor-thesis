{
 "cells": [
  {
   "cell_type": "markdown",
   "metadata": {},
   "source": [
    "# Experiment: _Multi-label splitting_\n",
    "\n",
    "The node labels for concept maps often (~80% of the time) consist of more than one word. This experiment tests the effect of splitting these labels and then classifying the graphs afterwards."
   ]
  },
  {
   "cell_type": "code",
   "execution_count": null,
   "metadata": {},
   "outputs": [],
   "source": [
    "from notebook_prelude import *"
   ]
  },
  {
   "cell_type": "code",
   "execution_count": null,
   "metadata": {},
   "outputs": [],
   "source": [
    "NA_VAL = '-'\n",
    "EXPERIMENT_NAME = 'experiment_split_multi_words'\n",
    "\n",
    "df = results_helper.get_experiments_by_names([\n",
    "    EXPERIMENT_NAME + '_with_splitted',\n",
    "    EXPERIMENT_NAME + '_without_splitter'\n",
    "])\n",
    "print('# Results: {}'.format(len(df)))\n",
    "datasets = df.dataset.unique()\n",
    "df_text = results_helper.get_results(filter_out_non_complete_datasets=False, only_load_dataset=datasets)\n",
    "df_text = df_text[(df_text.type == 'text') & (df_text.combined == False)]\n",
    "df = df.append(df_text).fillna(NA_VAL).reset_index()"
   ]
  },
  {
   "cell_type": "code",
   "execution_count": null,
   "metadata": {},
   "outputs": [],
   "source": [
    "def get_max_grouped_by(df, groupby, attr = 'mean_test_f1_macro'):\n",
    "    g = df.groupby(groupby)[attr]\n",
    "    g_ = g.max().to_frame().unstack()\n",
    "    g__ = g.idxmax()\n",
    "    return g_, g__\n",
    "\n",
    "df_ = df[df.type == 'concept_map']\n",
    "groupby = ['dataset', 'graph_preprocessing']\n",
    "\n",
    "df_, df__ = get_max_grouped_by(df_, groupby)\n",
    "df_.columns = df_.columns.droplevel().values\n",
    "df_ = df_.rename(columns={'-': 'not_split', 'GraphMultiWordLabelSplitter': 'split'})\n",
    "df_['difference'] = df_['split'] - df_['not_split']\n",
    "\n",
    "df__ = df__.to_frame().unstack()\n",
    "df_['split_idx'] = df__.values[:,0]\n",
    "df_['not_split_idx'] = df__.values[:,1]\n",
    "df_\n",
    "\n",
    "for idx, x in enumerate(['split_idx', 'not_split_idx']):\n",
    "    df___ = df.loc[df_[x]]\n",
    "    std = df___.std_test_f1_macro\n",
    "    df_[x + '_std'] = std.values\n",
    "    \n",
    "df_\n",
    "#df.loc[df_.split_idx].mean_test_f1_macro"
   ]
  },
  {
   "cell_type": "code",
   "execution_count": null,
   "metadata": {},
   "outputs": [],
   "source": [
    "df_[['not_split', 'split']]"
   ]
  }
 ],
 "metadata": {
  "language_info": {
   "name": "python",
   "pygments_lexer": "ipython3"
  }
 },
 "nbformat": 4,
 "nbformat_minor": 2
}
