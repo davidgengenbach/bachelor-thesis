{
 "cells": [
  {
   "cell_type": "markdown",
   "metadata": {},
   "source": [
    "# Experiment: _Directed vs. undirected concept map_\n",
    "\n",
    "Here we test whether using directed vs. undirected edges results in different scores, and how they differ"
   ]
  },
  {
   "cell_type": "code",
   "execution_count": null,
   "metadata": {},
   "outputs": [],
   "source": [
    "from notebook_prelude import *"
   ]
  },
  {
   "cell_type": "code",
   "execution_count": null,
   "metadata": {},
   "outputs": [],
   "source": [
    "EXPERIMENT_NAME = 'experiment_use_directed'\n",
    "\n",
    "df = pd.DataFrame()\n",
    "for x in [EXPERIMENT_NAME]:\n",
    "    df_ = results_helper.get_results(filter_out_experiment=x, filter_out_non_complete_datasets=False)\n",
    "    df = df.append(df_)\n",
    "\n",
    "print('# Results: {}'.format(len(df)))"
   ]
  },
  {
   "cell_type": "code",
   "execution_count": null,
   "metadata": {},
   "outputs": [],
   "source": [
    "df_ = df.groupby(['dataset', 'graph__fast_wl__use_directed']).mean_test_f1_macro.max().to_frame().unstack()\n",
    "df_['ratio'] = df_.loc[:, ('mean_test_f1_macro', True)] - df_.loc[:, ('mean_test_f1_macro', False)]\n",
    "df_"
   ]
  }
 ],
 "metadata": {
  "language_info": {
   "name": "python",
   "pygments_lexer": "ipython3"
  }
 },
 "nbformat": 4,
 "nbformat_minor": 2
}
