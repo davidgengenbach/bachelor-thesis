{
 "cells": [
  {
   "cell_type": "markdown",
   "metadata": {},
   "source": [
    "# Experiment: _Directed vs. undirected edges_\n",
    "\n",
    "Here we test whether using directed vs. undirected edges results in different scores, and how they differ"
   ]
  },
  {
   "cell_type": "code",
   "execution_count": null,
   "metadata": {},
   "outputs": [],
   "source": [
    "from notebook_prelude import *"
   ]
  },
  {
   "cell_type": "code",
   "execution_count": null,
   "metadata": {},
   "outputs": [],
   "source": [
    "df = results_helper.get_experiments_by_names(['experiment_use_directed'])\n",
    "print('# Results: {}'.format(len(df)))"
   ]
  },
  {
   "cell_type": "markdown",
   "metadata": {},
   "source": [
    "## Results\n",
    "\n",
    "Here we see that using directed edges outperforms non-directed edges (except for _ng20_)"
   ]
  },
  {
   "cell_type": "code",
   "execution_count": null,
   "metadata": {},
   "outputs": [],
   "source": [
    "df_ = df.groupby(['dataset', 'graph__fast_wl__use_directed']).mean_test_f1_macro.max().to_frame().unstack()\n",
    "df_['difference'] = df_.loc[:, ('mean_test_f1_macro', True)] - df_.loc[:, ('mean_test_f1_macro', False)]\n",
    "df_"
   ]
  },
  {
   "cell_type": "code",
   "execution_count": null,
   "metadata": {},
   "outputs": [],
   "source": []
  },
  {
   "cell_type": "code",
   "execution_count": null,
   "metadata": {},
   "outputs": [],
   "source": [
    "print(df_.to_latex())"
   ]
  }
 ],
 "metadata": {
  "language_info": {
   "name": "python",
   "pygments_lexer": "ipython3"
  }
 },
 "nbformat": 4,
 "nbformat_minor": 2
}
