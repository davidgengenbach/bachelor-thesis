{
 "cells": [
  {
   "cell_type": "code",
   "execution_count": null,
   "metadata": {},
   "outputs": [],
   "source": [
    "%%javascript\n",
    "require(\"notebook/js/notebook\").Notebook.prototype.scroll_to_bottom = function () {}"
   ]
  },
  {
   "cell_type": "code",
   "execution_count": null,
   "metadata": {},
   "outputs": [],
   "source": [
    "from notebook_prelude import *"
   ]
  },
  {
   "cell_type": "markdown",
   "metadata": {},
   "source": [
    "## Datasets statistics (Text and Graph)"
   ]
  },
  {
   "cell_type": "code",
   "execution_count": null,
   "metadata": {},
   "outputs": [],
   "source": [
    "from sklearn.feature_extraction.text import CountVectorizer\n",
    "\n",
    "trans = NxGraphToTupleTransformer()\n",
    "\n",
    "def get_graph_type(dataset, graph_type = TYPE_CONCEPT_MAP):\n",
    "    files = [x for x in dataset_helper.get_all_cached_graph_datasets(dataset) if graph_helper.get_graph_type_from_filename(x) == graph_type]\n",
    "    return files\n",
    "\n",
    "\n",
    "LIMIT_DATASET = ['ng20']\n",
    "#LIMIT_DATASET = ['ling-spam']\n",
    "#LIMIT_DATASET = None\n",
    "filtered_datasets = []\n",
    "for dataset in dataset_helper.get_all_available_dataset_names():\n",
    "    if LIMIT_DATASET and dataset not in LIMIT_DATASET: continue\n",
    "    concept_maps = [x for x in get_graph_type(dataset, TYPE_CONCEPT_MAP) if 'v2' in x]\n",
    "    cooccurence_graphs = [x for x in get_graph_type(dataset, TYPE_COOCCURRENCE) if '_cooccurrence_1' in x]\n",
    "    if not len(concept_maps) or not len(cooccurence_graphs): continue\n",
    "    filtered_datasets.append((dataset, concept_maps[0], cooccurence_graphs[0]))\n",
    "\n",
    "data = collections.defaultdict(lambda: [])\n",
    "for dataset, concept_map, cooccurence_graph in helper.log_progress(filtered_datasets):\n",
    "    print('Dataset: {}'.format(dataset))\n",
    "\n",
    "    X, Y = dataset_helper.get_dataset(dataset)\n",
    "    \n",
    "    # Add general dataset statistics\n",
    "    data['dataset'].append(dataset)\n",
    "    data['num_documents'].append(len(X))\n",
    "    data['num_classes'].append(len(set(Y)))\n",
    "\n",
    "    # Add text statistics\n",
    "    count_vec = CountVectorizer()\n",
    "    doc_vecs = count_vec.fit_transform(X)\n",
    "    \n",
    "    all_words = set(count_vec.vocabulary_.keys())\n",
    "    data['document_lengths'].append([len(x) for x in X])\n",
    "    data['num_words'].append(doc_vecs.sum())\n",
    "    data['num_unique_words'].append(len(all_words))\n",
    "    data['median_doc_length'].append(np.median([len(x) for x in X]))\n",
    "    data['median_words_per_doc'].append(np.median(np.squeeze(np.asarray(doc_vecs.sum(axis = 1)))))\n",
    "    \n",
    "    # Add graph statistics\n",
    "    for graph_type, graph_cache_file in [(TYPE_CONCEPT_MAP, concept_map), (TYPE_COOCCURRENCE, cooccurence_graph)]:\n",
    "        X_graph, _ = dataset_helper.get_dataset_cached(graph_cache_file)\n",
    "        trans.transform(X_graph)\n",
    "        \n",
    "        all_labels = []\n",
    "        for _, l in X_graph:\n",
    "            all_labels += l\n",
    "\n",
    "        data['num_nodes_{}'.format(graph_type)].append(len(all_labels))\n",
    "        data['num_unique_nodes_labels_{}'.format(graph_type)].append(len(set(all_labels)))\n",
    "        data['num_edges_{}'.format(graph_type)].append(sum(len(adj.nonzero()[0]) for adj, labels in X_graph))"
   ]
  },
  {
   "cell_type": "markdown",
   "metadata": {},
   "source": [
    "## Graph statistics, eg. ratio_edges_to_nodes"
   ]
  },
  {
   "cell_type": "code",
   "execution_count": null,
   "metadata": {},
   "outputs": [],
   "source": [
    "\n",
    "df = pd.DataFrame(data).set_index('dataset')\n",
    "df['ratio_unique_words'] = df.num_unique_words / df.num_nodes_cooccurrence\n",
    "\n",
    "for graph_type in [TYPE_CONCEPT_MAP, TYPE_COOCCURRENCE]:\n",
    "    df['ratio_edges_to_nodes_{}'.format(graph_type)] = df['num_edges_{}'.format(graph_type)] / df['num_nodes_{}'.format(graph_type)]\n",
    "    df['ratio_nodes_to_words_{}'.format(graph_type)] = df['num_nodes_{}'.format(graph_type)] / df.num_words\n",
    "\n",
    "    \n",
    "df['ratio_unique_words'] = df.num_unique_words / df.num_nodes_cooccurrence\n",
    "df['ratio_ratio_ratio_edges_to_nodes_cmap_to_coo'] = df['ratio_edges_to_nodes_concept-map'] / df['ratio_edges_to_nodes_cooccurrence']\n",
    "for col in ['median_doc_length', 'median_words_per_doc']:\n",
    "    df[col] = df[col].astype(int)\n",
    "\n",
    "df = df[sorted(df.columns)]\n",
    "df"
   ]
  },
  {
   "cell_type": "markdown",
   "metadata": {},
   "source": [
    "### Nodes per graph type"
   ]
  },
  {
   "cell_type": "code",
   "execution_count": null,
   "metadata": {},
   "outputs": [],
   "source": [
    "for t in GRAPH_TYPES:\n",
    "    df['nodes_per_graph_{}'.format(t)] = df['num_edges_{}'.format(t)] / df.num_documents\n",
    "df"
   ]
  },
  {
   "cell_type": "markdown",
   "metadata": {},
   "source": [
    "### Create latex tables for text and graphs"
   ]
  },
  {
   "cell_type": "code",
   "execution_count": null,
   "metadata": {},
   "outputs": [],
   "source": [
    "RENAME_COLS = {\n",
    "    'dataset': {\n",
    "        'num_documents': '# docs', \n",
    "        'classes': '# classes', \n",
    "        'median_words_per_doc': 'median #words/doc',\n",
    "        'ratio_unique_words': '#uniq. words/#words' \n",
    "    },\n",
    "    'graphs': {\n",
    "        'ratio_nodes_to_words_concept-map': '#nodes/#words cmap',\n",
    "        'ratio_nodes_to_words_cooccurrence': '#nodes/#words coo',\n",
    "        'ratio_edges_to_nodes_concept-map': '#edges/#nodes cmap', \n",
    "        'ratio_edges_to_nodes_cooccurrence': '#edges/#nodes coo', \n",
    "        'nodes_per_graph_cooccurrence': '#nodes/graph cmap',\n",
    "        'nodes_per_graph_concept-map': '#nodes/graph coo',\n",
    "    }\n",
    "}\n",
    "\n",
    "df.loc['mean'] = df.mean()\n",
    "\n",
    "for key, rename_cols in RENAME_COLS.items():\n",
    "    df_stats = df[list(rename_cols.keys())].rename(columns = rename_cols)\n",
    "    print(df_stats.to_latex(float_format = '%.2f'))"
   ]
  },
  {
   "cell_type": "code",
   "execution_count": null,
   "metadata": {},
   "outputs": [],
   "source": [
    "with open('tmp/dataset_statistics.npy', 'wb') as f:\n",
    "    pickle.dump(df, f)"
   ]
  },
  {
   "cell_type": "code",
   "execution_count": null,
   "metadata": {},
   "outputs": [],
   "source": [
    "with open('tmp/dataset_statistics.npy', 'rb') as f:\n",
    "    df = pickle.load(f)"
   ]
  },
  {
   "cell_type": "markdown",
   "metadata": {},
   "source": [
    "## Co-Occurrence graph statistics"
   ]
  },
  {
   "cell_type": "markdown",
   "metadata": {},
   "source": [
    "### All-words vs. only-nouns compressino"
   ]
  },
  {
   "cell_type": "code",
   "execution_count": null,
   "metadata": {},
   "outputs": [],
   "source": [
    "WINDOW_SIZE = 1\n",
    "datasets_coo = collections.defaultdict(lambda: {})\n",
    "\n",
    "cooccurrence_graph_files = [x for x in dataset_helper.get_all_cached_graph_datasets() if 'cooccurrence' in x]\n",
    "\n",
    "for graph_cf in cooccurrence_graph_files:\n",
    "    dataset = filename_utils.get_dataset_from_filename(graph_cf)\n",
    "    window_size = filename_utils.get_cooccurrence_window_size_from_filename(graph_cf)\n",
    "    words = filename_utils.get_cooccurrence_words_from_filename(graph_cf)\n",
    "    if window_size != WINDOW_SIZE: continue\n",
    "    if dataset in datasets_coo and words in datasets_coo[dataset]: continue\n",
    "    print(graph_cf)\n",
    "    X, Y = dataset_helper.get_dataset_cached(graph_cf)\n",
    "    all_labels = graph_helper.get_all_node_labels(X)\n",
    "    datasets_coo[dataset][words] = all_labels"
   ]
  },
  {
   "cell_type": "code",
   "execution_count": null,
   "metadata": {},
   "outputs": [],
   "source": [
    "data = collections.defaultdict(lambda: [])\n",
    "for dataset, words in datasets_coo.items():\n",
    "    for word, labels in words.items():\n",
    "        data['dataset'].append(dataset)\n",
    "        data['word'].append(word.replace('-', '_').replace('all', 'all_words'))\n",
    "        data['label_count'].append(len(labels))\n",
    "    \n",
    "df = pd.DataFrame(data)\n",
    "df = df.pivot(index = 'dataset', columns = 'word', values = 'label_count')\n",
    "df['word_ratio'] = df.only_nouns / df.all_words\n",
    "df"
   ]
  }
 ],
 "metadata": {
  "language_info": {
   "name": "python",
   "pygments_lexer": "ipython3"
  }
 },
 "nbformat": 4,
 "nbformat_minor": 2
}
