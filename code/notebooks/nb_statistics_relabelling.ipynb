{
 "cells": [
  {
   "cell_type": "code",
   "execution_count": null,
   "metadata": {},
   "outputs": [],
   "source": [
    "from notebook_prelude import *\n",
    "from relabeling import coreference"
   ]
  },
  {
   "cell_type": "code",
   "execution_count": null,
   "metadata": {},
   "outputs": [],
   "source": [
    "embeddings = glob('data/embeddings/graph-embeddings/*.npy')\n",
    "\n",
    "embedding_data = {}\n",
    "for embedding in embeddings:\n",
    "    filename = embedding.split('/')[-1].replace('.label-lookup.npy', '')\n",
    "    with open(embedding, 'rb') as f:\n",
    "        embedding_data[filename] = pickle.load(f)"
   ]
  },
  {
   "cell_type": "code",
   "execution_count": null,
   "metadata": {},
   "outputs": [],
   "source": [
    "data = collections.defaultdict(lambda: collections.defaultdict(dict))\n",
    "for filename, lookup in embedding_data.items():\n",
    "    dataset, threshold, topn = re.findall(r'(.+?)\\.threshold-(.+?)\\.topn-(.+)', filename)[0]\n",
    "    cliques = coreference.get_cliques_from_lookup(lookup)\n",
    "    clique_sizes = [len(x) for x in cliques.values()]\n",
    "    data[dataset][topn][threshold] = clique_sizes"
   ]
  },
  {
   "cell_type": "code",
   "execution_count": null,
   "metadata": {},
   "outputs": [],
   "source": [
    "for dataset, d in data.items():\n",
    "    for topn, thresholds in d.items():\n",
    "        num_items = len(thresholds.keys())\n",
    "        fig, ax = plt.subplots()\n",
    "        for threshold, clique_size in thresholds.items():\n",
    "            s = pd.Series(clique_size)\n",
    "            # Remove outliers\n",
    "            s = s[s < (s.quantile(0.98))]\n",
    "            s.plot(kind='hist', alpha=0.8, label='threshold={}'.format(threshold), ax = ax, bins=60, logy=True)\n",
    "        ax.set_title('dataset={}, topn={}'.format(dataset, topn))\n",
    "        ax.set_xlabel('clique size')\n",
    "        ax.legend()\n",
    "        fig.tight_layout()\n",
    "        plt.show()\n",
    "        plt.close(fig)"
   ]
  }
 ],
 "metadata": {
  "language_info": {
   "name": "python",
   "pygments_lexer": "ipython3"
  }
 },
 "nbformat": 4,
 "nbformat_minor": 2
}
