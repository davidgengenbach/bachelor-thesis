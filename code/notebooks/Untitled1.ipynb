{
 "cells": [
  {
   "cell_type": "code",
   "execution_count": null,
   "metadata": {},
   "outputs": [],
   "source": [
    "from notebook_prelude import *"
   ]
  },
  {
   "cell_type": "code",
   "execution_count": null,
   "metadata": {},
   "outputs": [],
   "source": [
    "import transformers\n",
    "X, Y = dataset_helper.get_concept_map_for_dataset('ling-spam')\n",
    "X_ = graph_helper.get_graphs_only(X)"
   ]
  },
  {
   "cell_type": "code",
   "execution_count": null,
   "metadata": {},
   "outputs": [],
   "source": [
    "X = X_[:1000]\n",
    "phi_dim = 999999\n",
    "trans = transformers.FastWLGraphKernelTransformer(h=1, use_early_stopping=True, phi_dim=phi_dim, same_label=True)\n",
    "\n",
    "num_train = int(len(X) * 0.9)\n",
    "X_train, X_test = X[:num_train], X[num_train:]\n",
    "\n",
    "print('Fitting total')\n",
    "trans.fit(X)\n",
    "print('Starting total transform')\n",
    "phi_total = trans.transform(X)\n",
    "\n",
    "trans = sklearn.base.copy.copy(trans)\n",
    "\n",
    "print('Fitting split')\n",
    "trans.fit(X_train)\n",
    "print('Starting split transform')\n",
    "phi_train = trans.transform(X_train)\n",
    "phi_test = trans.transform(X_test)"
   ]
  },
  {
   "cell_type": "code",
   "execution_count": null,
   "metadata": {},
   "outputs": [],
   "source": [
    "phi_total_ = phi_total[-1]\n",
    "phi_train_ = phi_train[-1]\n",
    "phi_test_ = phi_test[-1]\n",
    "import scipy\n",
    "phi_total_splitted_ = scipy.sparse.vstack([phi_train_, phi_test_])"
   ]
  },
  {
   "cell_type": "code",
   "execution_count": null,
   "metadata": {},
   "outputs": [],
   "source": [
    "assert phi_total_.shape == phi_total_splitted_.shape\n",
    "def get_gram(phi):\n",
    "    return phi.dot(phi.T)\n",
    "\n",
    "gram_total = get_gram(phi_total_)\n",
    "gram_total_splitted = get_gram(phi_total_splitted_)"
   ]
  },
  {
   "cell_type": "code",
   "execution_count": null,
   "metadata": {},
   "outputs": [],
   "source": [
    "(gram_total.sum(axis=1) - gram_total_splitted.sum(axis=1)).nonzero()"
   ]
  },
  {
   "cell_type": "code",
   "execution_count": null,
   "metadata": {},
   "outputs": [],
   "source": [
    "(gram_total - gram_total_splitted).nonzero()"
   ]
  }
 ],
 "metadata": {
  "language_info": {
   "name": "python",
   "pygments_lexer": "ipython3"
  }
 },
 "nbformat": 4,
 "nbformat_minor": 2
}
