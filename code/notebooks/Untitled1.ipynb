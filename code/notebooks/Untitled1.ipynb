{
 "cells": [
  {
   "cell_type": "code",
   "execution_count": null,
   "metadata": {},
   "outputs": [],
   "source": [
    "from notebook_prelude import *\n",
    "from kernels import fast_wl\n",
    "from utils import primes\n",
    "from utils import graph_metrics"
   ]
  },
  {
   "cell_type": "code",
   "execution_count": null,
   "metadata": {},
   "outputs": [],
   "source": [
    "X, Y = dataset_helper.get_dataset_cached(dataset_helper.get_all_cached_graph_datasets(dataset_name='ng20', graph_type=TYPE_CONCEPT_MAP)[0])\n",
    "X = graph_helper.get_graphs_only(X)\n",
    "node_weight_factors = graph_metrics.get_node_weights_for_nxgraphs(X, graph_metrics.nxgraph_degrees_metric)\n",
    "all_nodes = graph_helper.get_all_node_labels(X)\n",
    "X = graph_helper.convert_graphs_to_adjs_tuples(X, copy = True)"
   ]
  },
  {
   "cell_type": "code",
   "execution_count": null,
   "metadata": {},
   "outputs": [],
   "source": [
    "import scipy.sparse\n",
    "from kernels.fast_fast_wl import transform\n",
    "\n",
    "adjs, labels = zip(*X)\n",
    "\n",
    "_node_weight_factors = node_weight_factors\n",
    "phi_lists = transform(adjs, labels, h = 10, node_weight_factors = _node_weight_factors)\n",
    "for phi in phi_lists:\n",
    "    assert phi.shape[0] == len(adjs)\n",
    "    assert phi.shape[1] == len(all_nodes)"
   ]
  },
  {
   "cell_type": "code",
   "execution_count": null,
   "metadata": {},
   "outputs": [],
   "source": [
    "phi_files = glob('data/CACHE/*.fast_wl.*.npy')\n",
    "for phi_file in phi_files:\n",
    "    metric = phi_file.split('.')[-2]\n",
    "    phi_lists, Y = dataset_helper.get_dataset_cached(phi_file, check_validity=False)\n",
    "    num_phis = len(phi_lists)\n",
    "    if num_phis == 21:\n",
    "        print(phi_file)"
   ]
  }
 ],
 "metadata": {
  "language_info": {
   "name": "python",
   "pygments_lexer": "ipython3"
  }
 },
 "nbformat": 4,
 "nbformat_minor": 2
}
