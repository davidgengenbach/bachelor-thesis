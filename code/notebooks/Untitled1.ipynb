{
 "cells": [
  {
   "cell_type": "code",
   "execution_count": null,
   "metadata": {},
   "outputs": [],
   "source": [
    "from notebook_prelude import *\n",
    "import experiments\n",
    "from experiments import task_helper, task_runner\n",
    "from preprocessing import preprocessing"
   ]
  },
  {
   "cell_type": "code",
   "execution_count": null,
   "metadata": {},
   "outputs": [],
   "source": [
    "X, Y = dataset_helper.get_dataset('imsdb')\n",
    "X = [preprocessing.preprocess(x) for x in X]"
   ]
  },
  {
   "cell_type": "code",
   "execution_count": null,
   "metadata": {},
   "outputs": [],
   "source": [
    "word_counts = [len(x.split()) for x in X]"
   ]
  },
  {
   "cell_type": "code",
   "execution_count": null,
   "metadata": {},
   "outputs": [],
   "source": [
    "fig, ax = plt.subplots()\n",
    "df = pd.DataFrame(word_counts, columns = ['num_words'])\n",
    "df.num_words.plot(kind='hist', bins=60)\n",
    "ax.axvline(df.num_words.median(), c='red')\n",
    "ax.text(df.num_words.median(), -10, df.num_words.median(), fontdict=dict(horizontalalignment='center'))\n",
    "ax.grid('off')\n",
    "ax.set_xlabel('# words per document')"
   ]
  },
  {
   "cell_type": "code",
   "execution_count": null,
   "metadata": {},
   "outputs": [],
   "source": [
    "task = experiments.get_filtered_tasks(\n",
    "    task_type='graph_combined',\n",
    "    dataset='ng20',\n",
    "    graph_type_filter=TYPE_CONCEPT_MAP\n",
    ")[0]\n",
    "X_, Y_, estimator_, params_ = task.fn()"
   ]
  },
  {
   "cell_type": "code",
   "execution_count": null,
   "metadata": {},
   "outputs": [],
   "source": [
    "X, Y, estimator, params = np.copy(X_), np.copy(Y_), sklearn.base.clone(estimator_), dict(**params_)\n",
    "params = task_helper.add_classifier_to_params(params)\n",
    "print(params)\n",
    "assert False\n",
    "#params['feature_extraction__fast_wl__ignore_label_order'] = [True, False]\n",
    "params['features__fast_wl_pipeline__feature_extraction__feature_extraction__fast_wl__ignore_label_order'] = [True, False]\n",
    "\n",
    "X_train, X_test, Y_train, Y_test, train_i, test_i = task_runner.train_test_split(\n",
    "    X,\n",
    "    Y,\n",
    "    test_size=0.15,\n",
    "    random_state=42,\n",
    "    is_precomputed=False\n",
    ")\n",
    "\n",
    "cv = sklearn.model_selection.StratifiedKFold(\n",
    "    n_splits=3,\n",
    "    random_state=42,\n",
    "    shuffle=True\n",
    ")\n",
    "\n",
    "\n",
    "gscv = sklearn.model_selection.GridSearchCV(estimator, param_grid=params, scoring='f1_macro', cv=cv, verbose=10)\n",
    "gscv_result = gscv.fit(X_train, Y_train)"
   ]
  },
  {
   "cell_type": "code",
   "execution_count": null,
   "metadata": {},
   "outputs": [],
   "source": [
    "gscv_result.cv_results_['mean_test_score']"
   ]
  }
 ],
 "metadata": {
  "language_info": {
   "name": "python",
   "pygments_lexer": "ipython3"
  }
 },
 "nbformat": 4,
 "nbformat_minor": 2
}
