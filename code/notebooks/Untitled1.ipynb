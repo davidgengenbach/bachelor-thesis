{
 "cells": [
  {
   "cell_type": "code",
   "execution_count": null,
   "metadata": {},
   "outputs": [],
   "source": [
    "from notebook_prelude import *"
   ]
  },
  {
   "cell_type": "code",
   "execution_count": null,
   "metadata": {},
   "outputs": [],
   "source": [
    "from experiments import get_all_tasks\n",
    "import sklearn.model_selection\n",
    "from transformers.pipelines.classifiers import get_classifier_params"
   ]
  },
  {
   "cell_type": "code",
   "execution_count": null,
   "metadata": {},
   "outputs": [],
   "source": [
    "task_type = 'graph_combined'\n",
    "dataset = 'ng20'\n",
    "graph_type = 'concept-map'\n",
    "version = 'v2'\n",
    "\n",
    "all_tasks = get_all_tasks()\n",
    "filtered_tasks = [t for t in all_tasks if t.type == task_type and dataset in t.name and graph_type in t.name and version in t.name]\n",
    "\n",
    "assert len(filtered_tasks) == 1"
   ]
  },
  {
   "cell_type": "code",
   "execution_count": null,
   "metadata": {},
   "outputs": [],
   "source": [
    "task = filtered_tasks[0]\n",
    "X, Y, estimator, param_grid = task.fn()\n",
    "X, Y = np.array(X), np.array(Y)"
   ]
  },
  {
   "cell_type": "code",
   "execution_count": null,
   "metadata": {},
   "outputs": [],
   "source": [
    "classifier_params = get_classifier_params()\n",
    "param_grid = dict(classifier_params, **param_grid)\n",
    "params = list(sklearn.model_selection.ParameterGrid(param_grid))\n",
    "param = [x for x in params if x['features__text__vectorizer__vectorizer__binary']][0]"
   ]
  },
  {
   "cell_type": "code",
   "execution_count": null,
   "metadata": {},
   "outputs": [],
   "source": [
    "X_train, X_test, Y_train, Y_test = sklearn.model_selection.train_test_split(X, Y, stratify = Y, test_size = 0.2, random_state = 42)    "
   ]
  },
  {
   "cell_type": "code",
   "execution_count": null,
   "metadata": {},
   "outputs": [],
   "source": [
    "estimator.set_params(**param)\n",
    "Y_pred_train = estimator.fit(X_train, Y_train)"
   ]
  },
  {
   "cell_type": "code",
   "execution_count": null,
   "metadata": {},
   "outputs": [],
   "source": [
    "Y_pred_test = estimator.predict(X_test)"
   ]
  },
  {
   "cell_type": "code",
   "execution_count": null,
   "metadata": {},
   "outputs": [],
   "source": [
    "sklearn.metrics.f1_score(Y_test, Y_pred_test, average = 'macro')"
   ]
  },
  {
   "cell_type": "code",
   "execution_count": null,
   "metadata": {},
   "outputs": [],
   "source": [
    "clf = estimator.named_steps['classifier']\n",
    "# one-vs-rest\n",
    "coefs = np.sum(clf.coef_, axis = 0)\n",
    "coefs_idx = np.argsort(coefs)\n",
    "\n",
    "def get_fast_wl_vectorizer(estimator):\n",
    "    pass\n",
    "\n",
    "def get_feature_transformer(estimator, transformer_name):\n",
    "    return [pipe for name, pipe in estimator.named_steps['features'].transformer_list if name == transformer_name][0]\n",
    "\n",
    "def get_text_vectorizer(pipeline):\n",
    "    return get_feature_transformer(estimator, 'text').named_steps['vectorizer'].named_steps['vectorizer']\n",
    "\n",
    "def get_text_features(pipeline):\n",
    "    return get_text_vectorizer(pipeline).vocabulary_\n",
    "\n",
    "text_features = get_text_features(estimator)\n",
    "trans_fast_wl = get_feature_transformer(estimator, 'fast_wl_pipeline').named_steps['feature_extraction'].named_steps['feature_extraction'].named_steps['fast_wl']\n",
    "\n",
    "len_features_combined = coefs.shape[0]\n",
    "len_text_features = len(text_features)\n",
    "len_graph_features_simple = trans_fast_wl.phi_list[-1].shape[1]\n",
    "\n",
    "\n",
    "for idx, coef in enumerate(reversed(coefs_idx)):\n",
    "    if coef > len(text_features):\n",
    "        print(idx)\n"
   ]
  },
  {
   "cell_type": "code",
   "execution_count": null,
   "metadata": {},
   "outputs": [],
   "source": [
    "top = 100\n",
    "highest = coefs_idx[-top - 1:]\n",
    "lowest = coefs_idx[:top]\n",
    "highest_vals = coefs[highest]\n",
    "lowest_vals = coefs[lowest]\n",
    "fig, ax = plt.subplots()\n",
    "pd.DataFrame(list(highest_vals) + list(lowest_vals)).sort_values(0)[0].plot(kind = 'bar', ax = ax)\n",
    "ax.grid('off')"
   ]
  }
 ],
 "metadata": {
  "language_info": {
   "name": "python",
   "pygments_lexer": "ipython3"
  }
 },
 "nbformat": 4,
 "nbformat_minor": 2
}
