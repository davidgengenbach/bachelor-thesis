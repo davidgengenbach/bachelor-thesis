{
 "cells": [
  {
   "cell_type": "code",
   "execution_count": null,
   "metadata": {},
   "outputs": [],
   "source": [
    "from notebook_prelude import *"
   ]
  },
  {
   "cell_type": "code",
   "execution_count": null,
   "metadata": {},
   "outputs": [],
   "source": [
    "X, Y = dataset_helper.get_dataset_cached('data/CACHE/dataset_graph_cooccurrence_1_only-nouns_un-lemmatized_ling-spam.npy')"
   ]
  },
  {
   "cell_type": "code",
   "execution_count": null,
   "metadata": {},
   "outputs": [],
   "source": [
    "from transformers.fast_wl_graph_kernel_transformer import FastWLGraphKernelTransformer\n",
    "from utils import graph_metrics\n",
    "trans = FastWLGraphKernelTransformer(node_weight_function=graph_metrics.nxgraph_degrees_metric)\n",
    "graphs = [x for x in X if len(x.nodes()) == 0] + X[0:1]\n",
    "trans.fit(graphs)"
   ]
  }
 ],
 "metadata": {
  "language_info": {
   "name": "python",
   "pygments_lexer": "ipython3"
  }
 },
 "nbformat": 4,
 "nbformat_minor": 2
}
