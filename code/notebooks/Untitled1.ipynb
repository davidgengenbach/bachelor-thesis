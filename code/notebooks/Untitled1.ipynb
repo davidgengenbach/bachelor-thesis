{
 "cells": [
  {
   "cell_type": "code",
   "execution_count": null,
   "metadata": {},
   "outputs": [],
   "source": [
    "from notebook_prelude import *"
   ]
  },
  {
   "cell_type": "code",
   "execution_count": null,
   "metadata": {},
   "outputs": [],
   "source": [
    "phi_files = glob('data/CACHE/*.fast_wl.*.npy')\n",
    "for phi_file in phi_files:\n",
    "    parts = phi_file.split('.')\n",
    "    labels = parts[-2]\n",
    "    metric = parts[-3]\n",
    "    phi_lists, Y = dataset_helper.get_dataset_cached(phi_file, check_validity=False)\n",
    "    num_phis = len(phi_lists)\n",
    "    print(num_phis, labels, metric, phi_file)"
   ]
  },
  {
   "cell_type": "code",
   "execution_count": null,
   "metadata": {},
   "outputs": [],
   "source": [
    "from transformers.phi_picker_transformer import PhiPickerTransformer\n",
    "from transformers.pipelines.classifiers import get_classifier_params\n",
    "import sklearn.pipeline\n",
    "import sklearn.model_selection\n",
    "\n",
    "phi_picker = PhiPickerTransformer()\n",
    "\n",
    "estimator = sklearn.pipeline.Pipeline([\n",
    "    #('phi_picker', phi_picker),\n",
    "    ('normalizer', sklearn.preprocessing.MaxAbsScaler()),\n",
    "    ('classifier', None)\n",
    "])\n",
    "param_grid = dict()\n",
    "param_grid = dict(param_grid, **get_classifier_params())\n",
    "cv = sklearn.model_selection.StratifiedKFold(n_splits=3, shuffle=True, random_state=42)\n",
    "\n",
    "gscv = sklearn.model_selection.GridSearchCV(estimator, param_grid=param_grid, scoring='f1_macro', cv=cv, verbose=11)"
   ]
  },
  {
   "cell_type": "code",
   "execution_count": null,
   "metadata": {},
   "outputs": [],
   "source": [
    "phi_files = glob('data/CACHE/*.fast_wl.*.npy')\n",
    "for phi_file in phi_files:\n",
    "    dataset = filename_utils.get_dataset_from_filename(phi_file)\n",
    "    if dataset not in ['ng20']: continue\n",
    "    if 'same_label' in phi_file: continue\n",
    "    if 'concept' not in phi_file: continue\n",
    "    if 'none' not in phi_file: continue\n",
    "    print(phi_file)\n",
    "    phi_lists, Y = dataset_helper.get_dataset_cached(phi_file, check_validity=False)\n",
    "    gscv_result = gscv.fit(phi_picker.transform(phi_lists), Y)\n",
    "    break"
   ]
  },
  {
   "cell_type": "code",
   "execution_count": null,
   "metadata": {},
   "outputs": [],
   "source": [
    "pd.DataFrame(gscv_result.cv_results_)"
   ]
  },
  {
   "cell_type": "code",
   "execution_count": null,
   "metadata": {},
   "outputs": [],
   "source": [
    "phi_file"
   ]
  }
 ],
 "metadata": {
  "language_info": {
   "name": "python",
   "pygments_lexer": "ipython3"
  }
 },
 "nbformat": 4,
 "nbformat_minor": 2
}
