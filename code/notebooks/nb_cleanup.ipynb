{
 "cells": [
  {
   "cell_type": "code",
   "execution_count": null,
   "metadata": {},
   "outputs": [],
   "source": [
    "from notebook_prelude import *"
   ]
  },
  {
   "cell_type": "markdown",
   "metadata": {},
   "source": [
    "## Remove coefs from results"
   ]
  },
  {
   "cell_type": "code",
   "execution_count": null,
   "metadata": {},
   "outputs": [],
   "source": [
    "from glob import glob\n",
    "from utils import results_helper\n",
    "from utils.remove_coefs_from_results import remove_coefs_from_results\n",
    "import pickle\n",
    "\n",
    "folder = results_helper.get_result_folders()[-1]\n",
    "result_files = glob('{}/*.npy'.format(folder))\n",
    "\n",
    "for file in helper.log_progress(result_files):\n",
    "    with open(file, 'rb') as f:\n",
    "        res = pickle.load(f)\n",
    "    found = remove_coefs_from_results(res['results'])\n",
    "    if found:\n",
    "        with open(file, 'wb') as f:\n",
    "            pickle.dump(res, f)"
   ]
  }
 ],
 "metadata": {
  "language_info": {
   "name": "python",
   "pygments_lexer": "ipython3"
  }
 },
 "nbformat": 4,
 "nbformat_minor": 2
}
