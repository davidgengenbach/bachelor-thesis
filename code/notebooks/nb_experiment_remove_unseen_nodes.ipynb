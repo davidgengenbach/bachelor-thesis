{
 "cells": [
  {
   "cell_type": "markdown",
   "metadata": {},
   "source": [
    "# Experiment: _Remove unseen nodes_\n",
    "\n",
    "Here, we remove nodes that have not been seen in training."
   ]
  },
  {
   "cell_type": "code",
   "execution_count": null,
   "metadata": {},
   "outputs": [],
   "source": [
    "from notebook_prelude import *"
   ]
  },
  {
   "cell_type": "code",
   "execution_count": null,
   "metadata": {},
   "outputs": [],
   "source": [
    "df = results_helper.get_experiments_by_names(['experiment_remove_unseen_nodes'], fetch_predictions=True)\n",
    "print('# Results: {}'.format(len(df)))"
   ]
  },
  {
   "cell_type": "code",
   "execution_count": null,
   "metadata": {},
   "outputs": [],
   "source": [
    "d = df.groupby(['dataset', 'graph_preprocessing']).mean_test_f1_macro.max().to_frame().unstack()\n",
    "d.columns = d.columns.droplevel()\n",
    "d = d.rename(columns={'-': 'plain'})\n",
    "d['difference'] = d['plain'] - d['RemoveNewGraphNodes']\n",
    "d"
   ]
  },
  {
   "cell_type": "code",
   "execution_count": null,
   "metadata": {},
   "outputs": [],
   "source": [
    "for idx, df_ in df.loc[df[df.dataset=='ng20'].groupby('graph_preprocessing').mean_test_f1_macro.idxmax()].iterrows():\n",
    "    print(df_.graph_preprocessing)\n",
    "    res = get_pickle(df_.prediction_file)['results']\n",
    "    X_test = res['X_test']\n"
   ]
  },
  {
   "cell_type": "code",
   "execution_count": null,
   "metadata": {},
   "outputs": [],
   "source": [
    "bdf.columns"
   ]
  },
  {
   "cell_type": "markdown",
   "metadata": {},
   "source": [
    "## _ng20_ test"
   ]
  },
  {
   "cell_type": "code",
   "execution_count": null,
   "metadata": {},
   "outputs": [],
   "source": [
    "X, Y = dataset_helper.get_concept_map_for_dataset('rotten_imdb')\n",
    "X = graph_helper.get_graphs_only(X)"
   ]
  },
  {
   "cell_type": "code",
   "execution_count": null,
   "metadata": {},
   "outputs": [],
   "source": [
    "X_train, X_test, Y_train, Y_test = sklearn.model_selection.train_test_split(X, Y, stratify=Y, test_size=0.2)\n",
    "t = transformers.RemoveNewGraphNodes()\n",
    "print('Fit')\n",
    "t.fit(X_train)\n",
    "print('Transform')\n",
    "print('\\tTrain')\n",
    "X_train_ = t.transform(X_train)\n",
    "print('\\tTest')\n",
    "X_test_ = t.transform(X_test)"
   ]
  },
  {
   "cell_type": "code",
   "execution_count": null,
   "metadata": {},
   "outputs": [],
   "source": [
    "train_labels = graph_helper.get_all_node_labels_uniq(X_train_, as_sorted_list=False)\n",
    "test_labels = graph_helper.get_all_node_labels_uniq(X_test_, as_sorted_list=False)\n",
    "assert len(train_labels) == len(t.train_labels_)\n",
    "assert len(test_labels) <= len(train_labels)"
   ]
  },
  {
   "cell_type": "code",
   "execution_count": null,
   "metadata": {},
   "outputs": [],
   "source": [
    "labels_c_train = collections.Counter(train_labels)\n",
    "labels_c_test = collections.Counter(test_labels)\n",
    "sum(labels_c_test.values())"
   ]
  },
  {
   "cell_type": "code",
   "execution_count": null,
   "metadata": {},
   "outputs": [],
   "source": [
    "t_wl = transformers.FastWLGraphKernelTransformer()\n",
    "\n",
    "phis_train = t_wl.fit_transform(X_train_)\n",
    "phis_test = t_wl.transform(X_test_)"
   ]
  },
  {
   "cell_type": "code",
   "execution_count": null,
   "metadata": {},
   "outputs": [],
   "source": [
    "phis_train[0].sum(), phis_test[0].sum()"
   ]
  },
  {
   "cell_type": "code",
   "execution_count": null,
   "metadata": {},
   "outputs": [],
   "source": [
    "np.where(np.array([1, 2]) < 1, 0, 1)"
   ]
  },
  {
   "cell_type": "code",
   "execution_count": null,
   "metadata": {},
   "outputs": [],
   "source": [
    "def get_graphs(as_adj=False):\n",
    "    g_train = nx.DiGraph()\n",
    "    g_train.add_edge('A', 'B')\n",
    "    g_train.add_edge('A', 'C')\n",
    "    g_train.add_edge('B', 'C')\n",
    "\n",
    "    g_test = nx.DiGraph()\n",
    "    g_test.add_edge('A', 'B')\n",
    "    g_test.add_edge('A', 'C')\n",
    "\n",
    "    if as_adj:\n",
    "        g_test = graph_helper.convert_graphs_to_adjs_tuples([g_test], copy=True)[0]\n",
    "        g_train = graph_helper.convert_graphs_to_adjs_tuples([g_train], copy=True)[0]\n",
    "\n",
    "    return g_train, g_test\n",
    "\n",
    "\n",
    "def get_phi_list(X_train = None, X_test = None, **fast_wl_params):\n",
    "    t = transformers.FastWLGraphKernelTransformer(**fast_wl_params)\n",
    "    if X_train is None or X_test is None:\n",
    "        g_train, g_test = get_graphs()\n",
    "    phi_list_train = t.fit_transform([g_train])\n",
    "    phi_list_test = t.transform([g_test])\n",
    "    return phi_list_train, phi_list_test\n",
    "\n",
    "phis_train, phis_test = get_phi_list(h=5, use_early_stopping=True)\n",
    "assert len(phis_train) == len(phis_test)\n",
    "phis_train[-1].todense(), phis_test[-1].todense()"
   ]
  }
 ],
 "metadata": {
  "language_info": {
   "name": "python",
   "pygments_lexer": "ipython3"
  }
 },
 "nbformat": 4,
 "nbformat_minor": 2
}
