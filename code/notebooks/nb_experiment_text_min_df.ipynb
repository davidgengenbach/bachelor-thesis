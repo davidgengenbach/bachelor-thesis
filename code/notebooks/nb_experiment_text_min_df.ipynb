{
 "cells": [
  {
   "cell_type": "markdown",
   "metadata": {},
   "source": [
    "# Experiment: _Minimum frequency_\n",
    "\n",
    "A lot of labels only occur infrequent, yet they are counted by BoW.\n",
    "This is a test whether a higher cut-off worsens the performance."
   ]
  },
  {
   "cell_type": "code",
   "execution_count": null,
   "metadata": {},
   "outputs": [],
   "source": [
    "from notebook_prelude import *"
   ]
  },
  {
   "cell_type": "code",
   "execution_count": null,
   "metadata": {},
   "outputs": [],
   "source": [
    "df = results_helper.get_experiments_by_names(['experiment_min_df_{}'.format(x) for x in [1, 2]], fetch_predictions=True)\n",
    "attr = 'prediction_score_f1_macro'\n",
    "#attr = 'mean_test_f1_macro'\n",
    "group_attr = 'text__vectorizer__min_df'\n",
    "\n",
    "best = df.groupby(['dataset', group_attr])[attr].max().to_frame().unstack()\n",
    "print(best.to_latex(float_format=\"%.3f\"))\n",
    "best"
   ]
  }
 ],
 "metadata": {
  "language_info": {
   "name": "python",
   "pygments_lexer": "ipython3"
  }
 },
 "nbformat": 4,
 "nbformat_minor": 2
}
