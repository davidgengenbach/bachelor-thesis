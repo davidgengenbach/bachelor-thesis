{
 "cells": [
  {
   "cell_type": "markdown",
   "metadata": {},
   "source": [
    "# Example: _linearized Graph_ (Graph-to-text)"
   ]
  },
  {
   "cell_type": "code",
   "execution_count": null,
   "metadata": {},
   "outputs": [],
   "source": [
    "from notebook_prelude import *"
   ]
  },
  {
   "cell_type": "code",
   "execution_count": null,
   "metadata": {},
   "outputs": [],
   "source": [
    "DATASET = 'ng20'\n",
    "X, Y = dataset_helper.get_concept_map_combined_dataset_for_dataset(DATASET)\n",
    "graphs, texts, _ = zip(*X)"
   ]
  },
  {
   "cell_type": "code",
   "execution_count": null,
   "metadata": {},
   "outputs": [],
   "source": [
    "def draw_graph(g):\n",
    "    fig, ax = plt.subplots(figsize=(10, 10))\n",
    "    pos = nx.layout.spring_layout(g)\n",
    "    nx.draw_networkx(g, pos=pos, ax=ax)\n",
    "    edges={(source, target): data['name'] for source, target, data in g.edges(data=True)}\n",
    "    nx.draw_networkx_edge_labels(g, pos=pos, ax=ax, edge_labels=edges)\n",
    "    ax.grid(False)\n",
    "    fig.tight_layout()\n",
    "    ax.set_xticks([])\n",
    "    ax.set_yticks([])\n",
    "    return fig, ax"
   ]
  },
  {
   "cell_type": "code",
   "execution_count": null,
   "metadata": {},
   "outputs": [],
   "source": [
    "node_range = range(4, 10)\n",
    "candidates = [idx for idx, g in enumerate(graphs) if nx.number_of_nodes(g) in node_range]\n",
    "idx = np.random.choice(candidates)\n",
    "\n",
    "g = graphs[idx]\n",
    "t = texts[idx]\n",
    "\n",
    "_ = draw_graph(g)"
   ]
  },
  {
   "cell_type": "code",
   "execution_count": null,
   "metadata": {},
   "outputs": [],
   "source": [
    "def get_graph_dot(g):\n",
    "    return nx.nx_pydot.to_pydot(g)\n",
    "\n",
    "g = nx.DiGraph()\n",
    "g.add_edge('concept maps', 'text summarization', dict(name='are used in'))\n",
    "g.add_edge('concept maps', 'binary relations', dict(name='are created from'))\n",
    "g.add_edge('text summarization', 'relevant information', dict(name='tries to capture'))\n",
    "g.add_edge('relevant information', 'concept maps', dict(name='is captured in'))\n",
    "\n",
    "_ = draw_graph(g)\n",
    "X_ = [g]\n",
    "g_pydot = get_graph_dot(g)\n",
    "\n",
    "FILE = 'tmp/graph_example_linearization.dot'\n",
    "with open(FILE, 'w') as f:\n",
    "    f.write(g_pydot.to_string().replace('[name=', '[label='))\n",
    "transformers.GraphToTextTransformer().transform(X_)[0]"
   ]
  }
 ],
 "metadata": {
  "language_info": {
   "name": "python",
   "pygments_lexer": "ipython3"
  }
 },
 "nbformat": 4,
 "nbformat_minor": 2
}
