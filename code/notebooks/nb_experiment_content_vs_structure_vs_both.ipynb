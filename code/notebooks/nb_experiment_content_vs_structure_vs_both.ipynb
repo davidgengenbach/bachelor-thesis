{
 "cells": [
  {
   "cell_type": "markdown",
   "metadata": {},
   "source": [
    "# Experiment: _Content vs. structure vs. both_"
   ]
  },
  {
   "cell_type": "code",
   "execution_count": null,
   "metadata": {},
   "outputs": [],
   "source": [
    "from notebook_prelude import *"
   ]
  },
  {
   "cell_type": "code",
   "execution_count": null,
   "metadata": {},
   "outputs": [],
   "source": [
    "df = results_helper.get_experiments_by_names(['experiment_content_vs_structure_vs_both_{}'.format(x) for x in [\n",
    "    'both',\n",
    "    'content_only',\n",
    "    'structure_only'\n",
    "]], fetch_predictions=True)\n",
    "dummy = results_helper.get_results(include_filter='dummy', filter_out_non_complete_datasets=None)\n",
    "df = df.append(dummy).reset_index()\n",
    "print('# Results: {}'.format(len(df)))"
   ]
  },
  {
   "cell_type": "code",
   "execution_count": null,
   "metadata": {},
   "outputs": [],
   "source": [
    "df.loc[df.type=='dummy', 'graph__fast_wl__same_label'] = 'dummy'\n",
    "df.loc[df.type=='dummy', 'type'] = 'concept_map'"
   ]
  },
  {
   "cell_type": "code",
   "execution_count": null,
   "metadata": {},
   "outputs": [],
   "source": [
    "attr = 'prediction_score_f1_macro'\n",
    "\n",
    "df_ = df.groupby(['dataset', 'type', 'graph__fast_wl__same_label'])[attr].max().to_frame().unstack()\n",
    "df_['content_only'] = df_[attr, '-']\n",
    "df_['structure_only'] = df_[attr, True]\n",
    "df_['both'] = df_[attr, False]\n",
    "df_['dummy'] = df_[attr, 'dummy']\n",
    "df_ = df_[['content_only', 'structure_only', 'both', 'dummy']]\n",
    "df_.columns = df_.columns.droplevel(level=1)\n",
    "\n",
    "rename_cols = dict(\n",
    "    content_only='(a) content only',\n",
    "    structure_only='(b) structure only',\n",
    "    both='(c) both'\n",
    ")\n",
    "\n",
    "df_ = df_.rename(columns=rename_cols)\n",
    "\n",
    "print(df_.to_latex(float_format=\"%.3f\"))\n",
    "df_"
   ]
  },
  {
   "cell_type": "code",
   "execution_count": null,
   "metadata": {},
   "outputs": [],
   "source": [
    "df_ = df.groupby(['dataset', 'type', 'text__vectorizer__ngram_range', 'graph__fast_wl__same_label']).mean_test_f1_macro.max().to_frame().unstack()\n",
    "df_"
   ]
  },
  {
   "cell_type": "code",
   "execution_count": null,
   "metadata": {},
   "outputs": [],
   "source": [
    "X, Y = dataset_helper.get_dataset('ng20')\n",
    "t = sklearn.feature_extraction.text.TfidfVectorizer(ngram_range=(1,2))\n",
    "\n",
    "t.set_params(min_df=1)\n",
    "phi_1 = t.fit_transform(X)\n",
    "t.set_params(min_df=2)\n",
    "phi_2 = t.fit_transform(X)"
   ]
  },
  {
   "cell_type": "code",
   "execution_count": null,
   "metadata": {},
   "outputs": [],
   "source": [
    "phi_2.shape[1] / phi_1.shape[1]"
   ]
  },
  {
   "cell_type": "code",
   "execution_count": null,
   "metadata": {},
   "outputs": [],
   "source": [
    "experiment_helper.save_experiment_params_as_experiment_config()"
   ]
  },
  {
   "cell_type": "code",
   "execution_count": null,
   "metadata": {},
   "outputs": [],
   "source": [
    "df.text__vectorizer.unique()"
   ]
  }
 ],
 "metadata": {
  "language_info": {
   "name": "python",
   "pygments_lexer": "ipython3"
  }
 },
 "nbformat": 4,
 "nbformat_minor": 2
}
