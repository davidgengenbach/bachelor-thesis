{
 "cells": [
  {
   "cell_type": "markdown",
   "metadata": {},
   "source": [
    "# Experiment: _Content vs. structure vs. both_"
   ]
  },
  {
   "cell_type": "code",
   "execution_count": null,
   "metadata": {},
   "outputs": [],
   "source": [
    "from notebook_prelude import *"
   ]
  },
  {
   "cell_type": "code",
   "execution_count": null,
   "metadata": {},
   "outputs": [],
   "source": [
    "df = results_helper.get_experiments_by_names(\n",
    "    ['experiment_dummy_most_frequent'] +\n",
    "    ['experiment_dummy_stratified'] +\n",
    "    ['experiment_content_vs_structure_vs_both_{}'.format(x) for x in [\n",
    "            'both',\n",
    "            'content_only',\n",
    "            'structure_only',\n",
    "        ]\n",
    "    ], fetch_predictions=True)\n",
    "print('# Results: {}'.format(len(df)))"
   ]
  },
  {
   "cell_type": "code",
   "execution_count": null,
   "metadata": {},
   "outputs": [],
   "source": [
    "df.loc[df.type == 'dummy', 'prediction_score_f1_macro'] = df[df.type == 'dummy'].mean_test_f1_macro\n",
    "df.loc[df.type == 'dummy', 'graph__fast_wl__same_label'] = 'dummy'\n",
    "df.loc[df.type == 'dummy', 'type'] = 'concept_map'"
   ]
  },
  {
   "cell_type": "code",
   "execution_count": null,
   "metadata": {},
   "outputs": [],
   "source": [
    "attr = 'prediction_score_f1_macro'\n",
    "\n",
    "df_ = df.groupby(['dataset', 'type', 'graph__fast_wl__same_label'])[attr].max().to_frame().unstack()\n",
    "df_['content_only'] = df_[attr, '-']\n",
    "df_['structure_only'] = df_[attr, True]\n",
    "df_['both'] = df_[attr, False]\n",
    "df_['dummy'] = df_[attr, False]#df_[attr, 'dummy']\n",
    "df_ = df_[['content_only', 'structure_only', 'both', 'dummy']]\n",
    "df_.columns = df_.columns.droplevel(level=1)\n",
    "\n",
    "rename_cols = dict(\n",
    "    content_only='(a) content only',\n",
    "    structure_only='(b) structure only',\n",
    "    both='(c) both'\n",
    ")\n",
    "\n",
    "df_ = df_.rename(columns=rename_cols)\n",
    "print(df_.to_latex(float_format=lambda x: \"%.3f\" % x))\n",
    "display(df_)"
   ]
  },
  {
   "cell_type": "code",
   "execution_count": null,
   "metadata": {},
   "outputs": [],
   "source": [
    "df_ = df.groupby(['dataset', 'type', 'text__vectorizer__ngram_range', 'graph__fast_wl__same_label']).mean_test_f1_macro.max().to_frame().unstack()\n",
    "df_"
   ]
  }
 ],
 "metadata": {
  "language_info": {
   "name": "python",
   "pygments_lexer": "ipython3"
  }
 },
 "nbformat": 4,
 "nbformat_minor": 2
}
