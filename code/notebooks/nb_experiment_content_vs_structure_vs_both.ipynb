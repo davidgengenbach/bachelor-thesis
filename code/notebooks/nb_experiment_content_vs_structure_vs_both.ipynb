{
 "cells": [
  {
   "cell_type": "markdown",
   "metadata": {},
   "source": [
    "# Experiment: _Content vs. structure vs. both_"
   ]
  },
  {
   "cell_type": "code",
   "execution_count": null,
   "metadata": {},
   "outputs": [],
   "source": [
    "from notebook_prelude import *"
   ]
  },
  {
   "cell_type": "code",
   "execution_count": null,
   "metadata": {},
   "outputs": [],
   "source": [
    "df = results_helper.get_experiments_by_names(['experiment_content_vs_structure_vs_both_{}'.format(x) for x in [\n",
    "    'both',\n",
    "    'content_only',\n",
    "    'structure_only'\n",
    "]], fetch_predictions=True)\n",
    "dummy = results_helper.get_results(include_filter='dummy', filter_out_non_complete_datasets=None)\n",
    "df = df.append(dummy).reset_index()\n",
    "print('# Results: {}'.format(len(df)))"
   ]
  },
  {
   "cell_type": "code",
   "execution_count": null,
   "metadata": {},
   "outputs": [],
   "source": [
    "df.loc[df.type=='dummy', 'graph__fast_wl__same_label'] = 'dummy'\n",
    "df.loc[df.type=='dummy', 'type'] = 'concept_map'"
   ]
  },
  {
   "cell_type": "code",
   "execution_count": null,
   "metadata": {},
   "outputs": [],
   "source": [
    "attr = 'prediction_score_f1_macro'\n",
    "\n",
    "df_ = df.groupby(['dataset', 'type', 'graph__fast_wl__same_label'])[attr].max().to_frame().unstack()\n",
    "df_['content_only'] = df_[attr, '-']\n",
    "df_['structure_only'] = df_[attr, True]\n",
    "df_['both'] = df_[attr, False]\n",
    "df_['dummy'] = df_[attr, 'dummy']\n",
    "df_ = df_[['content_only', 'structure_only', 'both', 'dummy']]\n",
    "df_.columns = df_.columns.droplevel(level=1)\n",
    "\n",
    "rename_cols = dict(\n",
    "    content_only='(a) content only',\n",
    "    structure_only='(b) structure only',\n",
    "    both='(c) both'\n",
    ")\n",
    "\n",
    "df_ = df_.rename(columns=rename_cols)\n",
    "\n",
    "print(df_.to_latex(float_format=\"%.3f\"))\n",
    "df_"
   ]
  },
  {
   "cell_type": "code",
   "execution_count": null,
   "metadata": {},
   "outputs": [],
   "source": [
    "results_helper.get_results(include_filter='text', fetch_predictions=True).groupby('dataset').prediction_score_f1_macro.max().to_frame()"
   ]
  },
  {
   "cell_type": "code",
   "execution_count": null,
   "metadata": {},
   "outputs": [],
   "source": [
    "df_ = df.groupby(['dataset', 'type', 'text__vectorizer__ngram_range', 'graph__fast_wl__same_label']).mean_test_f1_macro.max().to_frame().unstack()\n",
    "df_"
   ]
  }
 ],
 "metadata": {
  "language_info": {
   "name": "python",
   "pygments_lexer": "ipython3"
  }
 },
 "nbformat": 4,
 "nbformat_minor": 2
}
