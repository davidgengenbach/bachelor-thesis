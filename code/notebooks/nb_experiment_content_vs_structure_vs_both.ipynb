{
 "cells": [
  {
   "cell_type": "markdown",
   "metadata": {},
   "source": [
    "# Experiment: _Content vs. structure vs. both_"
   ]
  },
  {
   "cell_type": "code",
   "execution_count": null,
   "metadata": {},
   "outputs": [],
   "source": [
    "from notebook_prelude import *"
   ]
  },
  {
   "cell_type": "code",
   "execution_count": null,
   "metadata": {},
   "outputs": [],
   "source": [
    "df = results_helper.get_experiments_by_names(['experiment_content_vs_structure_vs_both']).sort_index()\n",
    "dummy = results_helper.get_results(include_filter='dummy', filter_out_non_complete_datasets=None)\n",
    "df = df.append(dummy)\n",
    "print('# Results: {}'.format(len(df)))"
   ]
  },
  {
   "cell_type": "code",
   "execution_count": null,
   "metadata": {},
   "outputs": [],
   "source": [
    "df.loc[df.type.str.contains('dummy'), 'graph__fast_wl__same_label'] = 'dummy'"
   ]
  },
  {
   "cell_type": "code",
   "execution_count": null,
   "metadata": {},
   "outputs": [],
   "source": [
    "df.head(1)\n",
    "df.columns"
   ]
  },
  {
   "cell_type": "code",
   "execution_count": null,
   "metadata": {},
   "outputs": [],
   "source": [
    "best = df.groupby(['dataset', 'type', 'graph__fast_wl__same_label']).mean_test_f1_macro.idxmax()\n",
    "\n",
    "df_ = df.groupby(['dataset', 'type', 'graph__fast_wl__same_label']).mean_test_f1_macro.max().to_frame().unstack()\n",
    "df_['content_only'] = df_['mean_test_f1_macro', '-']\n",
    "df_['structure_only'] = df_['mean_test_f1_macro', True]\n",
    "df_['both'] = df_['mean_test_f1_macro', False]\n",
    "df_['dummy'] = df_['mean_test_f1_macro', 'dummy']\n",
    "df_ = df_[['content_only', 'structure_only', 'both', 'dummy']]\n",
    "df_.columns = df_.columns.droplevel(level=1)\n",
    "df_\n",
    "\n",
    "rename_cols = dict(\n",
    "    content_only='(a) content only',\n",
    "    structure_only='(b) structure only',\n",
    "    both='(c) both'\n",
    ")\n",
    "\n",
    "df_ = df_.rename(columns=rename_cols)\n",
    "\n",
    "print(df_.to_latex(float_format=\"%.3f\"))\n",
    "df_\n",
    "\n",
    "#for x, y in results_helper.get_predictions(filenames=df.loc[best].filename.unique()):\n",
    "#    print(x)\n",
    "list(results_helper.get_predictions(filenames=df.loc[best].filename.unique()))"
   ]
  },
  {
   "cell_type": "code",
   "execution_count": null,
   "metadata": {},
   "outputs": [],
   "source": [
    "\n"
   ]
  }
 ],
 "metadata": {
  "language_info": {
   "name": "python",
   "pygments_lexer": "ipython3"
  }
 },
 "nbformat": 4,
 "nbformat_minor": 2
}
