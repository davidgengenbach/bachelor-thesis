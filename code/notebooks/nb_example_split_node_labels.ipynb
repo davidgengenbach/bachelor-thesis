{
 "cells": [
  {
   "cell_type": "markdown",
   "metadata": {},
   "source": [
    "# Plot: _Node label split_"
   ]
  },
  {
   "cell_type": "code",
   "execution_count": null,
   "metadata": {},
   "outputs": [],
   "source": [
    "from notebook_prelude import *"
   ]
  },
  {
   "cell_type": "code",
   "execution_count": null,
   "metadata": {},
   "outputs": [],
   "source": [
    "def draw_graph(g, figsize=(7, 7)):\n",
    "    fig, ax = plt.subplots(figsize=figsize)\n",
    "    pos = nx.layout.circular_layout(g)\n",
    "    nx.draw_networkx(g, pos=pos, ax=ax)\n",
    "    edges={(source, target): data['name'] for source, target, data in g.edges(data=True)}\n",
    "    nx.draw_networkx_edge_labels(g, pos=pos, ax=ax, edge_labels=edges)\n",
    "    ax.grid(False)\n",
    "    fig.tight_layout()\n",
    "    ax.set_xticks([])\n",
    "    ax.set_yticks([])\n",
    "    return fig, ax"
   ]
  },
  {
   "cell_type": "code",
   "execution_count": null,
   "metadata": {},
   "outputs": [],
   "source": [
    "g = nx.DiGraph()\n",
    "g.add_edge('concept maps', 'multi-word concepts', dict(name='contain'))\n",
    "g.add_edge('multi-word concepts', 'words', dict(name='consist of'))\n",
    "draw_graph(g)\n",
    "\n",
    "g_ = nx.DiGraph()\n",
    "g_.add_edge('concept', 'multi-word', dict(name='contain'))\n",
    "g_.add_edge('concept', 'concepts', dict(name='contain'))\n",
    "g_.add_edge('maps', 'multi-word', dict(name='contain'))\n",
    "g_.add_edge('maps', 'concepts', dict(name='contain'))\n",
    "g_.add_edge('multi-word', 'words', dict(name='consist of'))\n",
    "g_.add_edge('concepts', 'words', dict(name='consist of'))\n",
    "draw_graph(g_)"
   ]
  },
  {
   "cell_type": "code",
   "execution_count": null,
   "metadata": {},
   "outputs": [],
   "source": [
    "import transformers\n",
    "def get_graph_dot(g):\n",
    "    return nx.nx_pydot.to_pydot(g)\n",
    "\n",
    "for x, g__ in [('before', g), ('after', g_)]:\n",
    "    g_pydot = get_graph_dot(g__)\n",
    "    FILE = 'tmp/graph_example_split_labels_{}.dot'.format(x)\n",
    "    graph = g_pydot.to_string()\n",
    "    #graph = graph.replace('[name=', '[label=')\n",
    "    graph = graph.replace('strict digraph G {', 'strict digraph G {' + '\\n size=\"6,8!\"')\n",
    "    \n",
    "    with open(FILE, 'w') as f:\n",
    "        f.write(graph)"
   ]
  },
  {
   "cell_type": "code",
   "execution_count": null,
   "metadata": {},
   "outputs": [],
   "source": [
    "!dot -otmp/graph_example_split_labels_after.png -Tpng tmp/graph_example_split_labels_after.dot;\n",
    "!dot -otmp/graph_example_split_labels_before.png -Tpng tmp/graph_example_split_labels_before.dot;\n",
    "\n",
    "!dot -otmp/graph_example_split_labels_after.pdf -Tpdf tmp/graph_example_split_labels_after.dot;\n",
    "!dot -otmp/graph_example_split_labels_before.pdf -Tpdf tmp/graph_example_split_labels_before.dot;"
   ]
  }
 ],
 "metadata": {
  "language_info": {
   "name": "python",
   "pygments_lexer": "ipython3"
  }
 },
 "nbformat": 4,
 "nbformat_minor": 2
}
