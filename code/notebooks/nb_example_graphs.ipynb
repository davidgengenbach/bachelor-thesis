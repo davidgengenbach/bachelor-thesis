{
 "cells": [
  {
   "cell_type": "markdown",
   "metadata": {},
   "source": [
    "# Plot graph examples\n",
    "\n",
    "For both concept maps and co-occurrence graphs"
   ]
  },
  {
   "cell_type": "code",
   "execution_count": null,
   "metadata": {},
   "outputs": [],
   "source": [
    "from notebook_prelude import *"
   ]
  },
  {
   "cell_type": "code",
   "execution_count": null,
   "metadata": {},
   "outputs": [],
   "source": [
    "def get_graph_dot(g):\n",
    "    return nx.nx_pydot.to_pydot(g)\n",
    "\n",
    "def save_dot_graph(g: nx.Graph, filename: str):\n",
    "    g = get_graph_dot(g)\n",
    "    with open(filename, 'w') as f:\n",
    "        f.write(g.to_string())\n",
    "\n",
    "def draw_graph(graph, layout = nx.layout.circular_layout, with_frame = True, node_color='#000000', node_size=16, edge_color='#000000'):\n",
    "    fig, ax = plt.subplots(figsize=(6, 6))\n",
    "    pos = None\n",
    "    if layout:\n",
    "        pos = layout(graph)\n",
    "    nx.draw_networkx(graph, pos=pos, ax = ax, node_size = node_size, with_labels = False, node_color = node_color, arrows=False, edge_color=edge_color)\n",
    "    ax.set_frame_on(with_frame)\n",
    "    #cleanup_axes(ax)\n",
    "    ax.grid(False)\n",
    "    ax.set_xticks([])\n",
    "    ax.set_yticks([])\n",
    "    fig.tight_layout()\n",
    "    return fig, ax\n",
    "\n",
    "def get_candidates(X, min_nodes = 10, max_nodes = 15):\n",
    "    return [x for x in X if nx.number_of_nodes(x) in range(min_nodes, max_nodes)]"
   ]
  },
  {
   "cell_type": "code",
   "execution_count": null,
   "metadata": {},
   "outputs": [],
   "source": [
    "\n",
    "\n",
    "# Tuples of: (dataset_name, graph_type, (X, Y))\n",
    "# For cooccurrence graphs, it will hold a (random) choice for each window size\n",
    "graph_datasets = []\n",
    "for dataset in dataset_helper.get_dataset_names_with_concept_map(limit_datasets=['ng20']):\n",
    "    print('{:30} start'.format(dataset))\n",
    "    graph_cache_files = dataset_helper.get_all_cached_graph_datasets(dataset_name=dataset)\n",
    "    gml_graph_cache = [x for x in graph_cache_files if 'concept' in x][0]\n",
    "    coo_graph_caches = [x for x in graph_cache_files if 'cooc' in x]\n",
    "    \n",
    "    def get_window_size(graph_cache_file):\n",
    "        return graph_cache_file.split('cooccurrence_')[1].split('_')[0]\n",
    "    \n",
    "    coo_graphs_by_window_size = collections.defaultdict(lambda: [])\n",
    "    for cache_file in coo_graph_caches:\n",
    "        coo_graphs_by_window_size[get_window_size(cache_file)].append(cache_file)\n",
    "    \n",
    "    X_cmap, Y_cmap = dataset_helper.get_dataset_cached(gml_graph_cache)\n",
    "    X_cmap = graph_helper.get_graphs_only(X_cmap)\n",
    "    graph_datasets.append((dataset, 'Concept Map', (get_candidates(X_cmap), Y_cmap)))\n",
    "    for window_size, cached_files in sorted(coo_graphs_by_window_size.items(), key=lambda x: x[0]):\n",
    "        # Take random element from the co-occurence graph datasets\n",
    "        coo_graph_cache = np.random.choice(cached_files)\n",
    "        print('\\tRetrieving co-occurence graphs for window_size={} ({})'.format(window_size, coo_graph_cache))\n",
    "        X, Y = dataset_helper.get_dataset_cached(coo_graph_cache)\n",
    "        X = graph_helper.get_graphs_only(X)\n",
    "        X = get_candidates(X)\n",
    "        graph_datasets.append((dataset, 'Cooccurrence\\n$w={}$'.format(window_size), (X, Y)))\n",
    "    break\n",
    "\n",
    "gc.collect()"
   ]
  },
  {
   "cell_type": "code",
   "execution_count": null,
   "metadata": {},
   "outputs": [],
   "source": [
    "df = pd.DataFrame(graph_datasets, columns = ['dataset', 'graph_type', 'graph_dataset'])"
   ]
  },
  {
   "cell_type": "code",
   "execution_count": null,
   "metadata": {},
   "outputs": [],
   "source": [
    "NUM_GRAPHS_PER_TYPE = 3\n",
    "\n",
    "for dataset, data in df.groupby('dataset'):\n",
    "    fig, axes = plt.subplots(ncols=data.graph_type.value_counts().size, nrows=NUM_GRAPHS_PER_TYPE)\n",
    "    for idx, row_ax in enumerate(axes):\n",
    "        print('Row: {}/{}'.format(idx + 1, len(axes)))\n",
    "        for (_, item), ax in zip(data.iterrows(), row_ax):\n",
    "            graph_type = item.graph_type\n",
    "            if idx == 0:\n",
    "                ax.set_title(graph_type)\n",
    "            \n",
    "\n",
    "            X, Y = item.graph_dataset\n",
    "            candidates = [x for x in X if nx.number_of_nodes(x) in range(4, 14)]\n",
    "            random_graph = np.random.choice(candidates)\n",
    "            pos = None if not graph_type.count('Concept') else nx.layout.circular_layout(random_graph)\n",
    "            nx.draw_networkx(random_graph, ax = ax, node_size = 16, with_labels = False, node_color = '#000000', arrows=False)\n",
    "            #cleanup_axes(ax)\n",
    "            ax.grid(False)\n",
    "            ax.set_xticks([])\n",
    "            ax.set_yticks([])\n",
    "    fig.tight_layout(h_pad=2, w_pad=2)\n",
    "    \n",
    "    for ax in axes.flatten():\n",
    "        (x_min, x_max), (y_min, y_max) = ax.get_xlim(), ax.get_ylim()\n",
    "        #ax.set_xlim((0, 1))\n",
    "        #ax.axvline(x_min)\n",
    "        #ax.axvline(x_max)\n",
    "    plt.show()\n",
    "    save_fig(fig, 'examples_graphs')"
   ]
  },
  {
   "cell_type": "markdown",
   "metadata": {},
   "source": [
    "## Presentation: Concept map example, big"
   ]
  },
  {
   "cell_type": "code",
   "execution_count": null,
   "metadata": {},
   "outputs": [],
   "source": [
    "X, Y = dataset_helper.get_concept_map_for_dataset('ng20')\n",
    "X = graph_helper.get_graphs_only(X)"
   ]
  },
  {
   "cell_type": "code",
   "execution_count": null,
   "metadata": {},
   "outputs": [],
   "source": [
    "max_nodes = max([nx.number_of_nodes(x) for x in X])\n",
    "print(max_nodes)\n",
    "TUD_RED = '#9c1e23'\n",
    "BLACK = '#000000'\n",
    "\n",
    "node_color = BLACK\n",
    "edge_color = '#555555'\n",
    "node_size = 20\n",
    "node_range = (300, 500)\n",
    "\n",
    "X_ = get_candidates(X, min_nodes=node_range[0], max_nodes=node_range[1])\n",
    "assert len(X_)\n",
    "idx = np.random.choice(len(X_))\n",
    "X_[idx].nodes()\n",
    "random_graph = X_[idx]\n",
    "for pos in [None, nx.layout.circular_layout, nx.layout.fruchterman_reingold_layout, nx.layout.shell_layout, nx.layout.spectral_layout, nx.layout.spring_layout, nx.layout.random_layout]:\n",
    "    layout_name = pos.__name__ if pos else 'normal'\n",
    "    fig, ax = draw_graph(random_graph, layout=pos, with_frame=False, node_color=node_color, node_size=node_size, edge_color=edge_color)\n",
    "    save_fig(fig, 'example_concept_map_{}'.format(layout_name), folder='tmp/examples_concept_map')\n",
    "    plt.show()\n",
    "#np.random.choice(X_)"
   ]
  },
  {
   "cell_type": "markdown",
   "metadata": {},
   "source": [
    "## Presentation: Concept map example"
   ]
  },
  {
   "cell_type": "code",
   "execution_count": null,
   "metadata": {},
   "outputs": [],
   "source": [
    "g = nx.DiGraph()\n",
    "g.add_edge('cigarette smoking', 'breath', dict(label='affects'))\n",
    "g.add_edge('drinking', 'breath', dict(label='affects'))\n",
    "g.add_edge('breath', 'important', dict(label='is'))\n",
    "\n",
    "nx.draw_networkx(g)\n",
    "g_pydot = get_graph_dot(g)\n",
    "\n",
    "FILE = 'tmp/example_presentation_concept_map.dot'\n",
    "with open(FILE, 'w') as f:\n",
    "    f.write(g_pydot.to_string())"
   ]
  },
  {
   "cell_type": "markdown",
   "metadata": {},
   "source": [
    "## Presentation: Co-occurrence"
   ]
  },
  {
   "cell_type": "code",
   "execution_count": null,
   "metadata": {},
   "outputs": [],
   "source": [
    "sentence = r'Universal history is the history of a few metaphors.'\n",
    "\n",
    "from utils import cooccurrence\n",
    "word2idx, idx2word, mat = cooccurrence.get_coocurrence_matrix(sentence.lower(), window_size=1)\n",
    "graph = graph_helper.convert_from_numpy_to_nx(word2idx, idx2word, mat)\n",
    "nx.draw_networkx(graph)"
   ]
  },
  {
   "cell_type": "markdown",
   "metadata": {},
   "source": [
    "## Presentation: Simple Triangle/Rectangle Graph kernel"
   ]
  },
  {
   "cell_type": "code",
   "execution_count": null,
   "metadata": {},
   "outputs": [],
   "source": [
    "#layout = nx.layout.\n",
    "layout = None\n",
    "\n",
    "g = nx.Graph()\n",
    "g.add_edge('A', 'B')\n",
    "g.add_edge('A', 'C')\n",
    "g.add_edge('B', 'C')\n",
    "\n",
    "\n",
    "\n",
    "g_rect = g.copy()\n",
    "g_rect.add_edge('A', 'E')\n",
    "g_rect.add_edge('B', 'E')\n",
    "\n",
    "save_dot_graph(g_rect, 'tmp/graph_examples/graph_rectangle.dot')\n",
    "save_dot_graph(g, 'tmp/graph_examples/graph_triangle.dot')\n",
    "\n",
    "draw_graph(g, layout=layout)\n",
    "draw_graph(g_rect, layout=layout)\n"
   ]
  },
  {
   "cell_type": "code",
   "execution_count": null,
   "metadata": {},
   "outputs": [],
   "source": [
    "!fdp -Tpng -otmp/graph_examples/graph_triangle.png tmp/graph_examples/graph_triangle.dot\n",
    "!circo -Tpng -otmp/graph_examples/graph_rectangle.png tmp/graph_examples/graph_rectangle.dot"
   ]
  },
  {
   "cell_type": "code",
   "execution_count": null,
   "metadata": {},
   "outputs": [],
   "source": []
  }
 ],
 "metadata": {
  "language_info": {
   "name": "python",
   "pygments_lexer": "ipython3"
  }
 },
 "nbformat": 4,
 "nbformat_minor": 2
}
