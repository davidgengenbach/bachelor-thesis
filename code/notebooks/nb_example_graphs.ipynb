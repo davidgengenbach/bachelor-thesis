{
 "cells": [
  {
   "cell_type": "markdown",
   "metadata": {},
   "source": [
    "# Plot graph examples\n",
    "\n",
    "For both concept maps and co-occurrence graphs"
   ]
  },
  {
   "cell_type": "code",
   "execution_count": null,
   "metadata": {},
   "outputs": [],
   "source": [
    "from notebook_prelude import *"
   ]
  },
  {
   "cell_type": "code",
   "execution_count": null,
   "metadata": {},
   "outputs": [],
   "source": [
    "def get_candidates(X, min_nodes = 10, max_nodes = 15):\n",
    "    return [x for x in X if nx.number_of_nodes(x) in range(min_nodes, max_nodes)]\n",
    "\n",
    "# Tuples of: (dataset_name, graph_type, (X, Y))\n",
    "# For cooccurrence graphs, it will hold a (random) choice for each window size\n",
    "graph_datasets = []\n",
    "for dataset in dataset_helper.get_dataset_names_with_concept_map():\n",
    "    if dataset != 'ng20': continue\n",
    "    print('{:30} start'.format(dataset))\n",
    "    graph_cache_files = dataset_helper.get_all_cached_graph_datasets(dataset_name=dataset)\n",
    "    gml_graph_cache = [x for x in graph_cache_files if 'concept' in x][0]\n",
    "    coo_graph_caches = [x for x in graph_cache_files if 'cooc' in x]\n",
    "    \n",
    "    def get_window_size(graph_cache_file):\n",
    "        return graph_cache_file.split('cooccurrence_')[1].split('_')[0]\n",
    "    \n",
    "    coo_graphs_by_window_size = collections.defaultdict(lambda: [])\n",
    "    for cache_file in coo_graph_caches:\n",
    "        coo_graphs_by_window_size[get_window_size(cache_file)].append(cache_file)\n",
    "    \n",
    "    X_cmap, Y_cmap = dataset_helper.get_dataset_cached(gml_graph_cache)\n",
    "    X_cmap = graph_helper.get_graphs_only(X_cmap)\n",
    "    graph_datasets.append((dataset, 'Concept Map', (get_candidates(X_cmap), Y_cmap)))\n",
    "    for window_size, cached_files in sorted(coo_graphs_by_window_size.items(), key=lambda x: x[0]):\n",
    "        # Take random element from the co-occurence graph datasets\n",
    "        coo_graph_cache = np.random.choice(cached_files)\n",
    "        print('\\tRetrieving co-occurence graphs for window_size={} ({})'.format(window_size, coo_graph_cache))\n",
    "        X, Y = dataset_helper.get_dataset_cached(coo_graph_cache)\n",
    "        X = graph_helper.get_graphs_only(X)\n",
    "        X = get_candidates(X)\n",
    "        graph_datasets.append((dataset, 'Cooccurrence\\n$w={}$'.format(window_size), (X, Y)))\n",
    "    break\n",
    "\n",
    "gc.collect()"
   ]
  },
  {
   "cell_type": "code",
   "execution_count": null,
   "metadata": {},
   "outputs": [],
   "source": [
    "df = pd.DataFrame(graph_datasets, columns = ['dataset', 'graph_type', 'graph_dataset'])"
   ]
  },
  {
   "cell_type": "code",
   "execution_count": null,
   "metadata": {},
   "outputs": [],
   "source": [
    "NUM_GRAPHS_PER_TYPE = 3\n",
    "\n",
    "for dataset, data in df.groupby('dataset'):\n",
    "    fig, axes = plt.subplots(ncols=data.graph_type.value_counts().size, nrows=NUM_GRAPHS_PER_TYPE)\n",
    "    for idx, row_ax in enumerate(axes):\n",
    "        print('Row: {}/{}'.format(idx + 1, len(axes)))\n",
    "        for (_, item), ax in zip(data.iterrows(), row_ax):\n",
    "            graph_type = item.graph_type\n",
    "            if idx == 0:\n",
    "                ax.set_title(graph_type)\n",
    "            \n",
    "\n",
    "            X, Y = item.graph_dataset\n",
    "            candidates = [x for x in X if nx.number_of_nodes(x) in range(4, 14)]\n",
    "            random_graph = np.random.choice(candidates)\n",
    "            pos = None if not graph_type.count('Concept') else nx.layout.circular_layout(random_graph)\n",
    "            nx.draw_networkx(random_graph, ax = ax, node_size = 16, with_labels = False, node_color = '#000000', arrows=False)\n",
    "            #cleanup_axes(ax)\n",
    "            ax.grid(False)\n",
    "            ax.set_xticks([])\n",
    "            ax.set_yticks([])\n",
    "    fig.tight_layout(h_pad=2, w_pad=2)\n",
    "    \n",
    "    for ax in axes.flatten():\n",
    "        (x_min, x_max), (y_min, y_max) = ax.get_xlim(), ax.get_ylim()\n",
    "        #ax.set_xlim((0, 1))\n",
    "        #ax.axvline(x_min)\n",
    "        #ax.axvline(x_max)\n",
    "    plt.show()\n",
    "    save_fig(fig, 'examples_graphs')"
   ]
  }
 ],
 "metadata": {
  "language_info": {
   "name": "python",
   "pygments_lexer": "ipython3"
  }
 },
 "nbformat": 4,
 "nbformat_minor": 2
}
