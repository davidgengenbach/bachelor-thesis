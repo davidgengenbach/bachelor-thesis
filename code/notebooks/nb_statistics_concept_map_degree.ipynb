{
 "cells": [
  {
   "cell_type": "code",
   "execution_count": null,
   "metadata": {},
   "outputs": [],
   "source": [
    "from notebook_prelude import *"
   ]
  },
  {
   "cell_type": "code",
   "execution_count": null,
   "metadata": {},
   "outputs": [],
   "source": [
    "concept_maps = {x: dataset_helper.get_concept_map_for_dataset(x) for x in dataset_helper.get_dataset_names_with_concept_map()}"
   ]
  },
  {
   "cell_type": "code",
   "execution_count": null,
   "metadata": {},
   "outputs": [],
   "source": [
    "degrees = {}\n",
    "for dataset, (X, Y) in concept_maps.items():\n",
    "    X = graph_helper.get_graphs_only(X)\n",
    "    all_degrees = [x.degree().values() for x in X]\n",
    "    all_degrees_flat = list(chain.from_iterable(all_degrees))\n",
    "    degrees[dataset] = all_degrees_flat"
   ]
  },
  {
   "cell_type": "code",
   "execution_count": null,
   "metadata": {},
   "outputs": [],
   "source": [
    "data = collections.defaultdict(list)\n",
    "for dataset, degrees_ in degrees.items():\n",
    "    num = len(degrees_)\n",
    "    data['dataset'] += [dataset] * num\n",
    "    data['degree'] += degrees_\n",
    "df = pd.DataFrame(data)\n",
    "\n",
    "df[df.degree < df.degree.quantile(0.999)].groupby('dataset').degree.plot(kind='hist', normed=True, alpha=0.8)"
   ]
  },
  {
   "cell_type": "code",
   "execution_count": null,
   "metadata": {},
   "outputs": [],
   "source": [
    "for dataset, degrees_ in degrees.items():\n",
    "    s = pd.Series(degrees_)\n",
    "    ratio_one_to_other = len(s[s > 1]) / len(s)\n",
    "    # Remove outliers\n",
    "    ax = s[s < s.quantile(0.999)].plot(kind='hist', bins=60, title='Dataset: {}, $degree_1 / degree_2$ = {:.4f}'.format(dataset, ratio_one_to_other))\n",
    "    ax.grid(False)\n",
    "    plt.show()"
   ]
  },
  {
   "cell_type": "code",
   "execution_count": null,
   "metadata": {},
   "outputs": [],
   "source": [
    "import matplotlib.patches as patches\n",
    "\n",
    "for dataset, df_ in df.groupby('dataset'):\n",
    "    df_ = df_.sort_values('degree')\n",
    "    cum_sum = df_.degree.cumsum().reset_index().degree.values\n",
    "    max_cum_sum = cum_sum.max()\n",
    "    x = np.linspace(0, 1, len(cum_sum))\n",
    "    y = cum_sum / max_cum_sum * 100\n",
    "    fig, ax = plt.subplots()\n",
    "    ax.plot(x, y)\n",
    "    \n",
    "    ratio = len(df_[df_.degree <= 1]) / len(df_)\n",
    "    ratio_2 = len(df_[df_.degree == 2]) / len(df_)\n",
    "    ax.axvline(ratio, c='red', linestyle='dashed')\n",
    "    ax.axvline(ratio + ratio_2, c='red', linestyle='dashed')\n",
    "    ax.set_xticks([])\n",
    "    \n",
    "    ax.add_patch(\n",
    "        patches.Rectangle(\n",
    "            (0, 0),   # (x,y)\n",
    "            ratio,          # width\n",
    "            100,          # height\n",
    "            alpha=0.2\n",
    "        )\n",
    "    )\n",
    "    \n",
    "    ax.add_patch(\n",
    "        patches.Rectangle(\n",
    "            (ratio, 0),   # (x,y)\n",
    "            ratio_2,          # width\n",
    "            100,          # height\n",
    "            alpha=0.2,\n",
    "            facecolor='red'\n",
    "        )\n",
    "    )\n",
    "    fig.tight_layout()\n"
   ]
  },
  {
   "cell_type": "code",
   "execution_count": null,
   "metadata": {},
   "outputs": [],
   "source": [
    "ratio_data = []\n",
    "for dataset, df_ in df.groupby('dataset'):\n",
    "    d = df_.degree\n",
    "    num = len(d)\n",
    "    \n",
    "    data = {}\n",
    "    for name, els in [('$|d_v|$=1', d[d <= 1]), ('$|d_v|$=2', d[d == 2]), ('$|d_v|$=3', d[d == 3]), ('$|d_v|$>3', d[d > 3])]:\n",
    "        ratio = len(els) / num * 100\n",
    "        data[name] = (ratio)\n",
    "        data['dataset'] = dataset\n",
    "    ratio_data.append(data)\n",
    "\n",
    "d__ = pd.DataFrame(ratio_data).set_index('dataset').sort_index(ascending=False)\n",
    "fig, ax = plt.subplots(figsize = (EXPORT_FIG_WIDTH_BIG, 3))\n",
    "d__.plot(kind='barh', stacked=True, ax = ax)\n",
    "ax.grid(False)\n",
    "x_ticks = np.linspace(0, 100, 11)\n",
    "ax.set_xticks(x_ticks)\n",
    "ax.set_xticklabels(map(int, x_ticks))\n",
    "ax.set_xlim((0, 114))\n",
    "ax.set_xlabel('%')\n",
    "ax.set_ylabel('')\n",
    "fig.tight_layout()\n",
    "\n",
    "save_fig(fig, 'percentage_degree')"
   ]
  }
 ],
 "metadata": {
  "language_info": {
   "name": "python",
   "pygments_lexer": "ipython3"
  }
 },
 "nbformat": 4,
 "nbformat_minor": 2
}
