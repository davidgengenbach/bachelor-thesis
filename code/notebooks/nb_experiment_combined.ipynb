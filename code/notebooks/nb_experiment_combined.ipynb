{
 "cells": [
  {
   "cell_type": "markdown",
   "metadata": {},
   "source": [
    "# Experiment: _Combined text-/graph features vs. text-only features_"
   ]
  },
  {
   "cell_type": "code",
   "execution_count": null,
   "metadata": {},
   "outputs": [],
   "source": [
    "from notebook_prelude import *"
   ]
  },
  {
   "cell_type": "code",
   "execution_count": null,
   "metadata": {},
   "outputs": [],
   "source": [
    "experiments = [\n",
    "    'experiment_text_plain',\n",
    "    'experiment_text_tfidf',\n",
    "    'experiment_graphs_plain',\n",
    "    'experiment_content_vs_structure_vs_both_content_only',\n",
    "    'experiment_split_multi_words_with_splitter',\n",
    "    'experiment_split_multi_words_with_splitter_and_lemmatizer',\n",
    "    'experiment_remove_infrequent_nodelabels_1',\n",
    "    'experiment_remove_infrequent_nodelabels_3'\n",
    "] + [\n",
    "    'experiment_combined' + x\n",
    "    for x in [\n",
    "        '_same_label',\n",
    "        '_with_splitted_words',\n",
    "        '_with_splitted_words_and_lemma',\n",
    "        '_infrequent_removed',\n",
    "        '_linearized'\n",
    "    ]\n",
    "]\n",
    "df = results_helper.get_experiments_by_names(experiments, fetch_predictions=True)\n",
    "df.loc[(df.filename.str.contains('graph_text')) | (df.filename.str.contains('_content_only__')), 'graph__preprocessing'] = 'GraphToTextTransformer'"
   ]
  },
  {
   "cell_type": "markdown",
   "metadata": {},
   "source": [
    "## Result table"
   ]
  },
  {
   "cell_type": "code",
   "execution_count": null,
   "metadata": {},
   "outputs": [],
   "source": [
    "group_attr = ['dataset',  'combined', 'graph__preprocessing', 'type']\n",
    "attr = 'prediction_score_f1_macro'\n",
    "grouped = df.groupby(group_attr)[attr].max().to_frame().unstack().unstack().dropna(how='all', axis=1)\n",
    "best = grouped.drop(columns=[('prediction_score_f1_macro', 'cooccurrence', 'GraphMultiWordLabelSplitter'), ('prediction_score_f1_macro', 'cooccurrence', 'GraphMultiWordLabelSplitter'), ('prediction_score_f1_macro', 'cooccurrence', 'GraphToTextTransformer'), ('prediction_score_f1_macro', 'cooccurrence', 'RemoveInfrequentGraphLabels')])\n",
    "\n",
    "print(best.to_latex(float_format='%.3f'))\n",
    "best"
   ]
  },
  {
   "cell_type": "code",
   "execution_count": null,
   "metadata": {},
   "outputs": [],
   "source": [
    "print(grouped.to_latex(float_format=lambda x: \"%.3f\" % x).replace('True', 'Combined').replace('False', 'Single').replace('NaN', ''))"
   ]
  },
  {
   "cell_type": "markdown",
   "metadata": {},
   "source": [
    "## Significance tests\n",
    "\n",
    "... between the concept maps combined and text-only"
   ]
  },
  {
   "cell_type": "code",
   "execution_count": null,
   "metadata": {},
   "outputs": [],
   "source": [
    "df_confidence = significance_test_utils.get_confidences(df[df.type != TYPE_COOCCURRENCE], performance_attr=attr, model_selection_attr='combined', model_selection_vals=[True, False], log_progress=log_progress_nb)"
   ]
  },
  {
   "cell_type": "code",
   "execution_count": null,
   "metadata": {},
   "outputs": [],
   "source": [
    "df_confidence.drop(columns='diffs')"
   ]
  },
  {
   "cell_type": "code",
   "execution_count": null,
   "metadata": {},
   "outputs": [],
   "source": [
    "\n",
    "def get_latex_table(df):\n",
    "    return df.to_latex(float_format=lambda x: \"%.3f\" % x).replace('True', 'Combined').replace('False', 'Single').replace('nan', '')\n",
    "print(\n",
    "    get_latex_table(grouped.merge(df_confidence[['confidence']], left_index=True, right_index=True))\n",
    ")"
   ]
  }
 ],
 "metadata": {
  "language_info": {
   "name": "python",
   "pygments_lexer": "ipython3"
  }
 },
 "nbformat": 4,
 "nbformat_minor": 2
}
