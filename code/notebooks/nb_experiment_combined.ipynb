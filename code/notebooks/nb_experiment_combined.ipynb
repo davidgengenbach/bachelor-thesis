{
 "cells": [
  {
   "cell_type": "markdown",
   "metadata": {},
   "source": [
    "# Experiment: _Combined text-/graph features vs. text-only features_"
   ]
  },
  {
   "cell_type": "code",
   "execution_count": null,
   "metadata": {},
   "outputs": [],
   "source": [
    "from notebook_prelude import *"
   ]
  },
  {
   "cell_type": "code",
   "execution_count": null,
   "metadata": {},
   "outputs": [],
   "source": [
    "experiments = [\n",
    "    'experiment_text_plain',\n",
    "    'experiment_text_tfidf',\n",
    "    #'experiment_graphs_plain',\n",
    "    #'experiment_content_vs_structure_vs_both_content_only',\n",
    "    #'experiment_split_multi_words_with_splitter',\n",
    "    #'experiment_split_multi_words_with_splitter_and_lemmatizer'\n",
    "] + [\n",
    "    'experiment_combined' + x\n",
    "    for x in [\n",
    "        '_same_label',\n",
    "        '_with_splitted_words',\n",
    "        '_with_splitted_words_and_lemma',\n",
    "        '_infrequent_removed',\n",
    "        '_linearized'\n",
    "    ]\n",
    "]\n",
    "df = results_helper.get_experiments_by_names(experiments, fetch_predictions=True)\n",
    "df.loc[df.filename.str.contains('graph_text'), 'graph__preprocessing'] = 'GraphToTextTransformer'"
   ]
  },
  {
   "cell_type": "markdown",
   "metadata": {},
   "source": [
    "## Result table"
   ]
  },
  {
   "cell_type": "code",
   "execution_count": null,
   "metadata": {},
   "outputs": [],
   "source": [
    "group_attr = ['dataset',  'graph__preprocessing', 'type']\n",
    "attr = 'prediction_score_f1_macro'\n",
    "grouped = df.groupby(group_attr)[attr].max().to_frame().unstack().unstack().dropna(how='all', axis=1)\n",
    "grouped"
   ]
  },
  {
   "cell_type": "code",
   "execution_count": null,
   "metadata": {},
   "outputs": [],
   "source": [
    "print(grouped.to_latex(float_format=lambda x: \"%.3f\" % x))"
   ]
  },
  {
   "cell_type": "markdown",
   "metadata": {},
   "source": [
    "## Significance tests\n",
    "\n",
    "... between the concept maps combined and text-only"
   ]
  },
  {
   "cell_type": "code",
   "execution_count": null,
   "metadata": {},
   "outputs": [],
   "source": [
    "df_confidence = significance_test_utils.get_confidences(df[df.type != TYPE_COOCCURRENCE], performance_attr=attr, model_selection_attr='type', model_selection_vals=[TYPE_CONCEPT_MAP, 'text'], log_progress=log_progress_nb)"
   ]
  },
  {
   "cell_type": "code",
   "execution_count": null,
   "metadata": {},
   "outputs": [],
   "source": [
    "df_confidence.drop(columns='diffs')"
   ]
  },
  {
   "cell_type": "code",
   "execution_count": null,
   "metadata": {},
   "outputs": [],
   "source": [
    "grouped.merge(df_confidence[['confidence']], left_index=True, right_index=True)"
   ]
  }
 ],
 "metadata": {
  "language_info": {
   "name": "python",
   "pygments_lexer": "ipython3"
  }
 },
 "nbformat": 4,
 "nbformat_minor": 2
}
