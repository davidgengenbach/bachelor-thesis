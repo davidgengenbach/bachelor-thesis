{
 "cells": [
  {
   "cell_type": "markdown",
   "metadata": {},
   "source": [
    "# Experiment: _Combined text-/graph features vs. text-only features_"
   ]
  },
  {
   "cell_type": "code",
   "execution_count": null,
   "metadata": {},
   "outputs": [],
   "source": [
    "from notebook_prelude import *"
   ]
  },
  {
   "cell_type": "code",
   "execution_count": null,
   "metadata": {},
   "outputs": [],
   "source": [
    "df.columns.values.tolist()"
   ]
  },
  {
   "cell_type": "code",
   "execution_count": null,
   "metadata": {},
   "outputs": [],
   "source": [
    "NA_VAL = '-'\n",
    "EXPERIMENT_NAME = 'experiment_combined'\n",
    "\n",
    "experiments = [\n",
    "    'experiment_text_plain',\n",
    "    'experiment_text_tfidf',\n",
    "    'experiment_graphs_plain',\n",
    "    'experiment_content_vs_structure_vs_both_content_only',\n",
    "    'experiment_split_multi_words_with_splitted_words'\n",
    "] + [\n",
    "    EXPERIMENT_NAME + x\n",
    "    for x in ['_same_label', '_with_splitted_words', '_infrequent_removed', '_linearized']\n",
    "]\n",
    "df = results_helper.get_experiments_by_names(experiments, fetch_predictions=True)\n",
    "df.loc[df.filename.str.contains('graph_text'), 'graph__preprocessing'] = 'GraphToTextTransformer'"
   ]
  },
  {
   "cell_type": "markdown",
   "metadata": {},
   "source": [
    "## Result table"
   ]
  },
  {
   "cell_type": "code",
   "execution_count": null,
   "metadata": {},
   "outputs": [],
   "source": [
    "df[(df.dataset == 'ling-spam') & (df.type == TYPE_CONCEPT_MAP) & (df.graph__preprocessing == 'GraphMultiWordLabelSplitter')]"
   ]
  },
  {
   "cell_type": "code",
   "execution_count": null,
   "metadata": {},
   "outputs": [],
   "source": [
    "group_attr = ['dataset',  'combined', 'graph__preprocessing', 'type']\n",
    "attr = 'prediction_score_f1_macro'\n",
    "#attr = 'mean_test_f1_macro'\n",
    "#df.dropna()\n",
    "grouped = df.groupby(group_attr)[attr].max().to_frame().unstack().unstack().dropna(how='all', axis=1)\n",
    "grouped"
   ]
  },
  {
   "cell_type": "markdown",
   "metadata": {},
   "source": [
    "## Significance tests\n",
    "\n",
    "... between the concept maps combined and text-only"
   ]
  },
  {
   "cell_type": "code",
   "execution_count": null,
   "metadata": {},
   "outputs": [],
   "source": [
    "T = TYPE_CONCEPT_MAP\n",
    "df_confidence = significance_test_utils.get_confidences(df[df.type != TYPE_COOCCURRENCE], performance_attr=attr, model_selection_attr='type', model_selection_vals=[T, 'text'], log_progress=log_progress_nb)"
   ]
  },
  {
   "cell_type": "code",
   "execution_count": null,
   "metadata": {},
   "outputs": [],
   "source": [
    "grouped.merge(df_confidence[['confidence']], left_index=True, right_index=True)"
   ]
  }
 ],
 "metadata": {
  "language_info": {
   "name": "python",
   "pygments_lexer": "ipython3"
  }
 },
 "nbformat": 4,
 "nbformat_minor": 2
}
