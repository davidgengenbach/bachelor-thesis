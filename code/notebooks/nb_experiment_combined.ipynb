{
 "cells": [
  {
   "cell_type": "markdown",
   "metadata": {},
   "source": [
    "# Experiment: _Combined text-/graph features vs. text-only features_"
   ]
  },
  {
   "cell_type": "code",
   "execution_count": null,
   "metadata": {},
   "outputs": [],
   "source": [
    "from notebook_prelude import *"
   ]
  },
  {
   "cell_type": "code",
   "execution_count": null,
   "metadata": {},
   "outputs": [],
   "source": [
    "NA_VAL = '-'\n",
    "EXPERIMENT_NAME = 'experiment_combined'\n",
    "\n",
    "experiments = ['experiment_text_plain', 'experiment_text_tfidf', 'experiment_graphs_plain'] + [\n",
    "    EXPERIMENT_NAME + x\n",
    "    for x in ['_same_label', '_with_splitted_words', '_infrequent_removed']\n",
    "]\n",
    "df = results_helper.get_experiments_by_names(experiments, fetch_predictions=True)"
   ]
  },
  {
   "cell_type": "code",
   "execution_count": null,
   "metadata": {},
   "outputs": [],
   "source": [
    "experiment_helper.save_experiment_params_as_experiment_config()"
   ]
  },
  {
   "cell_type": "code",
   "execution_count": null,
   "metadata": {},
   "outputs": [],
   "source": [
    "group_attr = ['dataset',  'type', 'combined', 'graph__preprocessing']\n",
    "attr = 'prediction_score_f1_macro'\n",
    "#attr = 'mean_test_f1_macro'\n",
    "grouped = df.groupby(group_attr)[attr].max().to_frame().unstack()\n",
    "grouped"
   ]
  },
  {
   "cell_type": "markdown",
   "metadata": {},
   "source": [
    "## Result table"
   ]
  },
  {
   "cell_type": "code",
   "execution_count": null,
   "metadata": {},
   "outputs": [],
   "source": [
    "df_confidence = significance_test_utils.get_confidences(df[df.type != TYPE_COOCCURRENCE], performance_attr=attr, model_selection_attr='type', model_selection_vals=['concept_map', 'text'], log_progress=log_progress_nb)"
   ]
  },
  {
   "cell_type": "code",
   "execution_count": null,
   "metadata": {},
   "outputs": [],
   "source": [
    "df_confidence"
   ]
  },
  {
   "cell_type": "code",
   "execution_count": null,
   "metadata": {},
   "outputs": [],
   "source": [
    "grouped.merge(df_confidence[['confidence']], left_index=True, right_index=True)"
   ]
  }
 ],
 "metadata": {
  "language_info": {
   "name": "python",
   "pygments_lexer": "ipython3"
  }
 },
 "nbformat": 4,
 "nbformat_minor": 2
}
