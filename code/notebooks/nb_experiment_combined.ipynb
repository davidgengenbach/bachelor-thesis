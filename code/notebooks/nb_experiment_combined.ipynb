{
 "cells": [
  {
   "cell_type": "markdown",
   "metadata": {},
   "source": [
    "# Experiment: _Combined text-/graph features vs. text-only features_"
   ]
  },
  {
   "cell_type": "code",
   "execution_count": null,
   "metadata": {},
   "outputs": [],
   "source": [
    "from notebook_prelude import *"
   ]
  },
  {
   "cell_type": "code",
   "execution_count": null,
   "metadata": {},
   "outputs": [],
   "source": [
    "EXPERIMENT_NAME = 'graph_combined'\n",
    "experiment_data = experiment_helper.get_experiment_config_for(EXPERIMENT_NAME)\n",
    "param_grid = experiment_data['params_per_type']\n",
    "df = results_helper.get_results(filter_out_experiment=EXPERIMENT_NAME, filter_out_non_complete_datasets=False).fillna('(MISSING)')\n",
    "pipeline_helper.remove_complex_types(pipeline_helper.flatten_nested_params(param_grid))"
   ]
  },
  {
   "cell_type": "code",
   "execution_count": null,
   "metadata": {},
   "outputs": [],
   "source": [
    "VECTORIZER_TFIDF = 'TfidfVectorizer'\n",
    "VECTORIZER_COUNT = 'CountVectorizer'"
   ]
  },
  {
   "cell_type": "code",
   "execution_count": null,
   "metadata": {},
   "outputs": [],
   "source": [
    "def only_types(df, types):\n",
    "    mask = np.zeros(len(df), dtype=bool)\n",
    "    for t in types: mask |= (df['type'] == t)\n",
    "    return mask\n",
    "\n",
    "df[only_types(df, [TYPE_CONCEPT_MAP, TYPE_COOCCURRENCE, 'text']) & (df.text__vectorizer != VECTORIZER_TFIDF)].groupby(['dataset', 'combined', 'type']).mean_test_f1_macro.max().to_frame().unstack().unstack()"
   ]
  },
  {
   "cell_type": "code",
   "execution_count": null,
   "metadata": {},
   "outputs": [],
   "source": [
    "for index, df_ in df.groupby(['dataset', 'type', 'text__vectorizer', 'combined', 'classifier__C', 'text__vectorizer__binary']):\n",
    "    if len(df_) != 1:\n",
    "        display(df_)\n",
    "        break"
   ]
  }
 ],
 "metadata": {
  "language_info": {
   "name": "python",
   "pygments_lexer": "ipython3"
  }
 },
 "nbformat": 4,
 "nbformat_minor": 2
}
