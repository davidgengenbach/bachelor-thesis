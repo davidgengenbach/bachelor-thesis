{
 "cells": [
  {
   "cell_type": "code",
   "execution_count": null,
   "metadata": {},
   "outputs": [],
   "source": [
    "from notebook_prelude import *"
   ]
  },
  {
   "cell_type": "code",
   "execution_count": null,
   "metadata": {},
   "outputs": [],
   "source": [
    "from utils.classification_options import ClassificationOptions\n",
    "\n",
    "for graph_gram_file in dataset_helper.get_all_gram_datasets():\n",
    "    X, Y = dataset_helper.get_dataset_cached(graph_gram_file, check_validity=False)\n",
    "    print(type(X))\n",
    "    break"
   ]
  }
 ],
 "metadata": {
  "language_info": {
   "name": "python",
   "pygments_lexer": "ipython3"
  }
 },
 "nbformat": 4,
 "nbformat_minor": 2
}
