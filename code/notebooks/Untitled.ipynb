{
 "cells": [
  {
   "cell_type": "code",
   "execution_count": null,
   "metadata": {},
   "outputs": [],
   "source": [
    "from notebook_prelude import *"
   ]
  },
  {
   "cell_type": "code",
   "execution_count": null,
   "metadata": {},
   "outputs": [],
   "source": [
    "#experiment_helper.save_experiment_params_as_experiment_config()\n",
    "#experiment_helper.get_experiment_config(experiment_helper.EXPERIMENT_CONFIG_ALL)\n",
    "#experiment_helper.get_experiment_config('configs/param_grid_configs/graph.example.yaml')\n",
    "experiment_helper.get_all_task_typ_params_flat()"
   ]
  }
 ],
 "metadata": {
  "language_info": {
   "name": "python",
   "pygments_lexer": "ipython3"
  }
 },
 "nbformat": 4,
 "nbformat_minor": 2
}
