{
 "cells": [
  {
   "cell_type": "code",
   "execution_count": null,
   "metadata": {},
   "outputs": [],
   "source": [
    "from notebook_prelude import *"
   ]
  },
  {
   "cell_type": "code",
   "execution_count": null,
   "metadata": {},
   "outputs": [],
   "source": [
    "GRAPHS = {}\n",
    "cmaps = dataset_helper.get_all_cached_graph_datasets(graph_type=TYPE_CONCEPT_MAP)\n",
    "for cache_file in cmaps:\n",
    "    dataset = filename_utils.get_dataset_from_filename(cache_file)\n",
    "    X, Y = dataset_helper.get_dataset_cached(cache_file=cache_file)\n",
    "    X_g = graph_helper.get_graphs_only(X)\n",
    "    GRAPHS[dataset] = (X_g, Y)\n"
   ]
  },
  {
   "cell_type": "code",
   "execution_count": null,
   "metadata": {},
   "outputs": [],
   "source": []
  },
  {
   "cell_type": "code",
   "execution_count": null,
   "metadata": {},
   "outputs": [],
   "source": [
    "cmap = dataset_helper.get_all_cached_graph_datasets(dataset_name='ted_talks', graph_type=TYPE_CONCEPT_MAP)[0]\n",
    "X_, Y = dataset_helper.get_dataset_cached(cmap)"
   ]
  },
  {
   "cell_type": "code",
   "execution_count": null,
   "metadata": {},
   "outputs": [],
   "source": [
    "figsize=(13, 13)\n",
    "\n",
    "X = graph_helper.get_graphs_only(X_)\n",
    "candidates = [idx for idx, g in enumerate(X) if len(g.nodes()) < 15 and len(g.nodes()) > 5]\n",
    "idx = np.random.choice(candidates)\n",
    "g = X[idx]\n",
    "fig, ax = plt.subplots(figsize=figsize)\n",
    "pos = nx.layout.circular_layout(G=g)#, iterations=100)\n",
    "nx.draw_networkx(g, node_size=4, pos=pos, ax = ax)\n",
    "edges = {(s, t): data['name'] for s, t, data in g.edges(data=True)}\n",
    "nx.draw_networkx_edge_labels(g, pos=pos, edge_labels=edges)\n",
    "cleanup_axes(ax)"
   ]
  },
  {
   "cell_type": "code",
   "execution_count": null,
   "metadata": {},
   "outputs": [],
   "source": [
    "import experiments\n",
    "from experiments import experiment_helper\n",
    "experiment_helper.save_experiment_params_as_experiment_config()\n",
    "print('\\n'.join([filename_utils.get_dataset_from_filename(x) for x in dataset_helper.get_all_cached_graph_datasets(graph_type=TYPE_CONCEPT_MAP)]))\n"
   ]
  },
  {
   "cell_type": "code",
   "execution_count": null,
   "metadata": {},
   "outputs": [],
   "source": [
    "X, Y = dataset_helper.get_dataset('imsdb')\n",
    "word_counts = [len(x.split()) for x in X]"
   ]
  },
  {
   "cell_type": "code",
   "execution_count": null,
   "metadata": {},
   "outputs": [],
   "source": [
    "pd.DataFrame(word_counts, columns = ['word_counts']).plot(kind='hist', bins=120)\n",
    "len(word_counts)"
   ]
  },
  {
   "cell_type": "code",
   "execution_count": null,
   "metadata": {},
   "outputs": [],
   "source": [
    "FIG_SIZE = (30, 30)\n",
    "#FIG_SIZE = (5, 5)\n",
    "g = nx.read_gml('tmp/concept-graph.graph')\n",
    "\n",
    "node_mapping = {}\n",
    "for node, data in g.nodes(data=True):\n",
    "    node_mapping[node] = data['name']\n",
    "node_labels = list(node_mapping.values())\n",
    "assert len(node_labels) == len(set(node_labels))\n",
    "\n",
    "\n",
    "nx.relabel_nodes(g, node_mapping, copy=False)\n",
    "edges = g.edges(data=True)\n",
    "edge_labels = {(k, v): data['name'] for k, v, data in edges}\n",
    "\n",
    "for layout in [nx.layout.circular_layout, nx.layout.fruchterman_reingold_layout, nx.layout.random_layout, nx.layout.shell_layout, nx.layout.spectral_layout, nx.layout.spring_layout]:\n",
    "    fig, ax = plt.subplots(figsize=FIG_SIZE)\n",
    "    pos = layout(g)\n",
    "    nx.draw_networkx(g, ax=ax, pos=pos, node_size=10)\n",
    "    nx.draw_networkx_edge_labels(g, pos, edge_labels=edge_labels)\n",
    "    ax.grid(False)\n",
    "    ax.set_title(layout.__name__)\n",
    "    fig.tight_layout()\n",
    "    save_fig(fig, 'concept_map_{}'.format(layout.__name__), folder='tmp/concept_map_example')"
   ]
  }
 ],
 "metadata": {
  "language_info": {
   "name": "python",
   "pygments_lexer": "ipython3"
  }
 },
 "nbformat": 4,
 "nbformat_minor": 2
}
