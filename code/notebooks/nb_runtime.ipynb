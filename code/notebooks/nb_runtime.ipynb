{
 "cells": [
  {
   "cell_type": "code",
   "execution_count": null,
   "metadata": {},
   "outputs": [],
   "source": [
    "from notebook_prelude import *"
   ]
  },
  {
   "cell_type": "code",
   "execution_count": null,
   "metadata": {},
   "outputs": [],
   "source": [
    "import re\n",
    "\n",
    "LOG_DIR = 'tmp/logs'\n",
    "logs = sorted(glob('{}/*.log'.format(LOG_DIR)))\n",
    "log = logs[-1]\n",
    "\n",
    "def get_log(log):\n",
    "    with open(log) as f:\n",
    "        return [x for x in f.read().split('\\n')]\n",
    "\n",
    "def get_finish_times(log_lines):\n",
    "    FINISHED_REGEXP = r'\\d: (.+?) +- (.+?) +- Finished \\(time=(.+?)\\)'\n",
    "    finished_lines = [x.strip() for x in log_lines if x.count('(time=') == 1]\n",
    "    finish_times = re.findall(FINISHED_REGEXP, '\\n'.join(finished_lines))\n",
    "    return finish_times\n",
    "\n",
    "\n",
    "df = pd.DataFrame(get_finish_times(get_log(log)), columns = ['type', 'name', 'time'])"
   ]
  },
  {
   "cell_type": "code",
   "execution_count": null,
   "metadata": {},
   "outputs": [],
   "source": [
    "def time_str_2_seconds(x):\n",
    "    parts = x.split(':')\n",
    "    seconds = 0\n",
    "    for i, part in enumerate(reversed(parts)):\n",
    "        seconds += (np.power(60, i)) * int(part)\n",
    "    return seconds\n",
    "\n",
    "df['dataset'] = df.name.apply(filename_utils.get_dataset_from_filename)\n",
    "df['time_as_seconds'] = df.time.apply(time_str_2_seconds)\n",
    "df['time_as_minutes'] = df.time_as_seconds.apply(lambda x: int(x / 60))"
   ]
  },
  {
   "cell_type": "code",
   "execution_count": null,
   "metadata": {},
   "outputs": [],
   "source": [
    "df.groupby(['dataset', 'type']).time_as_minutes.max().to_frame()"
   ]
  }
 ],
 "metadata": {
  "language_info": {
   "name": "python",
   "pygments_lexer": "ipython3"
  }
 },
 "nbformat": 4,
 "nbformat_minor": 2
}
