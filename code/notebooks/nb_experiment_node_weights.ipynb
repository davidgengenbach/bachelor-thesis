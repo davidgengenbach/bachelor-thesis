{
 "cells": [
  {
   "cell_type": "markdown",
   "metadata": {},
   "source": [
    "# Experiment: _Node weights_"
   ]
  },
  {
   "cell_type": "code",
   "execution_count": null,
   "metadata": {},
   "outputs": [],
   "source": [
    "from notebook_prelude import *"
   ]
  },
  {
   "cell_type": "code",
   "execution_count": null,
   "metadata": {},
   "outputs": [],
   "source": [
    "df = results_helper.get_experiments_by_names(['experiment_node_weights', 'experiment_graphs_plain'], fetch_predictions=True)\n",
    "for x in ['graph__fast_wl__node_weight_iteration_weight_function', 'graph__fast_wl__node_weight_iteration_weight_function']:\n",
    "    df[x + '_'] = df[x].apply(lambda x: x.__name__ if callable(x) else '-')\n",
    "df = df[df.type != TYPE_COOCCURRENCE]"
   ]
  },
  {
   "cell_type": "code",
   "execution_count": null,
   "metadata": {},
   "outputs": [],
   "source": [
    "attr = 'mean_test_f1_macro'\n",
    "attr = 'prediction_score_f1_macro'\n",
    "df_ = df.groupby(['dataset', 'graph__fast_wl__node_weight_function'])[attr].max().to_frame().unstack()\n",
    "df_['difference_non_vs_weight'] = (df_[attr, 'none'] - df_[attr, 'nxgraph_degrees_metric'])\n",
    "df_"
   ]
  },
  {
   "cell_type": "code",
   "execution_count": null,
   "metadata": {},
   "outputs": [],
   "source": [
    "df_confidence = significance_test_utils.get_confidences(df[df.graph__fast_wl__node_weight_function != 'nxgraph_degrees_metric_max'], performance_attr='prediction_score_f1_macro', model_selection_attr='graph__fast_wl__node_weight_function', model_selection_vals=['nxgraph_degrees_metric', 'none'], log_progress=log_progress_nb)"
   ]
  },
  {
   "cell_type": "code",
   "execution_count": null,
   "metadata": {},
   "outputs": [],
   "source": [
    "df_['confidence'] = df_.index.map(lambda x: df_confidence.loc[x].confidence)\n",
    "df__ = df_[[\n",
    "    ('prediction_score_f1_macro', 'none'),\n",
    "    ('prediction_score_f1_macro', 'nxgraph_degrees_metric_max'),\n",
    "    ('confidence', '')\n",
    "]]\n",
    "print(df__.to_latex(float_format=lambda x: '%.4f' % x))\n",
    "df__"
   ]
  },
  {
   "cell_type": "markdown",
   "metadata": {},
   "source": [
    "## Other graph datasets\n",
    "\n",
    "_Mutag_, _Enzymes_, etc."
   ]
  },
  {
   "cell_type": "code",
   "execution_count": null,
   "metadata": {},
   "outputs": [],
   "source": [
    "df = results_helper.get_experiments_by_names(['experiment_graph_extra_plain', 'experiment_graph_extra_node_weights'], fetch_predictions=True)\n",
    "df['graph__fast_wl__node_weight_function'] = df.graph__fast_wl__node_weight_function.apply(lambda x: x.__name__ if callable(x) else x)"
   ]
  },
  {
   "cell_type": "code",
   "execution_count": null,
   "metadata": {},
   "outputs": [],
   "source": [
    "pd.options.display.float_format = lambda x: '%.2f' % x\n",
    "#attr = 'prediction_score_f1_macro'\n",
    "attr = 'mean_test_f1_macro'\n",
    "attr = 'prediction_score_f1_macro'\n",
    "#attr = 'prediction_score_accuracy'\n",
    "best = df.groupby(['dataset', 'graph__fast_wl__node_weight_function'])[attr].max().to_frame().unstack()\n",
    "best.columns = best.columns.droplevel()\n",
    "best.rename(columns={'-': 'plain'}, inplace=True)\n",
    "best = best[(best.none != '-') & (best.adj_degrees_metric_max != '-')]\n",
    "best = best[best.adj_degrees_metric_max != None]\n",
    "best['difference'] = best.adj_degrees_metric_max - best.none\n",
    "#print(best.to_latex())\n",
    "best"
   ]
  },
  {
   "cell_type": "markdown",
   "metadata": {},
   "source": [
    "### Statistics about benchmark graphs"
   ]
  },
  {
   "cell_type": "code",
   "execution_count": null,
   "metadata": {},
   "outputs": [],
   "source": [
    "data = collections.defaultdict(list)\n",
    "for dataset in log_progress_nb(graph_helper.get_all_graph_benchmark_dataset_names()):\n",
    "    X, Y = graph_helper.get_mutag_enzyme_graphs(dataset)\n",
    "    assert len(X) == len(Y)\n",
    "    nodes = list(chain.from_iterable([labels for _, labels in X]))\n",
    "    unique_nodes = set(nodes)\n",
    "    num_edges = sum([adj.nonzero()[0].shape[0] for adj, labels in X])\n",
    "    data['dataset'].append(dataset)\n",
    "    data['num_nodes'].append(len(nodes))\n",
    "    data['num_unique_nodes'].append(len(unique_nodes))\n",
    "    data['num_edges'].append(num_edges)\n",
    "    data['num_graphs'].append(len(X))\n",
    "    data['num_classes'].append(len(set(Y)))"
   ]
  },
  {
   "cell_type": "code",
   "execution_count": null,
   "metadata": {},
   "outputs": [],
   "source": [
    "groupby"
   ]
  },
  {
   "cell_type": "code",
   "execution_count": null,
   "metadata": {},
   "outputs": [],
   "source": [
    "df.graph__fast_wl__node_weight_function.unique()"
   ]
  },
  {
   "cell_type": "code",
   "execution_count": null,
   "metadata": {},
   "outputs": [],
   "source": [
    "attr = 'prediction_score_f1_macro'\n",
    "df_graph_statistics = pd.DataFrame(data).set_index('dataset')\n",
    "df_graph_statistics[df_graph_statistics.num_graphs > 1000]\n",
    "filtered = df[(np.isin(df.dataset.values, df_graph_statistics[df_graph_statistics.num_graphs > 1000].index.values))]\n",
    "best_ = filtered.groupby(groupby)[attr].max().to_frame().unstack()\n",
    "groupby_attr = 'graph__fast_wl__node_weight_function'\n",
    "best_ = best_[[\n",
    "    (attr, 'none'),\n",
    "    (attr, 'adj_degrees_metric_max')\n",
    "]]\n",
    "best_['difference'] = best_[attr, 'none'] - best_[attr, 'adj_degrees_metric_max']\n",
    "best_"
   ]
  },
  {
   "cell_type": "code",
   "execution_count": null,
   "metadata": {},
   "outputs": [],
   "source": [
    "attr"
   ]
  },
  {
   "cell_type": "code",
   "execution_count": null,
   "metadata": {},
   "outputs": [],
   "source": [
    "filtered.graph__fast_wl__node_weight_function.unique()"
   ]
  },
  {
   "cell_type": "code",
   "execution_count": null,
   "metadata": {},
   "outputs": [],
   "source": []
  },
  {
   "cell_type": "code",
   "execution_count": null,
   "metadata": {},
   "outputs": [],
   "source": []
  },
  {
   "cell_type": "code",
   "execution_count": null,
   "metadata": {},
   "outputs": [],
   "source": [
    "filtered['prediction_score_f1_macro'] = filtered.prediction_score_f1_macro.astype(np.float64)\n",
    "filtered = filtered[filtered.graph__fast_wl__node_weight_function != 'adj_degrees_metric']\n",
    "df_confidence = significance_test_utils.get_confidences(filtered, performance_attr=attr, model_selection_attr='graph__fast_wl__node_weight_function', model_selection_vals=['adj_degrees_metric_max', 'none'], log_progress=log_progress_nb)"
   ]
  },
  {
   "cell_type": "code",
   "execution_count": null,
   "metadata": {},
   "outputs": [],
   "source": [
    "best_['confidence'] = best_.index.map(lambda x: df_confidence.loc[x].confidence)\n",
    "\n",
    "print(best_.drop(columns='difference').to_latex(float_format=lambda x: '%.4f' % x))\n",
    "best_"
   ]
  }
 ],
 "metadata": {
  "language_info": {
   "name": "python",
   "pygments_lexer": "ipython3"
  }
 },
 "nbformat": 4,
 "nbformat_minor": 2
}
