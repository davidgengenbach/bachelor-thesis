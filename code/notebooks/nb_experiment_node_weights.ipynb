{
 "cells": [
  {
   "cell_type": "markdown",
   "metadata": {},
   "source": [
    "# Experiment: _Node weights_"
   ]
  },
  {
   "cell_type": "code",
   "execution_count": null,
   "metadata": {},
   "outputs": [],
   "source": [
    "from notebook_prelude import *"
   ]
  },
  {
   "cell_type": "code",
   "execution_count": null,
   "metadata": {},
   "outputs": [],
   "source": [
    "EXPERIMENT_NAME = 'experiment_node_weights'\n",
    "df = results_helper.get_experiments_by_names([EXPERIMENT_NAME])"
   ]
  },
  {
   "cell_type": "code",
   "execution_count": null,
   "metadata": {},
   "outputs": [],
   "source": [
    "pprint(df.columns.values.tolist())"
   ]
  },
  {
   "cell_type": "code",
   "execution_count": null,
   "metadata": {},
   "outputs": [],
   "source": [
    "for x in ['graph__fast_wl__node_weight_iteration_weight_function', 'graph__fast_wl__node_weight_iteration_weight_function']:\n",
    "    df[x + '_'] = df[x].apply(lambda x: x.__name__ if callable(x) else '-')\n",
    "\n",
    "df['graph__fast_wl__node_weight_iteration_weight_function_']  =df.graph__fast_wl__node_weight_iteration_weight_function.apply(lambda x: x.__name__ if callable(x) else '-')"
   ]
  },
  {
   "cell_type": "code",
   "execution_count": null,
   "metadata": {},
   "outputs": [],
   "source": [
    "df_ = df.groupby(['dataset', 'graph__fast_wl__node_weight_function']).mean_test_f1_macro.max().to_frame().unstack()\n",
    "df_['difference_non_vs_weight'] = (df_['mean_test_f1_macro', 'none'] - df_['mean_test_f1_macro', 'nxgraph_degrees_metric']) * 100\n",
    "#df_['mean_test_f1_macro', 'none']\n",
    "df_.columns = df_.columns.droplevel()\n",
    "df_.columns = ['plain', 'degrees_node_weights', 'difference']\n",
    "\n",
    "df__ = df_[['plain', 'degrees_node_weights']]\n",
    "\n",
    "print(df__.to_latex(float_format=\"%.3f\"))\n",
    "df_"
   ]
  },
  {
   "cell_type": "markdown",
   "metadata": {},
   "source": [
    "## Other graph datasets\n",
    "\n",
    "_Mutag_, _Enzymes_, etc."
   ]
  },
  {
   "cell_type": "code",
   "execution_count": null,
   "metadata": {},
   "outputs": [],
   "source": [
    "df = results_helper.get_experiments_by_names(['experiment_node_weights_extra'], fetch_predictions=True)\n",
    "attr = 'prediction_score_accuracy'\n",
    "attr = 'prediction_score_recall_macro'\n",
    "attr = 'prediction_score_f1_macro'\n",
    "attr = 'mean_test_f1_macro'\n",
    "df.graph__fast_wl__node_weight_function.unique()\n",
    "#df.groupby(['dataset', 'graph__fast_wl__node_weight_function'])[attr].max().to_frame().unstack()"
   ]
  },
  {
   "cell_type": "code",
   "execution_count": null,
   "metadata": {},
   "outputs": [],
   "source": [
    "df.columns"
   ]
  },
  {
   "cell_type": "markdown",
   "metadata": {},
   "source": [
    "## graph_helper.get_mutag_enzyme_graphs()"
   ]
  }
 ],
 "metadata": {
  "language_info": {
   "name": "python",
   "pygments_lexer": "ipython3"
  }
 },
 "nbformat": 4,
 "nbformat_minor": 2
}
