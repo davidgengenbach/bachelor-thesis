{
 "cells": [
  {
   "cell_type": "markdown",
   "metadata": {},
   "source": [
    "# Experiment: _Node weights_"
   ]
  },
  {
   "cell_type": "code",
   "execution_count": null,
   "metadata": {},
   "outputs": [],
   "source": [
    "from notebook_prelude import *"
   ]
  },
  {
   "cell_type": "code",
   "execution_count": null,
   "metadata": {},
   "outputs": [],
   "source": [
    "EXPERIMENT_NAME = 'experiment_node_weights'\n",
    "df = results_helper.get_experiments_by_names([EXPERIMENT_NAME])"
   ]
  },
  {
   "cell_type": "code",
   "execution_count": null,
   "metadata": {},
   "outputs": [],
   "source": [
    "df.columns"
   ]
  },
  {
   "cell_type": "code",
   "execution_count": null,
   "metadata": {},
   "outputs": [],
   "source": [
    "for x in ['graph__fast_wl__node_weight_iteration_weight_function', 'graph__fast_wl__node_weight_iteration_weight_function']:\n",
    "    df[x + '_'] = df[x].apply(lambda x: x.__name__ if callable(x) else '-')\n",
    "\n",
    "df['graph__fast_wl__node_weight_iteration_weight_function_']  =df.graph__fast_wl__node_weight_iteration_weight_function.apply(lambda x: x.__name__ if callable(x) else '-')"
   ]
  },
  {
   "cell_type": "code",
   "execution_count": null,
   "metadata": {},
   "outputs": [],
   "source": [
    "df_ = df.groupby(['dataset', 'graph__fast_wl__node_weight_function']).mean_test_f1_macro.max().to_frame().unstack()\n",
    "df_['difference_non_vs_weight'] = df_['mean_test_f1_macro', 'none'] - df_['mean_test_f1_macro', 'nxgraph_degrees_metric']\n",
    "#df_['mean_test_f1_macro', 'none']\n",
    "df_"
   ]
  }
 ],
 "metadata": {
  "language_info": {
   "name": "python",
   "pygments_lexer": "ipython3"
  }
 },
 "nbformat": 4,
 "nbformat_minor": 2
}
