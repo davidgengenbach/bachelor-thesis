{
 "cells": [
  {
   "cell_type": "code",
   "execution_count": null,
   "metadata": {},
   "outputs": [],
   "source": [
    "from notebook_prelude import *"
   ]
  },
  {
   "cell_type": "code",
   "execution_count": null,
   "metadata": {},
   "outputs": [],
   "source": [
    "X, Y = dataset_helper.get_concept_map_for_dataset('ng20')\n",
    "X = graph_helper.get_graphs_only(X)"
   ]
  },
  {
   "cell_type": "code",
   "execution_count": null,
   "metadata": {},
   "outputs": [],
   "source": [
    "\n",
    "wl = WordNetLemmatizer()"
   ]
  },
  {
   "cell_type": "code",
   "execution_count": null,
   "metadata": {},
   "outputs": [],
   "source": [
    "from nltk.stem.porter import PorterStemmer\n",
    "from nltk.stem.lancaster import LancasterStemmer\n",
    "from nltk.stem import WordNetLemmatizer\n",
    "from nltk.stem.snowball import EnglishStemmer as SnowballStemmer\n",
    "from nltk.stem.rslp\n",
    "\n",
    "all_labels = graph_helper.get_all_node_labels(X)\n",
    "all_labels_splitted = list(chain.from_iterable([str(x).split() for x in all_labels]))\n",
    "\n",
    "print('# labels before: {}\\n'.format(len(all_labels)))\n",
    "\n",
    "for t in [PorterStemmer, WordNetLemmatizer, LancasterStemmer, SnowballStemmer]:\n",
    "    t = t()\n",
    "    lookup = {k: t.lemmatize(k) if hasattr(t, 'lemmatize') else t.stem(k) for k in all_labels_splitted}\n",
    "    \n",
    "    name = type(t).__name__\n",
    "    num_renamed = len([k for k, v in lookup.items() if k != v])\n",
    "    after = list(lookup.values())\n",
    "    ratio_matched = len(set(after)) / len(after)\n",
    "    print('\\t{:20} {:6} {:4}'.format(name, num_renamed, ratio_matched))"
   ]
  },
  {
   "cell_type": "code",
   "execution_count": null,
   "metadata": {},
   "outputs": [],
   "source": [
    "from nltk.stem import WordNetLemmatizer\n",
    "\n",
    "wl = WordNetLemmatizer()\n",
    "wl.lemmatize('mothers')"
   ]
  }
 ],
 "metadata": {
  "language_info": {
   "name": "python",
   "pygments_lexer": "ipython3"
  }
 },
 "nbformat": 4,
 "nbformat_minor": 2
}
