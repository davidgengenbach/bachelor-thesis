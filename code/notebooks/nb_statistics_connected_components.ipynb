{
 "cells": [
  {
   "cell_type": "markdown",
   "metadata": {},
   "source": [
    "# Concept map connected components sizes"
   ]
  },
  {
   "cell_type": "code",
   "execution_count": null,
   "metadata": {},
   "outputs": [],
   "source": [
    "from notebook_prelude import *"
   ]
  },
  {
   "cell_type": "code",
   "execution_count": null,
   "metadata": {},
   "outputs": [],
   "source": [
    "data = collections.defaultdict(list)\n",
    "graphs = {}\n",
    "for dataset in helper.log_progress(dataset_helper.get_dataset_names_with_concept_map()):\n",
    "    X, Y = dataset_helper.get_concept_map_for_dataset(dataset)\n",
    "    X = graph_helper.get_graphs_only(X)\n",
    "    graphs[dataset] = X\n",
    "    connected_components = [list(nx.connected_components(nx.Graph(x))) for x in X]\n",
    "    data['dataset'].append(dataset)\n",
    "    data['connected_components'].append(connected_components)\n",
    "df = pd.DataFrame(data).set_index('dataset')"
   ]
  },
  {
   "cell_type": "code",
   "execution_count": null,
   "metadata": {},
   "outputs": [],
   "source": [
    "df['size_connected_components'] = df.connected_components.apply(lambda x: [len(y) for y in x])\n",
    "df['num_connected_components'] = df.connected_components.apply(len)"
   ]
  },
  {
   "cell_type": "code",
   "execution_count": null,
   "metadata": {},
   "outputs": [],
   "source": [
    "def plot_connected_component_size(df_, dataset, ax=None, **plot_args):\n",
    "    if ax is None:\n",
    "        _, ax = plt.subplots(figsize=(11, 5))\n",
    "    fig = ax.get_figure()\n",
    "    s = pd.Series(df_.size_connected_components)\n",
    "    s.plot(kind='hist', ax = ax, label=dataset, normed=True, title='Dataset: {}'.format(dataset), **plot_args)\n",
    "    ax.set_xlabel('# of nodes per connected component')\n",
    "    fig.tight_layout()\n",
    "    return ax\n",
    "\n",
    "for dataset, df_ in df.iterrows():\n",
    "    ax = plot_connected_component_size(df_, dataset, alpha=0.8)\n",
    "    fig = ax.get_figure()\n",
    "    save_fig(fig, 'connected_component_size_{}'.format(dataset), 'tmp/connected_component_size')"
   ]
  },
  {
   "cell_type": "code",
   "execution_count": null,
   "metadata": {},
   "outputs": [],
   "source": [
    "fig, ax = plt.subplots(figsize=(8, 3))\n",
    "LIMIT = ['ng20', 'ted_talks']\n",
    "for dataset, df_ in df.iterrows():\n",
    "    if dataset not in LIMIT: continue\n",
    "    ax = plot_connected_component_size(df_, dataset, bins=30, alpha=0.8, ax = ax)\n",
    "    \n",
    "    ax.set_title('')\n",
    "ax.grid(False)\n",
    "ax.legend()\n",
    "fig.tight_layout()\n",
    "save_fig(fig, 'connected_component_size_comparison', 'tmp/connected_component_size')"
   ]
  }
 ],
 "metadata": {
  "language_info": {
   "name": "python",
   "pygments_lexer": "ipython3"
  }
 },
 "nbformat": 4,
 "nbformat_minor": 2
}
