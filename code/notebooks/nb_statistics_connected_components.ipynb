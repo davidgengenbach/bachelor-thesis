{
 "cells": [
  {
   "cell_type": "markdown",
   "metadata": {},
   "source": [
    "# Concept map connected components sizes"
   ]
  },
  {
   "cell_type": "code",
   "execution_count": null,
   "metadata": {},
   "outputs": [],
   "source": [
    "from notebook_prelude import *"
   ]
  },
  {
   "cell_type": "code",
   "execution_count": null,
   "metadata": {},
   "outputs": [],
   "source": [
    "data = collections.defaultdict(list)\n",
    "graphs = {}\n",
    "for dataset in helper.log_progress(dataset_helper.get_dataset_names_with_concept_map()):\n",
    "    X, Y = dataset_helper.get_concept_map_for_dataset(dataset)\n",
    "    X = graph_helper.get_graphs_only(X)\n",
    "    graphs[dataset] = X\n",
    "    connected_components = [list(nx.connected_components(nx.Graph(x))) for x in X]\n",
    "    data['dataset'].append(dataset)\n",
    "    data['connected_components'].append(connected_components)\n",
    "df = pd.DataFrame(data).set_index('dataset')"
   ]
  },
  {
   "cell_type": "code",
   "execution_count": null,
   "metadata": {},
   "outputs": [],
   "source": [
    "df['size_connected_components'] = df.connected_components.apply(lambda x: [len(y) for y in x])\n",
    "df['sizes_connected_component'] = df.connected_components.apply(lambda x: [[len(y_) for y_ in y] for y in x])\n",
    "df['num_connected_components'] = df.size_connected_components.apply(lambda x: sum(x))"
   ]
  },
  {
   "cell_type": "code",
   "execution_count": null,
   "metadata": {},
   "outputs": [],
   "source": [
    "df.loc['ling-spam'].sizes_connected_component"
   ]
  },
  {
   "cell_type": "code",
   "execution_count": null,
   "metadata": {},
   "outputs": [],
   "source": [
    "def plot_connected_component_size(df_, dataset, ax=None, **plot_args):\n",
    "    if ax is None:\n",
    "        _, ax = plt.subplots(figsize=(11, 5))\n",
    "    fig = ax.get_figure()\n",
    "    s = pd.Series(df_.size_connected_components)\n",
    "    s.plot(kind='hist', ax = ax, label=dataset, normed=True, title='Dataset: {}'.format(dataset), **plot_args)\n",
    "    ax.set_xlabel('# of nodes per connected component')\n",
    "    fig.tight_layout()\n",
    "    return ax\n",
    "\n",
    "for dataset, df_ in df.iterrows():\n",
    "    ax = plot_connected_component_size(df_, dataset, alpha=0.8)\n",
    "    fig = ax.get_figure()\n",
    "    save_fig(fig, 'connected_component_size_{}'.format(dataset), 'tmp/connected_component_size')"
   ]
  },
  {
   "cell_type": "code",
   "execution_count": null,
   "metadata": {},
   "outputs": [],
   "source": [
    "fig, ax = plt.subplots(figsize=(8, 3))\n",
    "LIMIT = ['ng20', 'ted_talks']\n",
    "for dataset, df_ in df.iterrows():\n",
    "    if dataset not in LIMIT: continue\n",
    "    ax = plot_connected_component_size(df_, dataset, bins=30, alpha=0.8, ax = ax)\n",
    "    \n",
    "    ax.set_title('')\n",
    "ax.grid(False)\n",
    "ax.legend()\n",
    "fig.tight_layout()\n",
    "save_fig(fig, 'connected_component_size_comparison', 'tmp/connected_component_size')"
   ]
  },
  {
   "cell_type": "markdown",
   "metadata": {},
   "source": [
    "## Percentage of graphs with more than one connected component"
   ]
  },
  {
   "cell_type": "code",
   "execution_count": null,
   "metadata": {},
   "outputs": [],
   "source": [
    "#df.loc['ling-spam']\n",
    "#df.connected_components\n",
    "#df['num_more_than_one_connected_component'] = df.size_connected_components.apply(lambda x: x >)\n",
    "df['ratio_more_than_one'] = df.apply(lambda x: len([y for y in x.size_connected_components if y > 1]) / len(x.size_connected_components),axis=1)\n",
    "df_ = df[['ratio_more_than_one']] * 100\n",
    "df_.loc['mean'] = df_.mean()\n",
    "print((df_).to_latex(float_format = '%.1f'))"
   ]
  },
  {
   "cell_type": "code",
   "execution_count": null,
   "metadata": {},
   "outputs": [],
   "source": [
    "def get_ratio_of_connected_component_size_for_dataset(x, connected_component_size=2):\n",
    "    c_ = 0\n",
    "    s_ = 0\n",
    "    for cc in x.sizes_connected_component:\n",
    "        elements = [c for c in cc if c == connected_component_size]\n",
    "        c_ += len(elements)\n",
    "        s_ += sum(elements)\n",
    "    return c_ / x.num_connected_components\n",
    "\n",
    "for i in range(2, 5):\n",
    "    df['ratio_connected_component_of_size_' + str(i)] = df.apply(lambda x: get_ratio_of_connected_component_size_for_dataset(x, i), axis=1)\n",
    "\n",
    "ratio_columns = sorted([c for c in df.columns if c.startswith('ratio') and not c.endswith('1')])\n",
    "df_ = (df[ratio_columns] * 100).rename(columns = {c: '|s_c|={}'.format(c.split('_')[-1]) for c in ratio_columns})\n",
    "df_.loc['mean'] = df_.mean()\n",
    "print(df_.to_latex(float_format = '%.1f'))\n",
    "df_"
   ]
  }
 ],
 "metadata": {
  "language_info": {
   "name": "python",
   "pygments_lexer": "ipython3"
  }
 },
 "nbformat": 4,
 "nbformat_minor": 2
}
