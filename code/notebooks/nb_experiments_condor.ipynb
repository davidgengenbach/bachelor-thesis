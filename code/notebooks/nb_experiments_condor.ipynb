{
 "cells": [
  {
   "cell_type": "markdown",
   "metadata": {},
   "source": [
    "## Create condor scheduling jobs\n",
    "\n",
    "... and upload them to the server."
   ]
  },
  {
   "cell_type": "code",
   "execution_count": null,
   "metadata": {},
   "outputs": [],
   "source": [
    "from notebook_prelude import *"
   ]
  },
  {
   "cell_type": "code",
   "execution_count": null,
   "metadata": {},
   "outputs": [],
   "source": [
    "from utils import time_utils, git_utils\n",
    "\n",
    "all_experiments = glob('{}/*/*.yaml'.format(EXPERIMENT_CONFIG_FOLDER))\n",
    "\n",
    "priorities = dict(\n",
    "    split_multi_words=3,\n",
    "    edge_labels=2,\n",
    "    relabel=1,\n",
    "    remove_infrequent=1,\n",
    "    content_vs_structure=1,\n",
    "    combined=0,\n",
    "    use_directed=0,\n",
    "    node_weights=-1,\n",
    "    dimensionality_reduction=-999,\n",
    "    ngrams=-2,\n",
    "    fast_wl_normalization=-2\n",
    ")\n",
    "\n",
    "verbose = 1\n",
    "cores = 16\n",
    "extra = '--use_nested'\n",
    "extra = ''\n",
    "create_predictions='true'\n",
    "\n",
    "tmpl = 'condor_submit priority=\"{prio}\" batch_name=\"{name}\" Args=\"--task_name concept --experiment_config /home/david/bachelor-thesis/code/{experiment} {extra}\" classification_job.condor'\n",
    "\n",
    "outs = []\n",
    "for experiment in sorted(all_experiments):\n",
    "    name, name_ = experiment.split('/')[2:]\n",
    "    assert name in priorities, 'Missing priority for experiment: {}'.format(name)\n",
    "    prio = priorities.get(name)\n",
    "    cmd = tmpl.format(name=name_, cores=cores, verbose=verbose, experiment=experiment, prio=prio, extra=extra, create_predictions=create_predictions)\n",
    "    outs.append((prio, cmd))\n",
    "\n",
    "prio = -2\n",
    "cmd = 'condor_submit priority=\"{prio}\" batch_name=\"{name}\" Args=\"--task_name concept\" classification_job.condor'.format(prio=prio, name='normal_concept_maps', cores=cores, verbose=verbose, create_predictions=create_predictions)\n",
    "outs.append((prio, cmd))\n",
    "\n",
    "prio = 10\n",
    "cmd = 'condor_submit priority=\"{prio}\" batch_name=\"{name}\" Args=\"--task_type_include text\" classification_job.condor'.format(prio=prio, name='text', cores=cores, verbose=verbose, create_predictions=create_predictions)\n",
    "outs.append((prio, cmd))\n",
    "\n",
    "prio = 11\n",
    "for t in ['dummy_most_frequent', 'dummy_stratified', 'dummy_uniform']:\n",
    "    cmd = ('condor_submit priority=\"{prio}\" batch_name=\"{name}\" Args=\"--task_type_include {task_type}\" classification_job.condor'.format(prio=prio, name=t, task_type=t, cores=cores, verbose=verbose))\n",
    "    outs.append((prio, cmd))\n",
    "\n",
    "PRELUDE = '''#!/usr/bin/env bash\n",
    "\n",
    "# Created: {}\n",
    "# Commit:  {}\n",
    "\n",
    "{}\n",
    "'''\n",
    "    \n",
    "cmds = ';\\n\\n'.join([cmd for prio, cmd in sorted(outs, key=lambda x: x[0], reverse=True)])\n",
    "with open('tmp/start_classifaction_jobs.sh', 'w') as f:\n",
    "    f.write(PRELUDE.format(time_utils.get_time_formatted(), git_utils.get_current_commit(), cmds))\n",
    "\n",
    "print('# Jobs: {}'.format(len(outs)))\n",
    "\n",
    "print('Uploading')\n",
    "!chmod +x tmp/start_classifaction_jobs.sh\n",
    "!scp tmp/start_classifaction_jobs.sh pe:condor_scripts/\n",
    "print('Finished')"
   ]
  },
  {
   "cell_type": "code",
   "execution_count": null,
   "metadata": {},
   "outputs": [],
   "source": [
    "!cat tmp/start_classifaction_jobs.sh"
   ]
  }
 ],
 "metadata": {
  "language_info": {
   "name": "python",
   "pygments_lexer": "ipython3"
  }
 },
 "nbformat": 4,
 "nbformat_minor": 2
}
