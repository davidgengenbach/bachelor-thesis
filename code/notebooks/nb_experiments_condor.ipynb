{
 "cells": [
  {
   "cell_type": "markdown",
   "metadata": {},
   "source": [
    "## Create condor scheduling jobs\n",
    "\n",
    "... and upload them to the server."
   ]
  },
  {
   "cell_type": "code",
   "execution_count": null,
   "metadata": {},
   "outputs": [],
   "source": [
    "from notebook_prelude import *"
   ]
  },
  {
   "cell_type": "code",
   "execution_count": null,
   "metadata": {},
   "outputs": [],
   "source": [
    "from utils import time_utils, git_utils\n",
    "\n",
    "all_experiments = glob('{}/*/*.yaml'.format(EXPERIMENT_CONFIG_FOLDER))\n",
    "\n",
    "all_experiments = [x for x in all_experiments if '.disabled.' not in x]\n",
    "\n",
    "priorities = [\n",
    "    'remove_unseen_nodes',\n",
    "    'split_multi_words',\n",
    "    'edge_labels',\n",
    "    'content_vs_structure',\n",
    "    'use_directed',\n",
    "    'relabel',\n",
    "    'remove_infrequent',\n",
    "    'node_weights',\n",
    "    'combined',\n",
    "    'ngrams',\n",
    "    'fast_wl_normalization',\n",
    "#    'dimensionality_reduction',\n",
    "]\n",
    "\n",
    "verbose = 1\n",
    "cores = 16\n",
    "extra = '--use_nested'\n",
    "extra = ''\n",
    "create_predictions='true'\n",
    "\n",
    "tmpl = 'condor_submit priority=\"{prio}\" batch_name=\"{name}_{task_name}\" Args=\"--task_name {task_name} --experiment_config /home/david/bachelor-thesis/code/{experiment} {extra}\" classification_job.condor'\n",
    "\n",
    "outs = []\n",
    "for t in [TYPE_CONCEPT_MAP, TYPE_COOCCURRENCE]:\n",
    "    for experiment in sorted(all_experiments):\n",
    "        name, name_ = experiment.split('/')[2:]\n",
    "        if name not in priorities:\n",
    "            print('Missing priority for experiment: {}.Skipping.'.format(name))\n",
    "            continue\n",
    "        prio = 100 - priorities.index(name)\n",
    "        if t == TYPE_COOCCURRENCE:\n",
    "            prio -= 10\n",
    "        cmd = tmpl.format(name=name_, cores=cores, verbose=verbose, experiment=experiment, prio=prio, extra=extra, create_predictions=create_predictions, task_name=t)\n",
    "        outs.append((prio, cmd))\n",
    "\n",
    "prio = -2\n",
    "cmd = 'condor_submit priority=\"{prio}\" batch_name=\"{name}\" Args=\"--task_name concept\" classification_job.condor'.format(prio=prio, name='normal_concept_maps', cores=cores, verbose=verbose, create_predictions=create_predictions)\n",
    "outs.append((prio, cmd))\n",
    "\n",
    "prio = 91\n",
    "cmd = 'condor_submit priority=\"{prio}\" batch_name=\"{name}\" Args=\"--task_type_include text\" classification_job.condor'.format(prio=prio, name='text', cores=cores, verbose=verbose, create_predictions=create_predictions)\n",
    "outs.append((prio, cmd))\n",
    "\n",
    "prio = 101\n",
    "for t in ['dummy_most_frequent', 'dummy_stratified', 'dummy_uniform']:\n",
    "    cmd = ('condor_submit priority=\"{prio}\" batch_name=\"{name}\" Args=\"--task_type_include {task_type}\" classification_job.condor'.format(prio=prio, name=t, task_type=t, cores=cores, verbose=verbose))\n",
    "    outs.append((prio, cmd))\n",
    "\n",
    "PRELUDE = '''#!/usr/bin/env bash\n",
    "\n",
    "# Created: {}\n",
    "# Commit:  {}\n",
    "\n",
    "{}\n",
    "'''\n",
    "    \n",
    "cmds = ';\\n\\n'.join([cmd for prio, cmd in sorted(outs, key=lambda x: x[0], reverse=True)])\n",
    "with open('tmp/start_classifaction_jobs.sh', 'w') as f:\n",
    "    f.write(PRELUDE.format(time_utils.get_time_formatted(), git_utils.get_current_commit(), cmds))\n",
    "\n",
    "print('# Jobs: {}'.format(len(outs)))\n",
    "\n",
    "print('Uploading')\n",
    "!chmod +x tmp/start_classifaction_jobs.sh\n",
    "!scp tmp/start_classifaction_jobs.sh pe:condor_scripts/\n",
    "print('Finished')"
   ]
  },
  {
   "cell_type": "code",
   "execution_count": null,
   "metadata": {},
   "outputs": [],
   "source": [
    "!cat tmp/start_classifaction_jobs.sh"
   ]
  }
 ],
 "metadata": {
  "language_info": {
   "name": "python",
   "pygments_lexer": "ipython3"
  }
 },
 "nbformat": 4,
 "nbformat_minor": 2
}
