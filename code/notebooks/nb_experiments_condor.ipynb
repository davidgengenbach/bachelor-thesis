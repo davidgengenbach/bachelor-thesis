{
 "cells": [
  {
   "cell_type": "code",
   "execution_count": null,
   "metadata": {},
   "outputs": [],
   "source": [
    "from notebook_prelude import *"
   ]
  },
  {
   "cell_type": "markdown",
   "metadata": {},
   "source": [
    "## Create condor scheduling jobs"
   ]
  },
  {
   "cell_type": "code",
   "execution_count": null,
   "metadata": {},
   "outputs": [],
   "source": [
    "all_experiments = glob('{}/*/*.yaml'.format(EXPERIMENT_CONFIG_FOLDER))\n",
    "\n",
    "priorities = dict(\n",
    "    split_multi_words=3,\n",
    "    edge_labels=2,\n",
    "    relabel=1,\n",
    "    remove_infrequent=1,\n",
    "    content_vs_structure=1,\n",
    "    combined=0,\n",
    "    use_directed=0,\n",
    "    node_weights=-1,\n",
    ")\n",
    "\n",
    "extra = '--use_nested'\n",
    "extra = ''\n",
    "\n",
    "tmpl = 'condor_submit priority=\"{prio}\" batch_name=\"{name}\" Args=\"--n_jobs_outer 1 --n_jobs {cores} --verbose {verbose} --task_name concept --experiment_config /home/david/bachelor-thesis/code/{experiment} {extra}\" classification_job.condor'\n",
    "\n",
    "out = []\n",
    "for experiment in sorted(all_experiments):\n",
    "    name, name_ = experiment.split('/')[2:]\n",
    "    assert name in priorities, 'Missing priority for experiment: {}'.format(name)\n",
    "    prio = priorities.get(name)\n",
    "    cmd = tmpl.format(name=name_, cores=16, verbose=1, experiment=experiment, prio=prio, extra=extra)\n",
    "    out.append(cmd)\n",
    "\n",
    "df = pd.DataFrame(out)\n",
    "df.to_clipboard(index=False,header=False, excel=False, sep='')\n",
    "print(';\\n'.join(out))"
   ]
  }
 ],
 "metadata": {
  "language_info": {
   "name": "python",
   "pygments_lexer": "ipython3"
  }
 },
 "nbformat": 4,
 "nbformat_minor": 2
}
