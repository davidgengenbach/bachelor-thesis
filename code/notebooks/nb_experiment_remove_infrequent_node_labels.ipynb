{
 "cells": [
  {
   "cell_type": "markdown",
   "metadata": {},
   "source": [
    "# Experiment: _Remove infrequent labels_\n",
    "\n",
    "Some node labels occur only once in the dataset. This is a test whether they can be removed safely.\n",
    "\n",
    "Note that some labels can occur only once in the train set, and **multiple** times in the test set! These labels would not get matched."
   ]
  },
  {
   "cell_type": "code",
   "execution_count": null,
   "metadata": {},
   "outputs": [],
   "source": [
    "from notebook_prelude import *"
   ]
  },
  {
   "cell_type": "code",
   "execution_count": null,
   "metadata": {},
   "outputs": [],
   "source": [
    "NA_VAL = '-'\n",
    "EXPERIMENT_NAME = 'experiment_remove_infrequent_nodelabels'\n",
    "df = results_helper.get_experiments_by_names([EXPERIMENT_NAME], fetch_predictions=True)\n",
    "df_ = results_helper.get_results(filter_out_non_complete_datasets=None, fetch_predictions=True)\n",
    "\n",
    "df = results_helper.filter_out_datasets(df, lambda x: 'RemoveInfrequentGraphLabels' in x.graph_preprocessing.values)\n",
    "df = df.append(df_[df_.combined == False]).fillna('-').reset_index()\n",
    "df = df[(df.combined == False) & (df.kernel != 'unknown')]"
   ]
  },
  {
   "cell_type": "markdown",
   "metadata": {},
   "source": [
    "## Results when removing single occurrence labels from the dataset\n",
    "\n",
    "Removing the labels decreases the score significantly!"
   ]
  },
  {
   "cell_type": "code",
   "execution_count": null,
   "metadata": {},
   "outputs": [],
   "source": [
    "df.columns"
   ]
  },
  {
   "cell_type": "code",
   "execution_count": null,
   "metadata": {},
   "outputs": [],
   "source": [
    "df[df.type == TYPE_CONCEPT_MAP].fillna('(na)').groupby(['dataset', 'graph_preprocessing']).prediction_score_f1_macro.max().to_frame().unstack()"
   ]
  },
  {
   "cell_type": "code",
   "execution_count": null,
   "metadata": {},
   "outputs": [],
   "source": [
    "df.loc[df[df.graph_preprocessing == '-'].groupby('dataset').mean_test_f1_macro.idxmax()]\n",
    "#df.graph_preprocessing.unique()"
   ]
  },
  {
   "cell_type": "code",
   "execution_count": null,
   "metadata": {},
   "outputs": [],
   "source": [
    "best = df.loc[df.fillna('(na)').groupby(['dataset', 'graph_preprocessing']).mean_test_f1_macro.idxmax()]\n",
    "best[['dataset', 'params', 'mean_test_f1_macro']]"
   ]
  }
 ],
 "metadata": {
  "language_info": {
   "name": "python",
   "pygments_lexer": "ipython3"
  }
 },
 "nbformat": 4,
 "nbformat_minor": 2
}
