{
 "cells": [
  {
   "cell_type": "markdown",
   "metadata": {},
   "source": [
    "# Experiment: _Remove infrequent labels_\n",
    "\n",
    "Some node labels occur only once in the dataset. This is a test whether they can be removed safely.\n",
    "\n",
    "Note that some labels can occur only once in the train set, and **multiple** times in the test set! These labels would not get matched."
   ]
  },
  {
   "cell_type": "code",
   "execution_count": null,
   "metadata": {},
   "outputs": [],
   "source": [
    "from notebook_prelude import *"
   ]
  },
  {
   "cell_type": "code",
   "execution_count": null,
   "metadata": {},
   "outputs": [],
   "source": [
    "sorted(experiment_helper.get_all_experiment_names())"
   ]
  },
  {
   "cell_type": "code",
   "execution_count": null,
   "metadata": {},
   "outputs": [],
   "source": [
    "experiment_names = ['experiment_remove_infrequent_nodelabels_1', 'experiment_remove_infrequent_nodelabels_3', 'experiment_graphs_plain']\n",
    "df = results_helper.get_experiments_by_names(experiment_names\n",
    ", fetch_predictions=True)"
   ]
  },
  {
   "cell_type": "code",
   "execution_count": null,
   "metadata": {},
   "outputs": [],
   "source": [
    "# Filter out non-concept maps\n",
    "df = df[df.type == TYPE_CONCEPT_MAP]"
   ]
  },
  {
   "cell_type": "markdown",
   "metadata": {},
   "source": [
    "## Results when removing single occurrence labels from the dataset"
   ]
  },
  {
   "cell_type": "code",
   "execution_count": null,
   "metadata": {},
   "outputs": [],
   "source": [
    "df.columns"
   ]
  },
  {
   "cell_type": "code",
   "execution_count": null,
   "metadata": {},
   "outputs": [],
   "source": [
    "groupby = ['dataset', 'graph__preprocessing']\n",
    "attr = 'prediction_score_f1_macro'\n",
    "grouped = df.groupby(groupby)[attr]\n",
    "\n",
    "df_ = grouped.max().to_frame().unstack()\n",
    "df_.columns = df_.columns.droplevel()\n",
    "df_\n",
    "print(df_.to_latex(float_format='%.3f'))"
   ]
  },
  {
   "cell_type": "code",
   "execution_count": null,
   "metadata": {},
   "outputs": [],
   "source": [
    "df_confidence = significance_test_utils.get_confidences(df, performance_attr=attr, model_selection_attr='graph__preprocessing', model_selection_vals=['-', 'RemoveInfrequentGraphLabels'], log_progress=log_progress_nb)"
   ]
  },
  {
   "cell_type": "code",
   "execution_count": null,
   "metadata": {},
   "outputs": [],
   "source": [
    "pd.set_option('display.float_format', lambda x: '%.3f' % x)\n",
    "df_['confidence'] = df_confidence.confidence.values\n",
    "print(df_.to_latex(float_format=lambda x: '%.4f' % x))\n",
    "df_"
   ]
  }
 ],
 "metadata": {
  "language_info": {
   "name": "python",
   "pygments_lexer": "ipython3"
  }
 },
 "nbformat": 4,
 "nbformat_minor": 2
}
