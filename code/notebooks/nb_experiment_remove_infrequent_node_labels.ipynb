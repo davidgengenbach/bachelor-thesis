{
 "cells": [
  {
   "cell_type": "markdown",
   "metadata": {},
   "source": [
    "# Experiment: _Remove infrequent labels_\n",
    "\n",
    "Some node labels occur only once in the dataset. This is a test whether they can be removed safely.\n",
    "\n",
    "Note that some labels can occur only once in the train set, and **multiple** times in the test set! These labels would not get matched."
   ]
  },
  {
   "cell_type": "code",
   "execution_count": null,
   "metadata": {},
   "outputs": [],
   "source": [
    "from notebook_prelude import *"
   ]
  },
  {
   "cell_type": "code",
   "execution_count": null,
   "metadata": {},
   "outputs": [],
   "source": [
    "NA_VAL = '-'\n",
    "EXPERIMENT_NAME = 'experiment_remove_infrequent_nodelabels'\n",
    "experiment_data = experiment_helper.get_experiment_config_for(EXPERIMENT_NAME)\n",
    "param_grid = experiment_data['params_per_type']\n",
    "df = results_helper.get_results(filter_out_experiment=EXPERIMENT_NAME, filter_out_non_complete_datasets=False)\n",
    "df_ = results_helper.get_results(filter_out_non_complete_datasets=None)\n",
    "df = df.append(df_[df_.combined == False]).fillna('-').reset_index()\n",
    "df = results_helper.filter_out_datasets(df, lambda x: 'RemoveInfrequentGraphLabels' in x.graph_preprocessing.values)\n",
    "\n",
    "for name, val in pipeline_helper.remove_complex_types(pipeline_helper.flatten_nested_params(param_grid)).items():\n",
    "    print('{:76} {}'.format(name, val))"
   ]
  },
  {
   "cell_type": "markdown",
   "metadata": {},
   "source": [
    "## Results when removing single occurrence labels from the dataset\n",
    "\n",
    "Removing the labels decreases the score significantly!"
   ]
  },
  {
   "cell_type": "code",
   "execution_count": null,
   "metadata": {},
   "outputs": [],
   "source": [
    "df.fillna('(na)').groupby(['dataset', 'graph_preprocessing']).mean_test_f1_macro.max().to_frame().unstack()"
   ]
  },
  {
   "cell_type": "code",
   "execution_count": null,
   "metadata": {},
   "outputs": [],
   "source": [
    "best = df.loc[df.fillna('(na)').groupby(['dataset', 'graph_preprocessing']).mean_test_f1_macro.idxmax()]\n",
    "best[['dataset', 'params', 'mean_test_f1_macro']]"
   ]
  }
 ],
 "metadata": {
  "language_info": {
   "name": "python",
   "pygments_lexer": "ipython3"
  }
 },
 "nbformat": 4,
 "nbformat_minor": 2
}
