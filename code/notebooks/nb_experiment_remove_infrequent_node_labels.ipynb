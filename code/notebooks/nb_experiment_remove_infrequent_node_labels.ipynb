{
 "cells": [
  {
   "cell_type": "markdown",
   "metadata": {},
   "source": [
    "# Experiment: _Remove infrequent labels_\n",
    "\n",
    "Some node labels occur only once in the dataset. This is a test whether they can be removed safely.\n",
    "\n",
    "Note that some labels can occur only once in the train set, and **multiple** times in the test set! These labels would not get matched."
   ]
  },
  {
   "cell_type": "code",
   "execution_count": null,
   "metadata": {},
   "outputs": [],
   "source": [
    "from notebook_prelude import *"
   ]
  },
  {
   "cell_type": "code",
   "execution_count": null,
   "metadata": {},
   "outputs": [],
   "source": [
    "NA_VAL = '-'\n",
    "EXPERIMENT_NAME = 'experiment_remove_infrequent_nodelabels'\n",
    "df = results_helper.get_experiments_by_names([EXPERIMENT_NAME], fetch_predictions=True)\n",
    "df_ = results_helper.get_results(filter_out_non_complete_datasets=None, fetch_predictions=True)\n",
    "df = results_helper.filter_out_datasets(df, lambda x: 'RemoveInfrequentGraphLabels' in x.graph_preprocessing.values)\n",
    "df = df.append(df_[df_.combined == False]).fillna('-').reset_index()\n",
    "df = df[(df.combined == False) & (df.kernel != 'unknown')]\n",
    "df = df[df.type == TYPE_CONCEPT_MAP].fillna('(na)')"
   ]
  },
  {
   "cell_type": "markdown",
   "metadata": {},
   "source": [
    "## Results when removing single occurrence labels from the dataset"
   ]
  },
  {
   "cell_type": "code",
   "execution_count": null,
   "metadata": {},
   "outputs": [],
   "source": [
    "df.columns"
   ]
  },
  {
   "cell_type": "code",
   "execution_count": null,
   "metadata": {},
   "outputs": [],
   "source": [
    "groupby = ['dataset', 'graph_preprocessing']\n",
    "attr = 'prediction_score_f1_macro'\n",
    "grouped = df.groupby(groupby)[attr]\n",
    "\n",
    "df_ = grouped.max().to_frame().unstack()\n",
    "df_.columns = df_.columns.droplevel()"
   ]
  },
  {
   "cell_type": "code",
   "execution_count": null,
   "metadata": {},
   "outputs": [],
   "source": [
    "best = df.loc[grouped.idxmax()]\n",
    "confidences = []\n",
    "for dataset, df__ in best.groupby('dataset'):\n",
    "    print(dataset)\n",
    "    if len(df__) != 2:\n",
    "        confidences.append(np.nan)\n",
    "        print('\\tNot enough data. Skipping')\n",
    "        continue\n",
    "    prediction_filenames = [df__.loc[best.graph_preprocessing == name].iloc[0].prediction_file for name in ['-', 'RemoveInfrequentGraphLabels']]\n",
    "    diffs, score_a, score_b, global_difference, confidence = results_helper.calculate_significance(prediction_filenames[0], prediction_filenames[1])\n",
    "    \n",
    "    for k, v in [('Score A', score_a), ('Score B', score_b), ('Difference', global_difference), ('Confidence', confidence)]:\n",
    "        print('\\t{:20} {:9.4f}'.format(k, v))\n",
    "    print()\n",
    "    confidences.append(confidence)"
   ]
  },
  {
   "cell_type": "code",
   "execution_count": null,
   "metadata": {},
   "outputs": [],
   "source": [
    "df_['confidence'] = confidences\n",
    "print(df_.to_latex(float_format=\"%.4f\"))\n",
    "df_"
   ]
  }
 ],
 "metadata": {
  "language_info": {
   "name": "python",
   "pygments_lexer": "ipython3"
  }
 },
 "nbformat": 4,
 "nbformat_minor": 2
}
