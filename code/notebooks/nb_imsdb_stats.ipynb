{
 "cells": [
  {
   "cell_type": "code",
   "execution_count": null,
   "metadata": {},
   "outputs": [],
   "source": [
    "from notebook_prelude import *\n",
    "import experiments\n",
    "from experiments import task_helper, task_runner\n",
    "from preprocessing import preprocessing"
   ]
  },
  {
   "cell_type": "code",
   "execution_count": null,
   "metadata": {},
   "outputs": [],
   "source": [
    "X, Y = dataset_helper.get_dataset('imsdb')\n",
    "X = [preprocessing.preprocess(x) for x in X]"
   ]
  },
  {
   "cell_type": "code",
   "execution_count": null,
   "metadata": {},
   "outputs": [],
   "source": [
    "word_counts = [len(x.split()) for x in X]"
   ]
  },
  {
   "cell_type": "code",
   "execution_count": null,
   "metadata": {},
   "outputs": [],
   "source": [
    "fig, ax = plt.subplots()\n",
    "df = pd.DataFrame(word_counts, columns = ['num_words'])\n",
    "df.num_words.plot(kind='hist', bins=60)\n",
    "ax.axvline(df.num_words.median(), c='red')\n",
    "ax.text(df.num_words.median(), -10, df.num_words.median(), fontdict=dict(horizontalalignment='center'))\n",
    "ax.grid('off')\n",
    "ax.set_xlabel('# words per document')"
   ]
  },
  {
   "cell_type": "code",
   "execution_count": null,
   "metadata": {},
   "outputs": [],
   "source": [
    "gscv_result.cv_results_['mean_test_score']"
   ]
  }
 ],
 "metadata": {
  "language_info": {
   "name": "python",
   "pygments_lexer": "ipython3"
  }
 },
 "nbformat": 4,
 "nbformat_minor": 2
}
