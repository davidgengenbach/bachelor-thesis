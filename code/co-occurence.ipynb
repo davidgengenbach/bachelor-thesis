{
 "cells": [
  {
   "cell_type": "code",
   "execution_count": 1,
   "metadata": {
    "collapsed": true
   },
   "outputs": [],
   "source": [
    "%load_ext autoreload\n",
    "%autoreload 2"
   ]
  },
  {
   "cell_type": "code",
   "execution_count": 2,
   "metadata": {},
   "outputs": [],
   "source": [
    "from cooccurrence import *\n",
    "from glob import glob\n",
    "from time import time\n",
    "import helper\n",
    "import sys\n",
    "import networkx as nx\n",
    "import matplotlib.pyplot as plt\n",
    "from joblib import Parallel, delayed\n",
    "import dataset_helper\n",
    "import preprocessing\n",
    "import os\n",
    "import graph_helper"
   ]
  },
  {
   "cell_type": "code",
   "execution_count": 15,
   "metadata": {},
   "outputs": [
    {
     "name": "stdout",
     "output_type": "stream",
     "text": [
      "CPU times: user 33.7 ms, sys: 22.6 ms, total: 56.3 ms\n",
      "Wall time: 54.7 ms\n"
     ]
    }
   ],
   "source": [
    "%%time\n",
    "X_all, Y_all = dataset_helper.get_dataset('ng20')\n",
    "X, Y = X_all, Y_all"
   ]
  },
  {
   "cell_type": "code",
   "execution_count": 14,
   "metadata": {
    "collapsed": true
   },
   "outputs": [],
   "source": [
    "if False:\n",
    "    X, Y = X_all[:1000], Y_all[:1000]"
   ]
  },
  {
   "cell_type": "code",
   "execution_count": 20,
   "metadata": {},
   "outputs": [
    {
     "name": "stdout",
     "output_type": "stream",
     "text": [
      "CPU times: user 41.6 s, sys: 621 ms, total: 42.2 s\n",
      "Wall time: 42.4 s\n"
     ]
    }
   ],
   "source": [
    "%%time\n",
    "X = preprocessing.preprocess_text_spacy(X, min_length = 2)"
   ]
  },
  {
   "cell_type": "code",
   "execution_count": 17,
   "metadata": {},
   "outputs": [
    {
     "name": "stdout",
     "output_type": "stream",
     "text": [
      "CPU times: user 8.18 s, sys: 651 ms, total: 8.83 s\n",
      "Wall time: 58.6 s\n"
     ]
    }
   ],
   "source": [
    "%%time\n",
    "\n",
    "def get_mats(X, n_jobs = 4, **kwargs):\n",
    "    return Parallel(n_jobs=n_jobs)(delayed(get_coocurrence_matrix)(d, **kwargs) for d in X)\n",
    "\n",
    "mats = get_mats(X)"
   ]
  },
  {
   "cell_type": "code",
   "execution_count": 18,
   "metadata": {},
   "outputs": [
    {
     "name": "stdout",
     "output_type": "stream",
     "text": [
      "CPU times: user 31.1 s, sys: 1.59 s, total: 32.6 s\n",
      "Wall time: 34.2 s\n"
     ]
    }
   ],
   "source": [
    "%%time\n",
    "graphs = Parallel(n_jobs=4)(delayed(graph_helper.convert_from_numpy_to_nx)(*mat) for mat in mats)"
   ]
  },
  {
   "cell_type": "code",
   "execution_count": 19,
   "metadata": {},
   "outputs": [
    {
     "name": "stdout",
     "output_type": "stream",
     "text": [
      "CPU times: user 3.95 s, sys: 580 ms, total: 4.53 s\n",
      "Wall time: 18.1 s\n"
     ]
    }
   ],
   "source": [
    "%%time\n",
    "dataset_name = 'ng20-co-occurrence-preprocessed'\n",
    "\n",
    "def write_mat(idx, graph, label, out_folder):\n",
    "    filename = os.path.join(out_folder, '{}_{}.gml'.format(label, idx))\n",
    "    nx.write_gml(graph, filename)\n",
    "    \n",
    "def write_mats(mats, Y, dataset_name, n_jobs = 4, out_folder = 'data/graphs/'):\n",
    "    out_folder = os.path.join(out_folder, dataset_name)\n",
    "    os.makedirs(out_folder, exist_ok=True)\n",
    "    Parallel(n_jobs=n_jobs)(delayed(write_mat)(idx, graph, y, out_folder) for idx, (graph, y) in enumerate(zip(graphs, Y)))\n",
    "\n",
    "num_elements = -1\n",
    "#write_mats(X[:num_elements], Y[:num_elements], dataset_name)\n",
    "write_mats(graphs, Y, dataset_name)"
   ]
  }
 ],
 "metadata": {
  "anaconda-cloud": {},
  "kernelspec": {
   "display_name": "Python [conda root]",
   "language": "python",
   "name": "conda-root-py"
  },
  "language_info": {
   "codemirror_mode": {
    "name": "ipython",
    "version": 3
   },
   "file_extension": ".py",
   "mimetype": "text/x-python",
   "name": "python",
   "nbconvert_exporter": "python",
   "pygments_lexer": "ipython3",
   "version": "3.5.3"
  },
  "toc": {
   "colors": {
    "hover_highlight": "#DAA520",
    "navigate_num": "#000000",
    "navigate_text": "#333333",
    "running_highlight": "#FF0000",
    "selected_highlight": "#FFD700",
    "sidebar_border": "#EEEEEE",
    "wrapper_background": "#FFFFFF"
   },
   "moveMenuLeft": true,
   "nav_menu": {
    "height": "4px",
    "width": "254px"
   },
   "navigate_menu": true,
   "number_sections": true,
   "sideBar": true,
   "threshold": 4,
   "toc_cell": false,
   "toc_section_display": "block",
   "toc_window_display": false,
   "widenNotebook": false
  }
 },
 "nbformat": 4,
 "nbformat_minor": 1
}
