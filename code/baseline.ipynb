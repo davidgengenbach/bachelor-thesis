{
 "cells": [
  {
   "cell_type": "markdown",
   "metadata": {},
   "source": [
    "# Baselines"
   ]
  },
  {
   "cell_type": "code",
   "execution_count": 1,
   "metadata": {
    "collapsed": true
   },
   "outputs": [],
   "source": [
    "%load_ext autoreload\n",
    "%autoreload 2"
   ]
  },
  {
   "cell_type": "code",
   "execution_count": 2,
   "metadata": {
    "collapsed": true
   },
   "outputs": [],
   "source": [
    "import itertools\n",
    "import numpy as np\n",
    "import pandas as pd\n",
    "import helper\n",
    "import sklearn\n",
    "from sklearn import metrics\n",
    "import matplotlib\n",
    "import matplotlib.pyplot as plt\n",
    "import w2v_d2v\n",
    "import dataset_helper\n",
    "import preprocessing"
   ]
  },
  {
   "cell_type": "code",
   "execution_count": 3,
   "metadata": {
    "collapsed": true
   },
   "outputs": [],
   "source": [
    "from notebook.services.config import ConfigManager\n",
    "ConfigManager().update('notebook', {'limit_output': 1000});"
   ]
  },
  {
   "cell_type": "markdown",
   "metadata": {},
   "source": [
    "### Fetch subset of newsgroup-20 dataset"
   ]
  },
  {
   "cell_type": "code",
   "execution_count": 4,
   "metadata": {
    "collapsed": true
   },
   "outputs": [],
   "source": [
    "if 0 == 1:\n",
    "    REMOVE = ('headers', 'footers', 'quotes')\n",
    "    CATEGORIES = ('talk.politics.misc', 'comp.graphics')\n",
    "\n",
    "    newsgroup_dataset_train = sklearn.datasets.fetch_20newsgroups(subset = 'train', remove = REMOVE, categories = CATEGORIES)\n",
    "    newsgroup_dataset_test = sklearn.datasets.fetch_20newsgroups(subset = 'test', remove = REMOVE, categories = CATEGORIES)"
   ]
  },
  {
   "cell_type": "code",
   "execution_count": 38,
   "metadata": {},
   "outputs": [
    {
     "name": "stdout",
     "output_type": "stream",
     "text": [
      "alt atheism faq atheist resources archive name atheism resources alt atheism archive name resources last modified december version atheist resources addresses of atheist organizations usa freedom from religion foundation darwin fish bumper stickers and assorted other atheist paraphernalia are available from the freedom from religion foundation in the us write to ffrf p o box madison wi telephone evolution designs evolution designs sell the darwin fish it s a fish symbol like the ones christians stick on their cars but with feet and the word darwin written inside the deluxe moulded d plastic fish is postpaid in the us write to evolution designs laurel canyon north hollywood ca people in the san francisco bay area can get darwin fish from lynn gold try mailing figmo netcom com for net people who go to lynn directly the price is per fish american atheist press aap publish various atheist books critiques of the bible lists of biblical contradictions and so on one such book is the bible handbook by w p ball and g w foote american atheist press pp isbn nd edition bible contradictions absurdities atrocities immoralities contains ball foote the bible contradicts itself aap based on the king james version of the bible write to american atheist press p o box austin tx or cameron road austin tx telephone fax prometheus books sell books including haught s holy horrors see below write to east amherst street buffalo new york telephone an alternate address which may be newer or older is prometheus books glenn drive buffalo ny african americans for humanism an organization promoting black secular humanism and uncovering the history of black freethought they publish a quarterly newsletter aah examiner write to norm r allen jr african americans for humanism p o box buffalo ny united kingdom rationalist press association national secular society islington high street holloway road london n ew london n nl british humanist association south place ethical society lamb s conduit passage conway hall london wc r rh red lion square london wc r rl fax the national secular society publish the freethinker a monthly magazine founded in germany ibka e v internationaler bund der konfessionslosen und atheisten postfach d berlin germany ibka publish a journal miz materialien und informationen zur zeit politisches journal der konfessionslosesn und atheisten hrsg ibka e v miz vertrieb postfach d berlin germany for atheist books write to ibdk internationaler b ucherdienst der konfessionslosen postfach d hannover germany telephone books fiction thomas m disch the santa claus compromise short story the ultimate proof that santa exists all characters and events are fictitious any similarity to living or dead gods uh well walter m miller jr a canticle for leibowitz one gem in this post atomic doomsday novel is the monks who spent their lives copying blueprints from saint leibowitz filling the sheets of paper with ink and leaving white lines and letters edgar pangborn davy post atomic doomsday novel set in clerical states the church for example forbids that anyone produce describe or use any substance containing atoms philip k dick philip k dick dick wrote many philosophical and thought provoking short stories and novels his stories are bizarre at times but very approachable he wrote mainly sf but he wrote about people truth and religion rather than technology although he often believed that he had met some sort of god he remained sceptical amongst his novels the following are of some relevance galactic pot healer a fallible alien deity summons a group of earth craftsmen and women to a remote planet to raise a giant cathedral from beneath the oceans when the deity begins to demand faith from the earthers pot healer joe fernwright is unable to comply a polished ironic and amusing novel a maze of death noteworthy for its description of a technology based religion valis the schizophrenic hero searches for the hidden mysteries of gnostic christianity after reality is fired into his brain by a pink laser beam of unknown but possibly divine origin he is accompanied by his dogmatic and dismissively atheist friend and assorted other odd characters the divine invasion god invades earth by making a young woman pregnant as she returns from another star system unfortunately she is terminally ill and must be assisted by a dead man whose brain is wired to hour easy listening music margaret atwood the handmaid s tale a story based on the premise that the us congress is mysteriously assassinated and fundamentalists quickly take charge of the nation to set it right again the book is the diary of a woman s life as she tries to live under the new christian theocracy women s right to own property is revoked and their bank accounts are closed sinful luxuries are outlawed and the radio is only used for readings from the bible crimes are punished retroactively doctors who performed legal abortions in the old world are hunted down and hanged atwood s writing style is difficult to get used to at first but the tale grows more and more chilling as it goes on various authors the bible this somewhat dull and rambling work has often been criticized however it is probably worth reading if only so that you ll know what all the fuss is about it exists in many different versions so make sure you get the one true version books non fiction peter de rosa vicars of christ bantam press although de rosa seems to be christian or even catholic this is a very enlighting history of papal immoralities adulteries fallacies etc german translation gottes erste diener die dunkle seite des papsttums droemer knaur michael martin atheism a philosophical justification temple university press philadelphia usa a detailed and scholarly justification of atheism contains an outstanding appendix defining terminology and usage in this necessarily tendentious area argues both for negative atheism i e the non belief in the existence of god s and also for positive atheism the belief in the non existence of god s includes great refutations of the most challenging arguments for god particular attention is paid to refuting contempory theists such as platinga and swinburne pages isbn hardcover paperback also available the case against christianity temple university press a comprehensive critique of christianity in which he considers the best contemporary defences of christianity and ultimately demonstrates that they are unsupportable and or incoherent pages isbn james turner without god without creed the johns hopkins university press baltimore md usa subtitled the origins of unbelief in america examines the way in which unbelief whether agnostic or atheistic became a mainstream alternative world view focusses on the period and while considering france and britain the emphasis is on american and particularly new england developments neither a religious history of secularization or atheism without god without creed is rather the intellectual history of the fate of a single idea the belief that god exists pages isbn hardcover x paper george seldes editor the great thoughts ballantine books new york usa a dictionary of quotations of a different kind concentrating on statements and writings which explicitly or implicitly present the person s philosophy and world view includes obscure and often suppressed opinions from many people for some popular observations traces the way in which various people expressed and twisted the idea over the centuries quite a number of the quotations are derived from cardiff s what great men think of religion and noyes views of religion pages isbn paper x richard swinburne the existence of god revised edition clarendon paperbacks oxford this book is the second volume in a trilogy that began with the coherence of theism and was concluded with faith and reason in this work swinburne attempts to construct a series of inductive arguments for the existence of god his arguments which are somewhat tendentious and rely upon the imputation of late th century western christian values and aesthetics to a god which is supposedly as simple as can be conceived were decisively rejected in mackie s the miracle of theism in the revised edition of the existence of god swinburne includes an appendix in which he makes a somewhat incoherent attempt to rebut mackie j l mackie the miracle of theism oxford this posthumous volume contains a comprehensive review of the principal arguments for and against the existence of god it ranges from the classical philosophical positions of descartes anselm berkeley hume et al through the moral arguments of newman kant and sidgwick to the recent restatements of the classical theses by plantinga and swinburne it also addresses those positions which push the concept of god beyond the realm of the rational such as those of kierkegaard kung and philips as well as replacements for god such as lelie s axiarchism the book is a delight to read less formalistic and better written than martin s works and refreshingly direct when compared with the hand waving of swinburne james a haught holy horrors an illustrated history of religious murder and madness prometheus books looks at religious persecution from ancient times to the present day and not only by christians library of congress catalog card number norm r allen jr african american humanism an anthology see the listing for african americans for humanism above gordon stein an anthology of atheism and rationalism prometheus books an anthology covering a wide range of subjects including the devil evil and morality and the history of freethought comprehensive bibliography edmund d cohen the mind of the bible believer prometheus books a study of why people become christian fundamentalists and what effect it has on them net resources there s a small mail based archive server at mantis co uk which carries archives of old alt atheism moderated articles and assorted other files for more information send mail to archive server mantis co uk saying help send atheism index and it will mail back a reply mathew alt.atheism\n"
     ]
    }
   ],
   "source": [
    "ana_datasets = {dataset: dataset_helper.get_dataset_dict_preprocessed(dataset, use_cached = True) for dataset in 'cade-ana mini20-ana ng20-ana r52-ana r8-ana webkb-ana'.split()}\n",
    "X, Y, classes = ana_datasets['ng20-ana']\n"
   ]
  },
  {
   "cell_type": "code",
   "execution_count": 6,
   "metadata": {},
   "outputs": [
    {
     "ename": "NameError",
     "evalue": "name 'newsgroup_dataset_train' is not defined",
     "output_type": "error",
     "traceback": [
      "\u001b[0;31m---------------------------------------------------------------------------\u001b[0m",
      "\u001b[0;31mNameError\u001b[0m                                 Traceback (most recent call last)",
      "\u001b[0;32m<ipython-input-6-2b7f6695971c>\u001b[0m in \u001b[0;36m<module>\u001b[0;34m()\u001b[0m\n\u001b[1;32m      2\u001b[0m     \u001b[0;32mreturn\u001b[0m \u001b[0;34m[\u001b[0m\u001b[0mtarget_names\u001b[0m\u001b[0;34m[\u001b[0m\u001b[0mx\u001b[0m\u001b[0;34m]\u001b[0m \u001b[0;32mfor\u001b[0m \u001b[0mx\u001b[0m \u001b[0;32min\u001b[0m \u001b[0mdata\u001b[0m\u001b[0;34m]\u001b[0m\u001b[0;34m\u001b[0m\u001b[0m\n\u001b[1;32m      3\u001b[0m \u001b[0;34m\u001b[0m\u001b[0m\n\u001b[0;32m----> 4\u001b[0;31m \u001b[0mdata_train_X\u001b[0m\u001b[0;34m,\u001b[0m \u001b[0mdata_train_Y\u001b[0m \u001b[0;34m=\u001b[0m \u001b[0mnewsgroup_dataset_train\u001b[0m\u001b[0;34m.\u001b[0m\u001b[0mdata\u001b[0m\u001b[0;34m,\u001b[0m \u001b[0mconvert_target_names\u001b[0m\u001b[0;34m(\u001b[0m\u001b[0mnewsgroup_dataset_train\u001b[0m\u001b[0;34m.\u001b[0m\u001b[0mtarget\u001b[0m\u001b[0;34m,\u001b[0m \u001b[0mnewsgroup_dataset_train\u001b[0m\u001b[0;34m.\u001b[0m\u001b[0mtarget_names\u001b[0m\u001b[0;34m)\u001b[0m\u001b[0;34m\u001b[0m\u001b[0m\n\u001b[0m\u001b[1;32m      5\u001b[0m \u001b[0mdata_test_X\u001b[0m\u001b[0;34m,\u001b[0m \u001b[0mdata_test_Y\u001b[0m \u001b[0;34m=\u001b[0m \u001b[0mnewsgroup_dataset_test\u001b[0m\u001b[0;34m.\u001b[0m\u001b[0mdata\u001b[0m\u001b[0;34m,\u001b[0m \u001b[0mconvert_target_names\u001b[0m\u001b[0;34m(\u001b[0m\u001b[0mnewsgroup_dataset_test\u001b[0m\u001b[0;34m.\u001b[0m\u001b[0mtarget\u001b[0m\u001b[0;34m,\u001b[0m \u001b[0mnewsgroup_dataset_test\u001b[0m\u001b[0;34m.\u001b[0m\u001b[0mtarget_names\u001b[0m\u001b[0;34m)\u001b[0m\u001b[0;34m\u001b[0m\u001b[0m\n\u001b[1;32m      6\u001b[0m \u001b[0mclasses\u001b[0m \u001b[0;34m=\u001b[0m \u001b[0mnewsgroup_dataset_train\u001b[0m\u001b[0;34m.\u001b[0m\u001b[0mtarget_names\u001b[0m\u001b[0;34m\u001b[0m\u001b[0m\n",
      "\u001b[0;31mNameError\u001b[0m: name 'newsgroup_dataset_train' is not defined"
     ]
    }
   ],
   "source": [
    "def convert_target_names(data, target_names):\n",
    "    return [target_names[x] for x in data]\n",
    "\n",
    "data_train_X, data_train_Y = newsgroup_dataset_train.data, convert_target_names(newsgroup_dataset_train.target, newsgroup_dataset_train.target_names)\n",
    "data_test_X, data_test_Y = newsgroup_dataset_test.data, convert_target_names(newsgroup_dataset_test.target, newsgroup_dataset_test.target_names)\n",
    "classes = newsgroup_dataset_train.target_names"
   ]
  },
  {
   "cell_type": "markdown",
   "metadata": {},
   "source": [
    "## Training classifiers on vectorized docs"
   ]
  },
  {
   "cell_type": "markdown",
   "metadata": {},
   "source": [
    "### Feature extraction\n",
    "Remove stopwords and vectorize with Tfidf"
   ]
  },
  {
   "cell_type": "code",
   "execution_count": null,
   "metadata": {
    "collapsed": true
   },
   "outputs": [],
   "source": [
    "vectorizer = sklearn.feature_extraction.text.CountVectorizer(stop_words = 'english')\n",
    "vectorizer.fit(data_train_X)\n",
    "\n",
    "vectors_train = vectorizer.transform(data_train_X)\n",
    "vectors_test = vectorizer.transform(data_test_X)\n",
    "\n",
    "tfidf_transformer = sklearn.feature_extraction.text.TfidfTransformer()\n",
    "tfidf_transformer.fit(vectors_train)\n",
    "vectors_trans_train = tfidf_transformer.transform(vectors_train)\n",
    "vectors_trans_test = tfidf_transformer.transform(vectors_test)"
   ]
  },
  {
   "cell_type": "markdown",
   "metadata": {},
   "source": [
    "### Train different classifiers on tfidf vectors of docs"
   ]
  },
  {
   "cell_type": "code",
   "execution_count": null,
   "metadata": {},
   "outputs": [],
   "source": [
    "clfs = helper.get_classifiers()\n",
    "\n",
    "results = {}\n",
    "for clf_name, clf in clfs.items():\n",
    "    print(clf_name)\n",
    "    # Fit\n",
    "    clf.fit(vectors_train, data_train_Y)\n",
    "    \n",
    "    # Predict\n",
    "    pred_train = clf.predict(vectors_trans_train)\n",
    "    pred_test = clf.predict(vectors_trans_test)\n",
    "    \n",
    "    # Metric\n",
    "    f1_score_train = metrics.f1_score(data_train_Y, pred_train, average='macro')\n",
    "    f1_score_test = metrics.f1_score(data_test_Y, pred_test, average='macro')\n",
    "    results[clf_name] = {'train': f1_score_train, 'test': f1_score_test, 'acc': metrics.accuracy_score(data_test_Y, pred_test)}\n",
    "    \n",
    "    # Confusion matrix\n",
    "    confusion_matrix = metrics.confusion_matrix(data_test_Y, pred_test, labels = classes)\n",
    "    plt.figure(figsize = (8, 8))\n",
    "    helper.plot_confusion_matrix(confusion_matrix, classes, title = '{}\\n(f1 macro test-set: {:.2f})'.format(clf_name, f1_score_test), normalize = True)\n",
    "print('F1 Scores')\n",
    "pd.DataFrame(results)\n",
    "plt.show()"
   ]
  },
  {
   "cell_type": "markdown",
   "metadata": {},
   "source": [
    "## Train Doc2Vec and Word2Vec classifier"
   ]
  },
  {
   "cell_type": "markdown",
   "metadata": {},
   "source": [
    "### Pre-process docs for d2v and w2v"
   ]
  },
  {
   "cell_type": "code",
   "execution_count": null,
   "metadata": {
    "collapsed": true
   },
   "outputs": [],
   "source": [
    "w2v_data = [w2v_d2v.w2v_preproess(doc) for doc in data_train_X]\n",
    "w2v_data_test = [w2v_d2v.w2v_preproess(doc) for doc in data_test_X]"
   ]
  },
  {
   "cell_type": "markdown",
   "metadata": {},
   "source": [
    "### Train Word2Vec"
   ]
  },
  {
   "cell_type": "code",
   "execution_count": null,
   "metadata": {
    "collapsed": true
   },
   "outputs": [],
   "source": [
    "model_w2v = w2v_d2v.train_w2v(w2v_data, iterations=1)"
   ]
  },
  {
   "cell_type": "markdown",
   "metadata": {},
   "source": [
    "### Train Doc2Vec"
   ]
  },
  {
   "cell_type": "code",
   "execution_count": null,
   "metadata": {
    "collapsed": true
   },
   "outputs": [],
   "source": [
    "model_d2v = w2v_d2v.train_d2v(w2v_data, data_train_Y, iterations = 1)"
   ]
  },
  {
   "cell_type": "code",
   "execution_count": null,
   "metadata": {},
   "outputs": [],
   "source": [
    "scores = w2v_d2v.score_d2v(clfs, data_train_Y, data_test_Y, data_test_Y_names, model_d2v, w2v_data, w2v_data_test, steps = 1)"
   ]
  },
  {
   "cell_type": "code",
   "execution_count": null,
   "metadata": {},
   "outputs": [],
   "source": [
    "scores"
   ]
  }
 ],
 "metadata": {
  "anaconda-cloud": {},
  "kernelspec": {
   "display_name": "Python [conda root]",
   "language": "python",
   "name": "conda-root-py"
  },
  "language_info": {
   "codemirror_mode": {
    "name": "ipython",
    "version": 3
   },
   "file_extension": ".py",
   "mimetype": "text/x-python",
   "name": "python",
   "nbconvert_exporter": "python",
   "pygments_lexer": "ipython3",
   "version": "3.5.3"
  },
  "toc": {
   "colors": {
    "hover_highlight": "#DAA520",
    "navigate_num": "#000000",
    "navigate_text": "#333333",
    "running_highlight": "#FF0000",
    "selected_highlight": "#FFD700",
    "sidebar_border": "#EEEEEE",
    "wrapper_background": "#FFFFFF"
   },
   "moveMenuLeft": true,
   "nav_menu": {
    "height": "251px",
    "width": "254px"
   },
   "navigate_menu": true,
   "number_sections": true,
   "sideBar": true,
   "threshold": 4,
   "toc_cell": false,
   "toc_section_display": "block",
   "toc_window_display": false,
   "widenNotebook": false
  }
 },
 "nbformat": 4,
 "nbformat_minor": 1
}
