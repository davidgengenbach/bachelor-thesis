{
 "cells": [
  {
   "cell_type": "code",
   "execution_count": 1,
   "metadata": {
    "collapsed": true
   },
   "outputs": [],
   "source": [
    "%load_ext autoreload\n",
    "%autoreload 2"
   ]
  },
  {
   "cell_type": "code",
   "execution_count": 2,
   "metadata": {
    "collapsed": true
   },
   "outputs": [],
   "source": [
    "import numpy as np\n",
    "import networkx as nx\n",
    "from scipy.sparse import lil_matrix, csr_matrix, vstack\n",
    "import copy\n",
    "import os\n",
    "import helper\n",
    "from wl import *\n",
    "from joblib import Parallel, delayed\n",
    "from time import time\n",
    "import matplotlib.pyplot as plt\n",
    "from glob import glob\n",
    "import math\n",
    "import pandas as pd\n",
    "import collections\n",
    "import sklearn\n",
    "from sklearn import linear_model\n",
    "import psutil\n",
    "import pickle\n",
    "import functools\n",
    "from matplotlib import cm\n",
    "from IPython.display import display\n",
    "from sklearn import utils\n",
    "import dataset_helper"
   ]
  },
  {
   "cell_type": "code",
   "execution_count": 3,
   "metadata": {
    "collapsed": true
   },
   "outputs": [],
   "source": [
    "def flatten(l, as_set = False):\n",
    "    return functools.reduce(lambda acc, x: acc | set(x) if as_set else acc + list(x), l, set() if as_set else list())"
   ]
  },
  {
   "cell_type": "markdown",
   "metadata": {},
   "source": [
    "## Retrieve graphs from Tobias' concept-graph extraction library"
   ]
  },
  {
   "cell_type": "code",
   "execution_count": 4,
   "metadata": {
    "collapsed": true
   },
   "outputs": [],
   "source": [
    "DATASET = 'ling-spam'\n",
    "cache_file = dataset_helper.CACHE_PATH + '/dataset_graph_gml_{}-single.npy'.format(DATASET)\n",
    "#cache_file = dataset_helper.CACHE_PATH + '/dataset_graph_cooccurrence_{}.npy'.format(DATASET)\n",
    "X, Y = dataset_helper.get_dataset(DATASET, use_cached = True, cache_file = cache_file)\n",
    "#X, Y = dataset_helper.get_subset_with_most_frequent_classes(X, Y, num_classes_to_keep = 3)\n",
    "assert len(X) and len(Y), 'Dataset is empty: {}'.format(DATASET)\n",
    "assert len(X) == len(Y)\n",
    "graphs_per_topic = dataset_helper.get_dataset_dict(X, Y)\n",
    "#graphs_per_topic = get_graphs(GRAPH_DIR, undirected = False, verbose = False, limit_elements = -1)"
   ]
  },
  {
   "cell_type": "markdown",
   "metadata": {},
   "source": [
    "## Statistics about the graphs"
   ]
  },
  {
   "cell_type": "code",
   "execution_count": 5,
   "metadata": {},
   "outputs": [
    {
     "data": {
      "image/png": "[encoded data removed]",
      "text/plain": [
       "<matplotlib.figure.Figure at 0x1209f7358>"
      ]
     },
     "metadata": {},
     "output_type": "display_data"
    }
   ],
   "source": [
    "df_graphs_per_topic = pd.DataFrame([(topic, len(graphs), [len(x.nodes()) for x in graphs], [len(x.edges()) for x in graphs]) for topic, graphs in graphs_per_topic.items()], columns = ['topic', 'num_graphs', 'num_nodes', 'num_edges']).set_index(['topic']).sort_values(by = 'num_graphs')\n",
    "ax = df_graphs_per_topic.plot.barh(title = 'Graphs per topic', legend = False, figsize = (14, 8))\n",
    "ax.set_xlabel('# graphs')\n",
    "plt.show()\n",
    "\n",
    "def get_range_of(df, column):\n",
    "    return df[column].apply(lambda x: min(x)).min(), df[column].apply(lambda x: max(x)).max()\n",
    "\n",
    "nodes_range = get_range_of(df_graphs_per_topic, 'num_nodes')\n",
    "edges_range = get_range_of(df_graphs_per_topic, 'num_edges')\n",
    "\n",
    "if False:\n",
    "    num_classes = len(set(Y))\n",
    "    ncols, nrows = (2, max(2, math.ceil(num_classes / 2)))\n",
    "    fig, axes = plt.subplots(ncols=ncols, nrows=nrows, figsize = (14, 20))\n",
    "    fig_, axes_ = plt.subplots(ncols=ncols, nrows=nrows, figsize = (14, 20))\n",
    "    for idx, (topic, (num_graphs, num_nodes, num_edges)) in enumerate(df_graphs_per_topic.iterrows()):\n",
    "        row = int(idx / ncols)\n",
    "        col = idx % ncols\n",
    "        print(row, col)\n",
    "        ax = axes[row][col]\n",
    "        ax_ = axes_[row][col]\n",
    "\n",
    "        # \n",
    "        ax.set_title(\"{}\".format(topic))\n",
    "        ax.set_xlabel('# nodes')\n",
    "        ax.hist(num_nodes, bins=40, normed = True, range = nodes_range)\n",
    "\n",
    "        #\n",
    "        ax_.set_title(\"{}\".format(topic))\n",
    "        ax_.set_xlabel('# edges')\n",
    "        ax_.hist(num_edges, bins=40, normed = True, range = edges_range)\n",
    "    fig.tight_layout()\n",
    "    fig_.tight_layout()\n",
    "plt.show()"
   ]
  },
  {
   "cell_type": "code",
   "execution_count": 6,
   "metadata": {},
   "outputs": [
    {
     "data": {
      "image/png": "[encoded data removed]",
      "text/plain": [
       "<matplotlib.figure.Figure at 0x11b4d1da0>"
      ]
     },
     "metadata": {},
     "output_type": "display_data"
    }
   ],
   "source": [
    "df_graphs_per_topic['avg_nodes'] = df_graphs_per_topic.num_nodes.apply(lambda x: np.mean(x))\n",
    "df_graphs_per_topic['avg_edges'] = df_graphs_per_topic.num_edges.apply(lambda x: np.mean(x))\n",
    "df_graphs_per_topic.plot(kind = 'barh', y = ['avg_nodes', 'avg_edges'], figsize = (14, 8))\n",
    "plt.show()"
   ]
  },
  {
   "cell_type": "markdown",
   "metadata": {},
   "source": [
    "## Filter categories"
   ]
  },
  {
   "cell_type": "code",
   "execution_count": 7,
   "metadata": {
    "collapsed": true
   },
   "outputs": [],
   "source": [
    "REMOVE_CATEGORIES = ['misc.forsale', 'comp.graphics']\n",
    "REMOVE_CATEGORIES = []\n",
    "graphs = graphs_per_topic.copy()\n",
    "if len(REMOVE_CATEGORIES):\n",
    "    for cat in REMOVE_CATEGORIES:\n",
    "        del graphs[cat]"
   ]
  },
  {
   "cell_type": "code",
   "execution_count": 8,
   "metadata": {
    "collapsed": true
   },
   "outputs": [],
   "source": [
    "all_graphs = flatten(graphs.values())"
   ]
  },
  {
   "cell_type": "code",
   "execution_count": 9,
   "metadata": {
    "collapsed": true
   },
   "outputs": [],
   "source": [
    "all_nodes = set()\n",
    "for g in all_graphs:\n",
    "    all_nodes |= set(g.nodes())"
   ]
  },
  {
   "cell_type": "code",
   "execution_count": 10,
   "metadata": {},
   "outputs": [
    {
     "name": "stdout",
     "output_type": "stream",
     "text": [
      "#graphs:\t\t2674\n",
      "Unique tokens found:\t38598\n"
     ]
    }
   ],
   "source": [
    "print('#graphs:\\t\\t{}'.format(len(all_graphs)))\n",
    "print('Unique tokens found:\\t{}'.format(len(all_nodes)))"
   ]
  },
  {
   "cell_type": "markdown",
   "metadata": {},
   "source": [
    "## Create train/test split"
   ]
  },
  {
   "cell_type": "code",
   "execution_count": 11,
   "metadata": {
    "collapsed": true
   },
   "outputs": [],
   "source": [
    "# TODO: This should be done with dataset_helper.split_dataset(..)\n",
    "def get_train_test_split(topic_graphs, train_split_ratio = 0.8):\n",
    "    train = []\n",
    "    test = []\n",
    "    num_elements = {}\n",
    "    for topic, graphs in topic_graphs.items():\n",
    "        num_elements_train = int(len(graphs) * train_split_ratio)\n",
    "        train += [(topic, x) for x in graphs[:num_elements_train]]\n",
    "        test += [(topic, x) for x in graphs[num_elements_train:]]\n",
    "    return train, test\n",
    "train, test = get_train_test_split(graphs)"
   ]
  },
  {
   "cell_type": "code",
   "execution_count": 12,
   "metadata": {},
   "outputs": [
    {
     "name": "stdout",
     "output_type": "stream",
     "text": [
      "#graphs\n",
      "\ttrain:\t2139\n",
      "\ttest:\t535\n"
     ]
    }
   ],
   "source": [
    "print('#graphs\\n\\ttrain:\\t{}\\n\\ttest:\\t{}'.format(len(train), len(test)))"
   ]
  },
  {
   "cell_type": "code",
   "execution_count": 13,
   "metadata": {},
   "outputs": [
    {
     "data": {
      "image/png": "[encoded data removed]",
      "text/plain": [
       "<matplotlib.figure.Figure at 0x1209cb6a0>"
      ]
     },
     "metadata": {},
     "output_type": "display_data"
    },
    {
     "data": {
      "image/png": "[encoded data removed]",
      "text/plain": [
       "<matplotlib.figure.Figure at 0x1209cb7f0>"
      ]
     },
     "metadata": {},
     "output_type": "display_data"
    }
   ],
   "source": [
    "for set_ in [train, test]:\n",
    "    X, Y = [x for label, x in set_], [label for label, x in set_]\n",
    "    dataset_helper.plot_dataset_class_distribution(X, Y)\n",
    "plt.show()"
   ]
  },
  {
   "cell_type": "code",
   "execution_count": 14,
   "metadata": {
    "collapsed": true
   },
   "outputs": [],
   "source": [
    "H = 2"
   ]
  },
  {
   "cell_type": "markdown",
   "metadata": {},
   "source": [
    "## Calculate phi and gram-matrix of WL kernel for training instances"
   ]
  },
  {
   "cell_type": "code",
   "execution_count": 15,
   "metadata": {
    "collapsed": true
   },
   "outputs": [],
   "source": [
    "for set_ in [train, test]:\n",
    "    for topic, graph in set_:\n",
    "        if nx.number_of_edges(graph) == 0: set_.remove((topic, graph))"
   ]
  },
  {
   "cell_type": "code",
   "execution_count": 49,
   "metadata": {},
   "outputs": [
    {
     "name": "stdout",
     "output_type": "stream",
     "text": [
      "Calculating WL_train: start\n",
      "Number of original labels 38598\n",
      "K original is computed\n",
      "Iteration 0: phi is computed\n",
      "\tGraph          0/2139\n",
      "\tGraph       1000/2139\n",
      "\tGraph       2000/2139\n",
      "Number of compressed labels 41276\n",
      "Itaration 0: phi computed\n",
      "Iteration 1: phi is computed\n",
      "\tGraph          0/2139\n",
      "\tGraph       1000/2139\n",
      "\tGraph       2000/2139\n",
      "Number of compressed labels 42236\n",
      "Itaration 1: phi computed\n",
      "Calculating WL_train: end\n",
      "CPU times: user 51 s, sys: 460 ms, total: 51.5 s\n",
      "Wall time: 51.6 s\n"
     ]
    }
   ],
   "source": [
    "%%time\n",
    "adjs = []\n",
    "nodes = []\n",
    "for topic, graph in train:\n",
    "    sorted_nodes = sorted(graph.nodes())\n",
    "    factor = nx.number_of_nodes(graph)\n",
    "    adjs.append(nx.adjacency_matrix(graph, nodelist = sorted_nodes) / factor)\n",
    "    nodes.append(sorted_nodes)\n",
    "    \n",
    "print('Calculating WL_train: start')\n",
    "K_train, phi_list_train, label_lookup_train, label_counters_train = WL_compute(adjs, nodes, H, all_nodes = all_nodes, DEBUG = True, compute_k = False)\n",
    "print('Calculating WL_train: end')"
   ]
  },
  {
   "cell_type": "markdown",
   "metadata": {},
   "source": [
    "### Train classifier with the phi s of the training instances"
   ]
  },
  {
   "cell_type": "code",
   "execution_count": 51,
   "metadata": {},
   "outputs": [],
   "source": [
    "#sklearn.preprocessing.normalize(phi_list_train[-1], norm = 'l1', axis = 1, copy = False)"
   ]
  },
  {
   "cell_type": "code",
   "execution_count": 52,
   "metadata": {},
   "outputs": [
    {
     "data": {
      "text/plain": [
       "Perceptron(alpha=0.0001, class_weight='balanced', eta0=1.0,\n",
       "      fit_intercept=True, n_iter=500, n_jobs=-1, penalty=None,\n",
       "      random_state=0, shuffle=True, verbose=False, warm_start=False)"
      ]
     },
     "execution_count": 52,
     "metadata": {},
     "output_type": "execute_result"
    }
   ],
   "source": [
    "clf = sklearn.linear_model.Perceptron(n_iter = 500, verbose = False, n_jobs = -1, class_weight='balanced')\n",
    "X = phi_list_train[-1].T\n",
    "Y = [topic for topic, graphs in train]\n",
    "clf.fit(X, Y)"
   ]
  },
  {
   "cell_type": "markdown",
   "metadata": {},
   "source": [
    "## Get predictions for test instances\n",
    "\n",
    "### Calculate phi for each test instance"
   ]
  },
  {
   "cell_type": "code",
   "execution_count": 39,
   "metadata": {},
   "outputs": [
    {
     "name": "stdout",
     "output_type": "stream",
     "text": [
      "Starting prediction\n",
      "CPU times: user 11.4 s, sys: 299 ms, total: 11.7 s\n",
      "Wall time: 11.7 s\n"
     ]
    }
   ],
   "source": [
    "%%time\n",
    "def get_prediction(topic, graph):\n",
    "    phi = compute_phi(graph, phi_list_train[0].shape, label_lookup_train, label_counters_train, h = H)[-1]\n",
    "    return phi\n",
    "    return phi / phi.sum()\n",
    "\n",
    "USED_SET = test\n",
    "PARALLEL_PREDICTION_JOBS = 1\n",
    "print('Starting prediction')\n",
    "\n",
    "if PARALLEL_PREDICTION_JOBS > 1:\n",
    "    phi_test = Parallel(n_jobs=PARALLEL_PREDICTION_JOBS)(delayed(get_prediction)(*d) for d in list(USED_SET))\n",
    "else:\n",
    "    phi_test = [get_prediction(*d) for d in USED_SET]"
   ]
  },
  {
   "cell_type": "code",
   "execution_count": 40,
   "metadata": {},
   "outputs": [
    {
     "data": {
      "text/plain": [
       "46706"
      ]
     },
     "execution_count": 40,
     "metadata": {},
     "output_type": "execute_result"
    }
   ],
   "source": [
    "nodes_nums = sum([nx.number_of_nodes(graph) for topic, graph in train])\n",
    "nodes_nums"
   ]
  },
  {
   "cell_type": "markdown",
   "metadata": {},
   "source": [
    "### Predict test instances"
   ]
  },
  {
   "cell_type": "code",
   "execution_count": 53,
   "metadata": {},
   "outputs": [
    {
     "name": "stdout",
     "output_type": "stream",
     "text": [
      "Starting: #elements: 535, #batches: 10, #elements per Batch: 54\n",
      "\tIteration:    0/10\n",
      "\tIteration:    5/10\n",
      "CPU times: user 156 ms, sys: 80.3 ms, total: 236 ms\n",
      "Wall time: 233 ms\n"
     ]
    }
   ],
   "source": [
    "%%time\n",
    "def calculate_batches(l, fn, num_batches = 10, print_every = 5):\n",
    "    elements = []\n",
    "    num_elements_per_batch = math.ceil(len(l) / num_batches)\n",
    "    print('Starting: #elements: {}, #batches: {}, #elements per Batch: {}'.format(len(l), num_batches, num_elements_per_batch))\n",
    "    for idx in range(num_batches):\n",
    "        start = idx * num_elements_per_batch\n",
    "        end = min(len(l), start + num_elements_per_batch)\n",
    "        if idx % print_every == 0: print('\\tIteration: {:>4}/{}'.format(idx, num_batches))\n",
    "        if end - start <= 0:\n",
    "            break\n",
    "        elements += fn(l[start:end]).tolist()\n",
    "    return elements\n",
    "predicted = calculate_batches(phi_test, clf.predict)"
   ]
  },
  {
   "cell_type": "markdown",
   "metadata": {},
   "source": [
    "### Metrics"
   ]
  },
  {
   "cell_type": "code",
   "execution_count": 55,
   "metadata": {
    "collapsed": true
   },
   "outputs": [],
   "source": [
    "Y_real = [topic for topic,graph in USED_SET]\n",
    "Y_pred = predicted"
   ]
  },
  {
   "cell_type": "code",
   "execution_count": null,
   "metadata": {
    "collapsed": true
   },
   "outputs": [],
   "source": []
  },
  {
   "cell_type": "markdown",
   "metadata": {},
   "source": [
    "#### About sparsity of test phi"
   ]
  },
  {
   "cell_type": "code",
   "execution_count": 56,
   "metadata": {
    "collapsed": true
   },
   "outputs": [],
   "source": [
    "df_phi_test_non_zero_elements = pd.DataFrame(list(zip(Y_real, Y_pred, [np.count_nonzero(x) for x in phi_test])), columns = ['real_topic', 'pred_topic', 'num_phi_non_zero'])"
   ]
  },
  {
   "cell_type": "code",
   "execution_count": 57,
   "metadata": {},
   "outputs": [
    {
     "data": {
      "text/html": [
       "<div>\n",
       "<style>\n",
       "    .dataframe thead tr:only-child th {\n",
       "        text-align: right;\n",
       "    }\n",
       "\n",
       "    .dataframe thead th {\n",
       "        text-align: left;\n",
       "    }\n",
       "\n",
       "    .dataframe tbody tr th {\n",
       "        vertical-align: top;\n",
       "    }\n",
       "</style>\n",
       "<table border=\"1\" class=\"dataframe\">\n",
       "  <thead>\n",
       "    <tr>\n",
       "      <th></th>\n",
       "      <th colspan=\"8\" halign=\"left\">num_phi_non_zero</th>\n",
       "    </tr>\n",
       "    <tr>\n",
       "      <th></th>\n",
       "      <th>count</th>\n",
       "      <th>mean</th>\n",
       "      <th>std</th>\n",
       "      <th>min</th>\n",
       "      <th>25%</th>\n",
       "      <th>50%</th>\n",
       "      <th>75%</th>\n",
       "      <th>max</th>\n",
       "    </tr>\n",
       "    <tr>\n",
       "      <th>real_topic</th>\n",
       "      <th></th>\n",
       "      <th></th>\n",
       "      <th></th>\n",
       "      <th></th>\n",
       "      <th></th>\n",
       "      <th></th>\n",
       "      <th></th>\n",
       "      <th></th>\n",
       "    </tr>\n",
       "  </thead>\n",
       "  <tbody>\n",
       "    <tr>\n",
       "      <th>no</th>\n",
       "      <td>453.0</td>\n",
       "      <td>14.99117</td>\n",
       "      <td>20.768529</td>\n",
       "      <td>1.0</td>\n",
       "      <td>4.0</td>\n",
       "      <td>8.0</td>\n",
       "      <td>17.00</td>\n",
       "      <td>200.0</td>\n",
       "    </tr>\n",
       "    <tr>\n",
       "      <th>spam</th>\n",
       "      <td>82.0</td>\n",
       "      <td>16.00000</td>\n",
       "      <td>25.892942</td>\n",
       "      <td>2.0</td>\n",
       "      <td>3.0</td>\n",
       "      <td>7.0</td>\n",
       "      <td>16.75</td>\n",
       "      <td>166.0</td>\n",
       "    </tr>\n",
       "  </tbody>\n",
       "</table>\n",
       "</div>"
      ],
      "text/plain": [
       "           num_phi_non_zero                                                  \n",
       "                      count      mean        std  min  25%  50%    75%    max\n",
       "real_topic                                                                   \n",
       "no                    453.0  14.99117  20.768529  1.0  4.0  8.0  17.00  200.0\n",
       "spam                   82.0  16.00000  25.892942  2.0  3.0  7.0  16.75  166.0"
      ]
     },
     "metadata": {},
     "output_type": "display_data"
    },
    {
     "data": {
      "text/html": [
       "<div>\n",
       "<style>\n",
       "    .dataframe thead tr:only-child th {\n",
       "        text-align: right;\n",
       "    }\n",
       "\n",
       "    .dataframe thead th {\n",
       "        text-align: left;\n",
       "    }\n",
       "\n",
       "    .dataframe tbody tr th {\n",
       "        vertical-align: top;\n",
       "    }\n",
       "</style>\n",
       "<table border=\"1\" class=\"dataframe\">\n",
       "  <thead>\n",
       "    <tr>\n",
       "      <th></th>\n",
       "      <th colspan=\"8\" halign=\"left\">num_phi_non_zero</th>\n",
       "    </tr>\n",
       "    <tr>\n",
       "      <th></th>\n",
       "      <th>count</th>\n",
       "      <th>mean</th>\n",
       "      <th>std</th>\n",
       "      <th>min</th>\n",
       "      <th>25%</th>\n",
       "      <th>50%</th>\n",
       "      <th>75%</th>\n",
       "      <th>max</th>\n",
       "    </tr>\n",
       "    <tr>\n",
       "      <th>pred_topic</th>\n",
       "      <th></th>\n",
       "      <th></th>\n",
       "      <th></th>\n",
       "      <th></th>\n",
       "      <th></th>\n",
       "      <th></th>\n",
       "      <th></th>\n",
       "      <th></th>\n",
       "    </tr>\n",
       "  </thead>\n",
       "  <tbody>\n",
       "    <tr>\n",
       "      <th>no</th>\n",
       "      <td>512.0</td>\n",
       "      <td>14.845703</td>\n",
       "      <td>21.010984</td>\n",
       "      <td>1.0</td>\n",
       "      <td>3.0</td>\n",
       "      <td>8.0</td>\n",
       "      <td>17.0</td>\n",
       "      <td>200.0</td>\n",
       "    </tr>\n",
       "    <tr>\n",
       "      <th>spam</th>\n",
       "      <td>23.0</td>\n",
       "      <td>21.826087</td>\n",
       "      <td>32.107281</td>\n",
       "      <td>2.0</td>\n",
       "      <td>3.0</td>\n",
       "      <td>9.0</td>\n",
       "      <td>26.5</td>\n",
       "      <td>122.0</td>\n",
       "    </tr>\n",
       "  </tbody>\n",
       "</table>\n",
       "</div>"
      ],
      "text/plain": [
       "           num_phi_non_zero                                                  \n",
       "                      count       mean        std  min  25%  50%   75%    max\n",
       "pred_topic                                                                   \n",
       "no                    512.0  14.845703  21.010984  1.0  3.0  8.0  17.0  200.0\n",
       "spam                   23.0  21.826087  32.107281  2.0  3.0  9.0  26.5  122.0"
      ]
     },
     "metadata": {},
     "output_type": "display_data"
    }
   ],
   "source": [
    "display(df_phi_test_non_zero_elements.groupby(by = 'real_topic').describe())\n",
    "display(df_phi_test_non_zero_elements.groupby(by = 'pred_topic').describe())"
   ]
  },
  {
   "cell_type": "code",
   "execution_count": 58,
   "metadata": {},
   "outputs": [
    {
     "name": "stdout",
     "output_type": "stream",
     "text": [
      "0\n"
     ]
    }
   ],
   "source": [
    "max_ = 0\n",
    "vals_over_1 = 0\n",
    "for i in phi_test:\n",
    "    vals = i[i > 1]\n",
    "    if not len(vals): continue\n",
    "    vals_over_1 += 1\n",
    "    m = max(vals)\n",
    "    if m > max_:\n",
    "        max_ = m\n",
    "        print(max_)\n",
    "print(vals_over_1)"
   ]
  },
  {
   "cell_type": "code",
   "execution_count": 59,
   "metadata": {},
   "outputs": [
    {
     "data": {
      "image/png": "[encoded data removed]",
      "text/plain": [
       "<matplotlib.figure.Figure at 0x120a28588>"
      ]
     },
     "metadata": {},
     "output_type": "display_data"
    }
   ],
   "source": [
    "cf_mat = sklearn.metrics.confusion_matrix(Y_real, Y_pred)\n",
    "classes = min(len(set(Y_real)) * 2, 30)\n",
    "fig = plt.figure(figsize=(classes, classes))\n",
    "helper.plot_confusion_matrix(cf_mat, clf.classes_, normalize = True)\n",
    "plt.show()"
   ]
  },
  {
   "cell_type": "code",
   "execution_count": 60,
   "metadata": {},
   "outputs": [
    {
     "data": {
      "text/plain": [
       "0.68847767086109057"
      ]
     },
     "execution_count": 60,
     "metadata": {},
     "output_type": "execute_result"
    }
   ],
   "source": [
    "sklearn.metrics.f1_score(Y_real, Y_pred, average='macro')"
   ]
  }
 ],
 "metadata": {
  "anaconda-cloud": {},
  "kernelspec": {
   "display_name": "Python [conda root]",
   "language": "python",
   "name": "conda-root-py"
  },
  "language_info": {
   "codemirror_mode": {
    "name": "ipython",
    "version": 3
   },
   "file_extension": ".py",
   "mimetype": "text/x-python",
   "name": "python",
   "nbconvert_exporter": "python",
   "pygments_lexer": "ipython3",
   "version": "3.5.3"
  },
  "toc": {
   "colors": {
    "hover_highlight": "#DAA520",
    "navigate_num": "#000000",
    "navigate_text": "#333333",
    "running_highlight": "#FF0000",
    "selected_highlight": "#FFD700",
    "sidebar_border": "#EEEEEE",
    "wrapper_background": "#FFFFFF"
   },
   "moveMenuLeft": true,
   "nav_menu": {
    "height": "4px",
    "width": "254px"
   },
   "navigate_menu": true,
   "number_sections": true,
   "sideBar": true,
   "threshold": 4,
   "toc_cell": false,
   "toc_section_display": "block",
   "toc_window_display": false,
   "widenNotebook": false
  }
 },
 "nbformat": 4,
 "nbformat_minor": 1
}
