{
 "cells": [
  {
   "cell_type": "markdown",
   "metadata": {},
   "source": [
    "## Precomputed SVM"
   ]
  },
  {
   "cell_type": "code",
   "execution_count": 1,
   "metadata": {
    "collapsed": true
   },
   "outputs": [],
   "source": [
    "%load_ext autoreload\n",
    "%autoreload 2"
   ]
  },
  {
   "cell_type": "code",
   "execution_count": 2,
   "metadata": {},
   "outputs": [
    {
     "name": "stdout",
     "output_type": "stream",
     "text": [
      "0.00, 0.00 -> Expected: 0, Got: 0, Probs: 0.24,0.28,0.48\n",
      "0.50, 0.50 -> Expected: 1, Got: 1, Probs: 0.35,0.30,0.35\n",
      "1.00, 1.00 -> Expected: 2, Got: 2, Probs: 0.48,0.28,0.24\n",
      "0.75, 0.75 -> Expected: 2, Got: 2, Probs: 0.41,0.29,0.29\n"
     ]
    }
   ],
   "source": [
    "import numpy as np\n",
    "from sklearn import svm\n",
    "X = np.array([[0, 0], [0.5, 0.5], [1, 1], [0.75, 0.75]])\n",
    "y = [0, 1, 2, 2]\n",
    "clf = svm.SVC(kernel='precomputed', probability=True)\n",
    "gram = np.dot(X[:3], X[:3].T)\n",
    "clf.fit(gram, y[:3])\n",
    "\n",
    "for x, y in zip(X, y):\n",
    "    preds = clf.predict_proba(np.dot(x, X[:3].T).reshape(1, -1))[0]\n",
    "    pred_class = clf.classes_[np.argmin(preds)]\n",
    "    print('{} -> Expected: {}, Got: {}, Probs: {}'.format(\n",
    "        \", \".join('{:.2f}'.format(x) for x in x),\n",
    "        y,\n",
    "        pred_class,\n",
    "        \",\".join(\"{:.2f}\".format(x) for x in preds))\n",
    "    )"
   ]
  },
  {
   "cell_type": "code",
   "execution_count": 86,
   "metadata": {},
   "outputs": [
    {
     "name": "stdout",
     "output_type": "stream",
     "text": [
      "[[ 6.  3.]\n",
      " [ 3.  8.]]\n",
      "[[ 6.  3.  6.  3.  3.]\n",
      " [ 3.  8.  3.  8.  8.]\n",
      " [ 6.  3.  6.  3.  3.]\n",
      " [ 3.  8.  3.  8.  8.]\n",
      " [ 3.  8.  3.  8.  8.]]\n",
      "[[ 6.  3.  6.  3.  3.]\n",
      " [ 3.  8.  3.  8.  8.]\n",
      " [ 6.  3.  6.  3.  3.]\n",
      " [ 3.  8.  3.  8.  8.]\n",
      " [ 3.  8.  3.  8.  8.]]\n"
     ]
    }
   ],
   "source": [
    "import functools\n",
    "import wl\n",
    "import networkx as nx\n",
    "import matplotlib.pyplot as plt\n",
    "\n",
    "def get_all_nodes(gs):\n",
    "    return functools.reduce(lambda acc, x: acc | set(x), gs, set())\n",
    "\n",
    "def get_wl_args(graphs):\n",
    "    adjs = [nx.adjacency_matrix(g).toarray() for g in graphs]\n",
    "    nodes = [g.nodes() for g in graphs]\n",
    "    return adjs, nodes\n",
    "\n",
    "\n",
    "g1 = nx.Graph()\n",
    "g1.add_edge('A', 'B')\n",
    "g1.add_edge('B', 'C')\n",
    "\n",
    "g2 = nx.Graph()\n",
    "g2.add_edge('A', 'B')\n",
    "g2.add_edge('B', 'C')\n",
    "g2.add_edge('B', 'D')\n",
    "\n",
    "g3 = nx.Graph()\n",
    "g3.add_edge('A', 'B')\n",
    "g3.add_edge('B', 'C')\n",
    "g3.add_edge('B', 'D')\n",
    "\n",
    "g4 = nx.Graph()\n",
    "g4.add_edge('A', 'B')\n",
    "g4.add_edge('B', 'C')\n",
    "\n",
    "g5 = nx.Graph()\n",
    "g5.add_edge('A', 'B')\n",
    "g5.add_edge('D', 'C')\n",
    "\n",
    "all_graphs = (g1, g2, g3, g4, g5)\n",
    "\n",
    "DEBUG = False\n",
    "H = 1\n",
    "\n",
    "all_nodes = get_all_nodes((g1, g2, g3, g4))\n",
    "\n",
    "adjs, nodes = get_wl_args((g1, g2))\n",
    "K, phi, label_lookups = wl.WL_compute(ad_list=adjs, node_label=nodes, all_nodes=all_nodes, h = H, DEBUG=DEBUG)\n",
    "print(K[-1])\n",
    "adjs, nodes = get_wl_args([g1, g2, g3])\n",
    "print(K_new[-1])\n",
    "\n",
    "adjs, nodes = get_wl_args((g1, g2, g1, g2, g3))\n",
    "K, phi, label_lookups = wl.WL_compute(ad_list=adjs, node_label=nodes, all_nodes=all_nodes, h = H, DEBUG=DEBUG)\n",
    "print(K[-1])"
   ]
  },
  {
   "cell_type": "code",
   "execution_count": 83,
   "metadata": {},
   "outputs": [
    {
     "name": "stdout",
     "output_type": "stream",
     "text": [
      "[[ 0.  1.]\n",
      " [ 2.  3.]\n",
      " [ 4.  5.]]\n",
      "[[ 0.  1.  0.]\n",
      " [ 2.  3.  0.]\n",
      " [ 4.  5.  0.]\n",
      " [ 0.  0.  0.]]\n"
     ]
    }
   ],
   "source": [
    "# Augment matrix from shape (x, y) to (x+1, y+1), filling with zeros\n",
    "a = np.linspace(0, 5, 6).reshape(3, 2)\n",
    "b = np.zeros(np.array(a.shape) + 1)\n",
    "b[:3,:2] = a\n",
    "\n",
    "print(a)\n"
   ]
  },
  {
   "cell_type": "code",
   "execution_count": 10,
   "metadata": {},
   "outputs": [
    {
     "data": {
      "text/plain": [
       "(array([1, 1, 1]), array([1, 1, 1]))"
      ]
     },
     "execution_count": 10,
     "metadata": {},
     "output_type": "execute_result"
    }
   ],
   "source": [
    "a = np.array([0, 1, 2])\n",
    "b = np.bincount(a)\n",
    "b, a[b]"
   ]
  },
  {
   "cell_type": "code",
   "execution_count": null,
   "metadata": {
    "collapsed": true
   },
   "outputs": [],
   "source": [
    "FIG_SIZE = (10, 5)\n",
    "\n",
    "for idx, graph in enumerate(all_graphs):\n",
    "    plt.figure(figsize = FIG_SIZE)\n",
    "    pos = nx.circular_layout(graph)\n",
    "    nx.draw_networkx(graph, pos = pos)\n",
    "    \n",
    "    vals = pos.values()\n",
    "    y_max = max(x[0] for x in vals)\n",
    "    y_min = min(x[0] for x in vals)\n",
    "    x_max = max(x[1] for x in vals)\n",
    "    x_min = min(x[1] for x in vals)\n",
    "    plt.text(x = x_min + 0.1, y = y_max + 0.1, s = 'g' + str(idx), fontsize = 20)\n",
    "    print(y_max, y_min)\n",
    "    plt.show()"
   ]
  }
 ],
 "metadata": {
  "anaconda-cloud": {},
  "kernelspec": {
   "display_name": "Python [conda root]",
   "language": "python",
   "name": "conda-root-py"
  },
  "language_info": {
   "codemirror_mode": {
    "name": "ipython",
    "version": 3
   },
   "file_extension": ".py",
   "mimetype": "text/x-python",
   "name": "python",
   "nbconvert_exporter": "python",
   "pygments_lexer": "ipython3",
   "version": "3.5.3"
  },
  "toc": {
   "colors": {
    "hover_highlight": "#DAA520",
    "navigate_num": "#000000",
    "navigate_text": "#333333",
    "running_highlight": "#FF0000",
    "selected_highlight": "#FFD700",
    "sidebar_border": "#EEEEEE",
    "wrapper_background": "#FFFFFF"
   },
   "moveMenuLeft": true,
   "nav_menu": {
    "height": "4px",
    "width": "254px"
   },
   "navigate_menu": true,
   "number_sections": true,
   "sideBar": true,
   "threshold": 4,
   "toc_cell": false,
   "toc_section_display": "block",
   "toc_window_display": false,
   "widenNotebook": false
  }
 },
 "nbformat": 4,
 "nbformat_minor": 2
}
