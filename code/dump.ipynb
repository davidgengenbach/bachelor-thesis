{
 "cells": [
  {
   "cell_type": "code",
   "execution_count": null,
   "metadata": {
    "collapsed": true
   },
   "outputs": [],
   "source": [
    "%load_ext autoreload\n",
    "%autoreload 2\n",
    "%matplotlib inline"
   ]
  },
  {
   "cell_type": "code",
   "execution_count": null,
   "metadata": {
    "collapsed": true
   },
   "outputs": [],
   "source": [
    "import dataset_helper\n",
    "\n",
    "for graph_dataset_cache_file in dataset_helper.get_all_cached_graph_datasets():\n",
    "    if 'ling-spam' not in graph_dataset_cache_file: continue\n",
    "    X, Y = dataset_helper.get_dataset_cached(graph_dataset_cache_file)\n",
    "    break"
   ]
  },
  {
   "cell_type": "code",
   "execution_count": null,
   "metadata": {
    "collapsed": true
   },
   "outputs": [],
   "source": [
    "import graph_helper\n",
    "all_node_labels = graph_helper.get_all_node_labels(X, as_sorted_list = False)\n",
    "with open('tmp/ling-spam-labels.txt', 'w') as f:\n",
    "    f.write('\\n'.join(all_node_labels))"
   ]
  },
  {
   "cell_type": "code",
   "execution_count": null,
   "metadata": {
    "collapsed": true
   },
   "outputs": [],
   "source": [
    "import gensim\n",
    "import preprocessing\n",
    "for dataset_name in dataset_helper.get_all_available_dataset_names():\n",
    "    if 'ling-spam' not in dataset_name: continue\n",
    "    X, Y = dataset_helper.get_dataset(dataset_name=dataset_name)\n",
    "    X = preprocessing.preprocess_text_spacy(X, concat = False, only_nouns = False)"
   ]
  },
  {
   "cell_type": "code",
   "execution_count": null,
   "metadata": {
    "collapsed": true
   },
   "outputs": [],
   "source": [
    "X_as_words = [[y.text for y in x] for x in X]\n",
    "model = gensim.models.Word2Vec(X_as_words, size=50, window=5, min_count=1, workers=4)\n",
    "vocab = model.wv\n",
    "del model"
   ]
  },
  {
   "cell_type": "markdown",
   "metadata": {},
   "source": [
    "## Doc2Vec"
   ]
  },
  {
   "cell_type": "code",
   "execution_count": null,
   "metadata": {
    "collapsed": true
   },
   "outputs": [],
   "source": [
    "import numpy as np\n",
    "import sklearn\n",
    "from sklearn.pipeline import Pipeline\n",
    "from sklearn.linear_model import Perceptron\n",
    "from sklearn.model_selection import GridSearchCV\n",
    "from transformers.wl_graph_kernel_transformer import WLGraphKernelTransformer\n",
    "from transformers.preprocessing_transformer import PreProcessingTransformer\n",
    "from transformers.d2v_transformer import Doc2VecTransformer\n",
    "import graph_helper\n",
    "import dataset_helper\n",
    "import wl\n",
    "import os\n",
    "\n",
    "for dataset_name in dataset_helper.get_all_available_dataset_names():\n",
    "    if dataset_name != 'r8': continue\n",
    "        \n",
    "    X, Y = dataset_helper.get_dataset(dataset_name, use_cached= True)\n",
    "    \n",
    "    p = Pipeline([\n",
    "        ('preprocessing', PreProcessingTransformer(only_nouns = True)),\n",
    "        ('d2v', Doc2VecTransformer()),\n",
    "        ('clf', sklearn.linear_model.PassiveAggressiveClassifier())\n",
    "    ])\n",
    "    \n",
    "    param_grid = dict(\n",
    "        d2v__embedding_size = [500],\n",
    "        d2v__iterations = [10],\n",
    "        d2v__infer_steps = [10],\n",
    "        clf__n_iter = [100],\n",
    "        clf__class_weight = ['balanced']\n",
    "    )\n",
    "\n",
    "    cv = sklearn.model_selection.StratifiedKFold(n_splits = 3, random_state= 42, shuffle= True)\n",
    "    gscv = GridSearchCV(estimator = p, param_grid=param_grid, cv=cv, scoring = 'f1_macro', n_jobs=1, verbose = 11)\n",
    "    gscv_result = gscv.fit(X, Y)\n",
    "    print(gscv_result.best_estimator_, gscv_result.cv_results_)"
   ]
  },
  {
   "cell_type": "markdown",
   "metadata": {},
   "source": [
    "## DeepWalk"
   ]
  },
  {
   "cell_type": "code",
   "execution_count": null,
   "metadata": {
    "collapsed": true
   },
   "outputs": [],
   "source": [
    "import deepwalk\n",
    "from deepwalk import graph\n",
    "from deepwalk import walks as serialized_walks\n",
    "from gensim.models import Word2Vec\n",
    "from deepwalk.skipgram import Skipgram\n",
    "import dataset_helper\n",
    "import graph_helper\n",
    "import random\n",
    "from gensim.models import Word2Vec\n",
    "import tsne\n",
    "import matplotlib.pyplot as plt\n",
    "\n",
    "max_memory_data_size = 1000000000\n",
    "number_walks = 1000\n",
    "representation_size = 64\n",
    "seed = 0\n",
    "undirected = True\n",
    "vertex_freq_degree = False\n",
    "walk_length = 60\n",
    "window_size = 10\n",
    "workers = 1\n",
    "output = 'data/DUMP'\n",
    "\n",
    "for dataset in dataset_helper.get_all_available_dataset_names():\n",
    "    cache_file = dataset_helper.CACHE_PATH + '/dataset_graph_cooccurrence_{}.npy'.format(dataset)\n",
    "    X, Y = dataset_helper.get_dataset(dataset, preprocessed = False, use_cached=True, transform_fn=graph_helper.convert_dataset_to_co_occurence_graph_dataset, cache_file=cache_file)\n",
    "    break\n",
    "    \n",
    "models = []\n",
    "for idx, g in enumerate(X):\n",
    "    if idx == 3: break\n",
    "    print('Graph: {:>4}'.format(idx))\n",
    "    G = graph.from_networkx(g)\n",
    "\n",
    "    print(\"Number of nodes: {}\".format(len(G.nodes())))\n",
    "    if len(G.nodes()) == 0:\n",
    "        continue\n",
    "\n",
    "    num_walks = len(G.nodes()) * number_walks\n",
    "\n",
    "    print(\"Number of walks: {}\".format(num_walks))\n",
    "\n",
    "    data_size = num_walks * walk_length\n",
    "\n",
    "    print(\"Data size (walks*length): {}\".format(data_size))\n",
    "\n",
    "    print(\"Walking...\")\n",
    "    walks = graph.build_deepwalk_corpus(G, num_paths=number_walks, path_length=walk_length, alpha=0, rand=random.Random(seed))\n",
    "    print(\"Training...\")\n",
    "    model = Word2Vec(walks, size=representation_size, window=window_size, min_count=0, workers=workers)\n",
    "\n",
    "    #model.wv.save_word2vec_format(output)\n",
    "    models.append(model)\n",
    "print('Finished')"
   ]
  },
  {
   "cell_type": "markdown",
   "metadata": {},
   "source": [
    "## tSNE"
   ]
  },
  {
   "cell_type": "code",
   "execution_count": null,
   "metadata": {
    "collapsed": true
   },
   "outputs": [],
   "source": [
    "for model in models:\n",
    "    print('Next')\n",
    "    vectors = tsne.get_tsne_embedding(model)\n",
    "    tsne.plot_embedding(model, vectors)\n",
    "    plt.show()"
   ]
  },
  {
   "cell_type": "markdown",
   "metadata": {},
   "source": [
    "## Test WL phi computation"
   ]
  },
  {
   "cell_type": "code",
   "execution_count": null,
   "metadata": {
    "collapsed": true
   },
   "outputs": [],
   "source": [
    "from joblib import Parallel, delayed\n",
    "\n",
    "from time import time\n",
    "phi_list_train_last = phi_list_train[-1]\n",
    "test_graphs = train[:100]\n",
    "\n",
    "def test_graph(idx, a):\n",
    "    topic, graph = a\n",
    "    #if idx % 1 == 0: print('{:>8}/{}'.format(idx, len(test_graphs)))\n",
    "    phi_train = wl.compute_phi(graph, phi_list_train_last.shape, label_lookup_train, label_counters_train, h = 1)\n",
    "    for i, (real, new) in enumerate(zip(phi_list_train, phi_train)):\n",
    "        real = real[:,idx]\n",
    "        new = lil_matrix(new.reshape(-1,1))\n",
    "        if not np.array_equiv(real.nonzero()[0], new.nonzero()[0]):\n",
    "            print('Phi not equal', i, 'Real', real, '\\nNew\\n', new)\n",
    "    print('Finished: {}'.format(idx))\n",
    "    \n",
    "mats = Parallel(n_jobs=2)(delayed(test_graph)(*d) for d in list(enumerate(test_graphs)))\n",
    "\n",
    "for idx, (topic, graph) in enumerate(test_graphs):\n",
    "    break\n",
    "    if idx % 1 == 0: print('{:>8}/{}'.format(idx, len(test_graphs)))\n",
    "    phi_train = wl.compute_phi(graph, phi_list_train_last.shape, label_lookup_train, label_counters_train, h = 1)\n",
    "    for i, (real, new) in enumerate(zip(real_, phi_train)):\n",
    "        real = real[:,idx]\n",
    "        new = lil_matrix(new.reshape(-1,1))\n",
    "        if not np.array_equiv(real.nonzero()[0], new.nonzero()[0]):\n",
    "            print('Phi not equal', i, 'Real', real, '\\nNew\\n', new)\n",
    "            break\n"
   ]
  },
  {
   "cell_type": "code",
   "execution_count": null,
   "metadata": {
    "collapsed": true
   },
   "outputs": [],
   "source": [
    "import functools\n",
    "import wl\n",
    "import networkx as nx\n",
    "import matplotlib.pyplot as plt\n",
    "from scipy.sparse import lil_matrix, csr_matrix, vstack\n",
    "\n",
    "def get_all_nodes(gs):\n",
    "    return functools.reduce(lambda acc, x: acc | set(x), gs, set())\n",
    "\n",
    "def get_wl_args(graphs):\n",
    "    adjs = [nx.adjacency_matrix(g).toarray() for g in graphs]\n",
    "    nodes = [g.nodes() for g in graphs]\n",
    "    return adjs, nodes\n",
    "\n",
    "\n",
    "g1 = nx.DiGraph()\n",
    "g1.add_edge('A', 'B')\n",
    "g1.add_edge('B', 'C')\n",
    "\n",
    "g2 = nx.DiGraph()\n",
    "g2.add_edge('A', 'B')\n",
    "g2.add_edge('B', 'C')\n",
    "g2.add_edge('B', 'D')\n",
    "\n",
    "g3 = nx.DiGraph()\n",
    "g3.add_edge('E', 'F')\n",
    "g3.add_node('G')\n",
    "all_graphs = (g1, g2, g3)\n",
    "\n",
    "DEBUG = False\n",
    "H = 10\n",
    "\n",
    "all_nodes = get_all_nodes((g1, g2, g3))\n",
    "\n",
    "adjs, nodes = get_wl_args((g1, g2))\n",
    "K_1_2, phi_1_2, label_lookups_1_2, label_counters_1_2 = wl.WL_compute(ad_list=adjs, node_label=nodes, all_nodes=all_nodes, h = H, DEBUG=DEBUG)\n",
    "adjs, nodes = get_wl_args((g1, g2, g3))\n",
    "K_1_2_3, phi_1_2_3, label_lookups_1_2_3, label_counters_1_2_3 = wl.WL_compute(ad_list=adjs, node_label=nodes, all_nodes=all_nodes, h = H, DEBUG=DEBUG)\n",
    "\n",
    "TARGET_GRAPH = g3\n",
    "K_1_2_3_test, phi_1_2_3_test = wl.WL_compute_new(\n",
    "    ad_list=[nx.adjacency_matrix(TARGET_GRAPH).toarray()],\n",
    "    node_label=[TARGET_GRAPH.nodes()],\n",
    "    label_counters_prev = label_counters_1_2,\n",
    "    all_nodes= all_nodes,\n",
    "    h = H,\n",
    "    k_prev = np.copy(K_1_2),\n",
    "    phi_prev = np.copy(phi_1_2),\n",
    "    label_lookups_prev = np.copy(label_lookups_1_2)\n",
    ")\n",
    "\n",
    "phi_3_test = wl.compute_phi(g3, phi_1_2_3[0].shape, label_lookups_1_2_3, label_counters_1_2_3, h = H)\n",
    "for idx, (real, new) in enumerate(zip(phi_1_2_3, phi_3_test)):\n",
    "    real = real[:,2]\n",
    "    new = lil_matrix(new.reshape(-1,1))\n",
    "    if not np.array_equiv(real.todense(), new.todense()):\n",
    "        print('Phi not equal', idx)\n",
    "\n",
    "if 0 == 1:\n",
    "    for i, (a, b) in enumerate(zip(phi_1_2_3_test, phi_1_2_3)):\n",
    "        if not np.array_equiv(a - b.todense(), np.zeros(b.shape, dtype = np.int32)):\n",
    "            print(\"\\tPhi different! {}\".format(i))\n",
    "            print(np.argwhere((a - b) != 0))\n",
    "\n",
    "    for i, (a, b) in enumerate(zip(K_1_2_3_test, K_1_2_3)):\n",
    "        if not np.array_equal(a, b):\n",
    "            print(np.argwhere((a - b) != 0))\n",
    "            print(\"\\tK different! {}\".format(i))\n"
   ]
  },
  {
   "cell_type": "code",
   "execution_count": null,
   "metadata": {
    "collapsed": true
   },
   "outputs": [],
   "source": [
    "import networkx as nx\n",
    "import fast_wl\n",
    "import dataset_helper\n",
    "from time import time\n",
    "import wl\n",
    "import graph_helper\n",
    "import gc\n",
    "\n",
    "gc.collect()\n",
    "\n",
    "H = 4\n",
    "\n",
    "def wl_old(X, h = H):\n",
    "    node_label = [sorted(g.nodes()) for g in X]\n",
    "    ad_list = [nx.adjacency_matrix(g, nodelist=label) for g, label in zip(X, node_label)]\n",
    "    all_nodes = graph_helper.get_all_node_labels(X)\n",
    "    K, phi_list, label_lookups, label_counters = wl.WL_compute(ad_list, node_label, h, all_nodes = all_nodes, compute_k = False, keep_phi_history = True, DEBUG = False)\n",
    "    return phi_list\n",
    "    \n",
    "def wl_fast(X, h = H):\n",
    "    phi_lists, new_label_lookups, new_label_counters = fast_wl.fast_wl_compute(X, h = H)\n",
    "    return phi_lists\n",
    "\n",
    "for dataset_cache_file in dataset_helper.get_all_cached_graph_datasets():\n",
    "    print(dataset_cache_file)\n",
    "    if False or 'gml' not in dataset_cache_file or 'ng20' not in dataset_cache_file: continue\n",
    "    X, Y = dataset_helper.get_dataset_cached(dataset_cache_file)\n",
    "    X, Y = zip(*[(x, y) for x, y in zip(X, Y) if nx.number_of_nodes(x) > 0 and nx.number_of_edges(x) > 0])\n",
    "    for x in [wl_fast]:\n",
    "        print('Starting: {}'.format(x))\n",
    "        t = time()\n",
    "        phi_lists = x(X)\n",
    "        print('Time needed for {} elements and {} iterations: {:.2f}s'.format(len(X), H, time() - t))\n",
    "\n",
    "if False:\n",
    "    g1 = nx.Graph()\n",
    "    g1.add_edge('A', 'B')\n",
    "    g1.add_edge('A', 'C')\n",
    "\n",
    "    g2 = g1.copy()\n",
    "\n",
    "    g3 = nx.Graph()\n",
    "    g3.add_edge('A', 'D')\n",
    "\n",
    "    graphs = [g1, g2, g3]\n",
    "    phi_lists, new_label_lookups, new_label_counters = fast_wl.fast_wl_compute(graphs, h = 1)\n",
    "    print(phi_lists[-1].todense())"
   ]
  },
  {
   "cell_type": "code",
   "execution_count": null,
   "metadata": {
    "collapsed": true
   },
   "outputs": [],
   "source": [
    "dataset_name = 'ling-spam'"
   ]
  },
  {
   "cell_type": "code",
   "execution_count": null,
   "metadata": {
    "collapsed": true
   },
   "outputs": [],
   "source": [
    "import embeddings\n",
    "embeddings_ = embeddings.get_embedding_model('data/embeddings/graph-embeddings/{}.w2v.txt'.format(dataset_name), with_gensim = True)"
   ]
  },
  {
   "cell_type": "code",
   "execution_count": null,
   "metadata": {
    "collapsed": true
   },
   "outputs": [],
   "source": [
    "import numpy as np\n",
    "from time import time\n",
    "import coreference\n",
    "\n",
    "labels = list(embeddings_.vocab.keys())\n",
    "np.random.shuffle(labels)\n",
    "\n",
    "topn = 3\n",
    "most_similar_labels = coreference.get_most_similar_labels(labels, embeddings_, topn=topn)"
   ]
  },
  {
   "cell_type": "code",
   "execution_count": null,
   "metadata": {
    "collapsed": true
   },
   "outputs": [],
   "source": [
    "results = {}\n",
    "tresholds = [0.99999, 0.9999, 0.999, 0.9, 0.8, 0.7, 0.6, 0.5, 0.4]\n",
    "#tresholds = [0.9999]\n",
    "\n",
    "for n in range(0, topn):\n",
    "    most_similar_labels_ = {label: m[:n + 1] for label, m in most_similar_labels.items()}\n",
    "    for treshold in tresholds:\n",
    "        print('n={}, threshold={}'.format(n, treshold))\n",
    "        results[(n + 1, treshold)] = coreference.create_label_cliques_by_similarity(most_similar_labels_, threshold = treshold)\n"
   ]
  },
  {
   "cell_type": "code",
   "execution_count": null,
   "metadata": {
    "collapsed": true
   },
   "outputs": [],
   "source": [
    "import pandas as pd\n",
    "import matplotlib.pyplot as plt\n",
    "import seaborn as sns\n",
    "sns.set()\n",
    "\n",
    "num_labels = len(labels)\n",
    "\n",
    "for (n, treshold), lookup in results.items():\n",
    "    cliques = coreference.get_cliques_from_lookup(lookup)\n",
    "    similarity_counter = {'similar': len(lookup.keys()), 'unsimilar': num_labels - len(lookup.keys())}\n",
    "    clique_lenghts = [len(x) for x in list(cliques.values())]\n",
    "    fig, axes = plt.subplots(1, 2, figsize = (14, 6))\n",
    "    fig.suptitle('Treshold: {}, N={}'.format(treshold, n), fontsize = 16)\n",
    "\n",
    "    pd.DataFrame(clique_lenghts).plot(ax = axes[0], kind = 'hist', logy = True, legend = False, title = \"Histogram of clique lengths\".format(treshold))\n",
    "    pd.DataFrame(list(similarity_counter.items()), columns = ['name', 'count']).set_index('name').plot(ax = axes[1], kind = 'bar', legend = False, title = '# of labels that have been merged vs. not merged')\n",
    "    fig.tight_layout()\n",
    "    fig.subplots_adjust(top=0.85)\n",
    "    fig.savefig('tmp/{:.5f}.{}.png'.format(treshold, n), dpi = 120)\n",
    "    plt.close(fig)"
   ]
  },
  {
   "cell_type": "code",
   "execution_count": null,
   "metadata": {
    "collapsed": true
   },
   "outputs": [],
   "source": [
    "#sns.set_context(\"notebook\", font_scale=1.5)\n",
    "sns.set('notebook', 'white')\n",
    "#for treshold, vals in df.groupby('threshold'):\n",
    "    #display(vals)\n",
    "def plot_by(df, by, bins = 15, title = '', figsize = (12, 5), fontsize = 16):\n",
    "    fig, ax = plt.subplots(figsize = figsize)\n",
    "\n",
    "    data = []\n",
    "    labels = []\n",
    "    for n, vals in df.groupby(by):\n",
    "        labels.append(n)\n",
    "        data.append(vals.clique_length)\n",
    "    ax.hist(data, bins = bins, alpha=0.7, label=labels, log = True)\n",
    "    fig.suptitle(title, fontsize = fontsize)\n",
    "    ax.legend(loc='upper right', fontsize = fontsize)\n",
    "    ax.set_xlabel('clique sizes')\n",
    "    fig.tight_layout()\n",
    "    fig.subplots_adjust(top=0.9)\n",
    "    return fig, ax\n",
    "fig, ax = plot_by(df, 'n', title = 'Clique size histogram by n (all thresholds together)')\n",
    "fig.savefig('tmp/clique_size_by_n_all_thresholds.png', dpi = 120)\n",
    "fig, ax = plot_by(df, 'threshold', title = 'Clique size histogram by threshold (all n together)')\n",
    "fig.savefig('tmp/clique_size_by_threshold_all_n.png', dpi = 120)\n",
    "fig, ax = plot_by(df[df.threshold == 0.6], 'n', title = 'Clique size histogram by n (threshold=0.6)')\n",
    "fig.savefig('tmp/clique_size_by_n_threshold_0.6.png', dpi = 120)\n",
    "plt.show()"
   ]
  },
  {
   "cell_type": "code",
   "execution_count": null,
   "metadata": {
    "collapsed": true
   },
   "outputs": [],
   "source": [
    "import dataset_helper\n",
    "import graph_helper\n",
    "for graph_cache_file in dataset_helper.get_all_cached_graph_datasets():\n",
    "    print('Dataset: {}'.format(graph_cache_file.split('/')[-1]))\n",
    "    X, Y = dataset_helper.get_dataset_cached(graph_cache_file)\n",
    "    all_nodes = graph_helper.get_all_node_labels(X, as_sorted_list = False)\n",
    "    print('\\t{:>10}'.format(len(all_nodes)))"
   ]
  },
  {
   "cell_type": "code",
   "execution_count": null,
   "metadata": {
    "collapsed": true
   },
   "outputs": [],
   "source": [
    "import dataset_helper\n",
    "import graph_helper\n",
    "limit_dataset = 'ling-spam'\n",
    "for cache_file in dataset_helper.get_all_cached_graph_datasets():\n",
    "    if limit_dataset and limit_dataset not in cache_file: continue\n",
    "    if 'all' not in cache_file: continue\n",
    "    X, Y = dataset_helper.get_dataset_cached(cache_file)\n",
    "    break\n"
   ]
  },
  {
   "cell_type": "code",
   "execution_count": null,
   "metadata": {
    "collapsed": true
   },
   "outputs": [],
   "source": [
    "import coreference\n",
    "import embeddings\n",
    "\n",
    "pre_trained_embedding = embeddings.get_embedding_model(\n",
    "        'data/embeddings/glove/glove.6B.50d.w2v.txt', binary=False, first_line_header=True, with_gensim=True)"
   ]
  },
  {
   "cell_type": "code",
   "execution_count": null,
   "metadata": {
    "collapsed": true
   },
   "outputs": [],
   "source": [
    "import dataset_helper\n",
    "trained_embedding = dataset_helper.get_w2v_embedding_for_dataset('ling-spam')\n",
    "labels = ['this', 'love', 'love similarity']\n",
    "embeddings_pre_trained, not_found_pre_trained_coreferenced, not_found_trained, not_found_pre_trained, lookup = embeddings.get_embeddings_for_labels_with_lookup(labels, trained_embedding, pre_trained_embedding)\n",
    "embeddings_pre_trained\n"
   ]
  },
  {
   "cell_type": "code",
   "execution_count": null,
   "metadata": {
    "collapsed": true
   },
   "outputs": [],
   "source": [
    "import dataset_helper\n",
    "for cache_file in dataset_helper.get_all_cached_graph_phi_datasets():\n",
    "    dataset = dataset_helper.get_dataset_name_from_graph_cachefile(cache_file)\n",
    "    print(cache_file, dataset)"
   ]
  },
  {
   "cell_type": "code",
   "execution_count": null,
   "metadata": {
    "collapsed": true
   },
   "outputs": [],
   "source": [
    "import pickle\n",
    "import embeddings\n",
    "\n",
    "dataset = 'ling-spam'\n",
    "\n",
    "embedding = embeddings.load_word2vec_format(fname = 'data/embeddings/graph-embeddings/{}.w2v.txt'.format(dataset), binary = False)"
   ]
  },
  {
   "cell_type": "code",
   "execution_count": null,
   "metadata": {
    "collapsed": true
   },
   "outputs": [],
   "source": [
    "with open('data/embeddings/graph-embeddings/{}.similar-els.npy'.format(dataset), 'rb') as f:\n",
    "    similar_els = pickle.load(f)\n",
    "    \n",
    "k = list(similar_els.keys())\n",
    "k_ = k[-1]\n",
    "k_, similar_els[k_]"
   ]
  },
  {
   "cell_type": "code",
   "execution_count": null,
   "metadata": {
    "collapsed": true
   },
   "outputs": [],
   "source": [
    "import pickle\n",
    "with open('data/results/text_ling-spam.results.npy', 'rb') as f:\n",
    "    results = pickle.load(f)"
   ]
  },
  {
   "cell_type": "code",
   "execution_count": null,
   "metadata": {
    "collapsed": true
   },
   "outputs": [],
   "source": [
    "import create_coreference_embeddings\n",
    "import embeddings\n",
    "\n",
    "pre_trained_embedding = embeddings.get_embedding_model('data/embeddings/glove/glove.6B.50d.w2v.txt', binary=False, first_line_header=True, with_gensim=True)"
   ]
  },
  {
   "cell_type": "code",
   "execution_count": null,
   "metadata": {
    "collapsed": true
   },
   "outputs": [],
   "source": [
    "import pickle\n",
    "\n",
    "with open('data/embeddings/graph-embeddings/ling-spam.similar-els.npy', 'rb') as f:\n",
    "    similar_els = pickle.load(f)"
   ]
  },
  {
   "cell_type": "code",
   "execution_count": null,
   "metadata": {
    "collapsed": true
   },
   "outputs": [],
   "source": [
    "import coreference\n",
    "\n",
    "lookup = coreference.create_label_cliques_by_similarity(similar_els, topn = 1, threshold=0.7)\n",
    "not_merged = coreference.get_non_coreferenced_labels(['yes'],lookup)\n",
    "cliques = coreference.get_cliques_from_lookup(lookup)\n",
    "\n",
    "len(cliques.keys()), len(lookup.keys()), not_merged"
   ]
  },
  {
   "cell_type": "code",
   "execution_count": null,
   "metadata": {
    "collapsed": true
   },
   "outputs": [],
   "source": [
    "with open('data/embeddings/graph-embeddings/ling-spam.label-lookup.npy', 'rb') as f:\n",
    "    lookup = pickle.load(f)\n",
    "    \n",
    "len(lookup.keys())"
   ]
  },
  {
   "cell_type": "code",
   "execution_count": null,
   "metadata": {
    "collapsed": true
   },
   "outputs": [],
   "source": [
    "import dataset_helper\n",
    "import pickle\n",
    "import numpy as np\n",
    "import sklearn\n",
    "graph_cache_file = 'dataset_graph_gml_ng20-single.npy'\n",
    "X, Y = dataset_helper.get_dataset_cached('data/CACHE/{}'.format(graph_cache_file))\n",
    "X, Y = np.array(X, dtype=object), np.array(Y, dtype=object)\n",
    "sss = sklearn.model_selection.StratifiedShuffleSplit(n_splits = 20, random_state=42)\n",
    "for train_index, test_index in sss.split(X, Y):\n",
    "    X_test, Y_test = X[test_index], Y[test_index]\n",
    "    break\n",
    "with open('data/CACHE/dataset_graph_gml_small-single.npy', 'wb') as f:\n",
    "    pickle.dump((X_test.tolist(), Y_test.tolist()), f)\n",
    "    \n",
    "    "
   ]
  },
  {
   "cell_type": "code",
   "execution_count": null,
   "metadata": {
    "collapsed": true
   },
   "outputs": [],
   "source": [
    "import dataset_helper\n",
    "import pandas as pd\n",
    "from IPython.display import display\n",
    "import matplotlib.pyplot as plt\n",
    "import networkx as nx\n",
    "import seaborn as sns\n",
    "\n",
    "sns.set('notebook', 'white')\n",
    "limit_dataset = ['ng20', 'ling-spam', 'reuters-21578', 'webkb']\n",
    "#limit_dataset = ['ling-spam']\n",
    "all_stats = {}\n",
    "for dataset_name in dataset_helper.get_all_available_dataset_names():\n",
    "    if dataset_name not in limit_dataset: continue\n",
    "    print(dataset_name)\n",
    "    X, Y = dataset_helper.get_dataset(dataset_name)\n",
    "    graphs = dataset_helper.get_all_cached_graph_datasets(dataset_name)\n",
    "    number_of_nodes = []\n",
    "    \n",
    "    coo_graph = [x for x in graphs if 'cooccurrence' in x][0]\n",
    "    gml_graph = [x for x in graphs if 'gml' in x][0]\n",
    "    \n",
    "    def get_num_nodes(graph_file):\n",
    "        X_graph, _ = dataset_helper.get_dataset_cached(graph_file)\n",
    "        return [nx.number_of_nodes(x) for x in X_graph]\n",
    "    \n",
    "    stats = {\n",
    "        'cooccurrence': get_num_nodes(coo_graph),\n",
    "        'concept-graphs': get_num_nodes(gml_graph)\n",
    "    }\n",
    "    min_len = min([len(v) for k, v in stats.items()])\n",
    "    graph_stats = {k: v[:min(min_len, len(v))] for k, v in stats.items()}\n",
    "    df = pd.DataFrame(graph_stats)\n",
    "    figsize = (12, 4)\n",
    "    fig, ax = plt.subplots(nrows = 1, ncols=2, figsize = figsize)\n",
    "    colors = reversed([\"orangered\", \"royalblue\"])\n",
    "    colors = None\n",
    "    df.plot(kind = 'hist', alpha = 0.7, bins=20, logy = True, color=colors, ax=ax[0])\n",
    "    ax[0].set_xlabel('# nodes per graph')\n",
    "    \n",
    "    text_stats = {'doc_lengths': [len(x) for x in X]}\n",
    "    df = pd.DataFrame(text_stats)\n",
    "    df.plot(kind = 'hist', bins=20, legend = False, logy = True, ax=ax[1], color = 'royalblue')\n",
    "    ax[1].set_xlabel('# characters per document')\n",
    "    plt.show()\n",
    "    fig.savefig('tmp/other/stats-{}.png'.format(dataset_name), dpi = 150)\n",
    "    all_stats[dataset_name] = {\n",
    "        'graphs': graph_stats,\n",
    "        'text': text_stats['doc_lengths'],\n",
    "        'num_docs': len(X),\n",
    "        'num_classes': len(set(Y))\n",
    "    }\n"
   ]
  },
  {
   "cell_type": "code",
   "execution_count": null,
   "metadata": {
    "collapsed": true
   },
   "outputs": [],
   "source": [
    "import numpy\n",
    "out = []\n",
    "for dataset, stats in all_stats.items():\n",
    "    out.append((dataset, np.mean(stats['text']), np.mean(stats['graphs']['cooccurrence']), np.mean(stats['graphs']['concept-graphs']), stats['num_docs'], stats['num_classes']))\n",
    "    \n",
    "fig, axes = plt.subplots(nrows=3, ncols=1, figsize = (8, 5))\n",
    "\n",
    "df = pd.DataFrame(out, columns = ['dataset', 'avg_doc_length', 'avg_coo_node_num', 'avg_cp_node_num', 'num_docs', 'num_classes'])\n",
    "df = df.set_index('dataset')\n",
    "#, ('# classes', 'num_classes')\n",
    "for idx, (name, x) in enumerate([('Average document length', 'avg_doc_length'), ('# documents', 'num_docs'), ('Average of number of concept-graph nodes', 'avg_cp_node_num')]):\n",
    "    ax = axes[idx]\n",
    "    df[x].plot(kind = 'barh', logx = True, title = name, ax = ax)\n",
    "fig.tight_layout()\n",
    "fig.savefig('tmp/other/stats-datasets.png', dpi = 120)\n",
    "plt.show()"
   ]
  },
  {
   "cell_type": "code",
   "execution_count": 29,
   "metadata": {},
   "outputs": [
    {
     "data": {
      "image/png": "[encoded data removed]",
      "text/plain": [
       "<matplotlib.figure.Figure at 0x11e382588>"
      ]
     },
     "metadata": {},
     "output_type": "display_data"
    },
    {
     "name": "stdout",
     "output_type": "stream",
     "text": [
      "Counter({'found': 1613642, 'not_found': 4003})\n",
      "95409\n"
     ]
    },
    {
     "data": {
      "image/png": "[encoded data removed]",
      "text/plain": [
       "<matplotlib.figure.Figure at 0x11800bef0>"
      ]
     },
     "metadata": {},
     "output_type": "display_data"
    }
   ],
   "source": [
    "import pickle\n",
    "import dataset_helper\n",
    "import collections\n",
    "import coreference\n",
    "import matplotlib.pyplot as plt\n",
    "from transformers.nx_graph_to_tuple_transformer import NxGraphToTupleTransformer\n",
    "\n",
    "check_graphs = False\n",
    "\n",
    "trans = NxGraphToTupleTransformer()\n",
    "for dataset_name in dataset_helper.get_all_available_dataset_names():\n",
    "    if dataset_name not in dataset_helper.DATASETS_LIMITED: continue\n",
    "    graph_cache_files = dataset_helper.get_all_cached_graph_datasets(dataset_name)\n",
    "    if not len(graph_cache_files): continue\n",
    "    \n",
    "    with open('data/embeddings/graph-embeddings/{}.label-lookup.npy'.format(dataset_name), 'rb') as f:\n",
    "        lookup = pickle.load(f)\n",
    "    \n",
    "    fig, axes = coreference.plot_lookup_histogram(lookup, len(lookup.keys()))\n",
    "    plt.show()\n",
    "        \n",
    "    counter = collections.Counter()\n",
    "    all_labels = set()\n",
    "    for graph_cache_file in graph_cache_files:\n",
    "        X, _ = dataset_helper.get_dataset_cached(graph_cache_file)\n",
    "        X = trans.transform(X)\n",
    "        \n",
    "        for adj, labels in X:\n",
    "            all_labels |= set(labels)\n",
    "            for label in labels:\n",
    "                counter['found' if label in lookup and str(lookup[label]).strip() != str(label).strip() else 'not_found'] += 1\n",
    "    print(counter)\n",
    "    print(len(all_labels))\n",
    "    fig, axes = coreference.plot_lookup_histogram(lookup, len(all_labels))\n",
    "    plt.show()\n",
    "    break"
   ]
  }
 ],
 "metadata": {
  "anaconda-cloud": {},
  "kernelspec": {
   "display_name": "Python [conda root]",
   "language": "python",
   "name": "conda-root-py"
  },
  "language_info": {
   "codemirror_mode": {
    "name": "ipython",
    "version": 3
   },
   "file_extension": ".py",
   "mimetype": "text/x-python",
   "name": "python",
   "nbconvert_exporter": "python",
   "pygments_lexer": "ipython3",
   "version": "3.5.3"
  },
  "toc": {
   "colors": {
    "hover_highlight": "#DAA520",
    "navigate_num": "#000000",
    "navigate_text": "#333333",
    "running_highlight": "#FF0000",
    "selected_highlight": "#FFD700",
    "sidebar_border": "#EEEEEE",
    "wrapper_background": "#FFFFFF"
   },
   "moveMenuLeft": true,
   "nav_menu": {
    "height": "4px",
    "width": "254px"
   },
   "navigate_menu": true,
   "number_sections": true,
   "sideBar": true,
   "threshold": 4,
   "toc_cell": false,
   "toc_section_display": "block",
   "toc_window_display": false,
   "widenNotebook": false
  }
 },
 "nbformat": 4,
 "nbformat_minor": 2
}
