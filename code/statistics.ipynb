{
 "cells": [
  {
   "cell_type": "markdown",
   "metadata": {},
   "source": [
    "# Statistics"
   ]
  },
  {
   "cell_type": "code",
   "execution_count": null,
   "metadata": {
    "collapsed": true
   },
   "outputs": [],
   "source": [
    "%load_ext autoreload\n",
    "%autoreload 2"
   ]
  },
  {
   "cell_type": "markdown",
   "metadata": {},
   "source": [
    "## Graph statistics"
   ]
  },
  {
   "cell_type": "code",
   "execution_count": null,
   "metadata": {},
   "outputs": [],
   "source": [
    "import graph_helper\n",
    "import dataset_helper\n",
    "import matplotlib.pyplot as plt\n",
    "from IPython.display import display\n",
    "\n",
    "for graph_cache_file in dataset_helper.get_all_cached_graph_datasets():\n",
    "    if 'ana' in graph_cache_file: continue\n",
    "    if 'gml' not in graph_cache_file: continue\n",
    "    cache_filename = graph_cache_file.split('/')[-1]\n",
    "    print('{} {}'.format('#' * 20, cache_filename))\n",
    "    X, Y = dataset_helper.get_dataset_cached(graph_cache_file)\n",
    "    num_classes = min(len(set(X)), 20)\n",
    "    #dataset_helper.plot_dataset_class_distribution(X, Y, title = graph_cache_file, figsize=(12, num_classes * 0.8))\n",
    "    df = graph_helper.get_graph_stats(X, Y)\n",
    "    \n",
    "    ax = df['num_graphs'].plot.barh(title = 'Graphs per topic\\n(Dataset: {})'.format(cache_filename.replace('.npy', '')), legend = True, figsize = (14, 8))\n",
    "    ax.set_xlabel('# graphs')\n",
    "    display(df)\n",
    "    plt.show()\n",
    "    break"
   ]
  },
  {
   "cell_type": "code",
   "execution_count": null,
   "metadata": {},
   "outputs": [],
   "source": [
    "from glob import glob \n",
    "import pickle\n",
    "import pandas as pd\n",
    "from IPython.display import display\n",
    "\n",
    "\n",
    "for result_file in glob('data/results/*.npy'):\n",
    "    with open(result_file, 'rb') as f:\n",
    "        result = pickle.load(f)\n",
    "    result_df = pd.DataFrame(result).sort_values(by = 'mean_test_score', ascending = False)\n",
    "    result_filename = result_file.split('/')[-1].rsplit('.', 4)[0]\n",
    "    print('#' * 20, result_filename)\n",
    "    display(result_df)\n"
   ]
  }
 ],
 "metadata": {
  "anaconda-cloud": {},
  "kernelspec": {
   "display_name": "Python [conda root]",
   "language": "python",
   "name": "conda-root-py"
  },
  "language_info": {
   "codemirror_mode": {
    "name": "ipython",
    "version": 3
   },
   "file_extension": ".py",
   "mimetype": "text/x-python",
   "name": "python",
   "nbconvert_exporter": "python",
   "pygments_lexer": "ipython3",
   "version": "3.5.3"
  },
  "toc": {
   "colors": {
    "hover_highlight": "#DAA520",
    "navigate_num": "#000000",
    "navigate_text": "#333333",
    "running_highlight": "#FF0000",
    "selected_highlight": "#FFD700",
    "sidebar_border": "#EEEEEE",
    "wrapper_background": "#FFFFFF"
   },
   "moveMenuLeft": true,
   "nav_menu": {
    "height": "38px",
    "width": "254px"
   },
   "navigate_menu": true,
   "number_sections": true,
   "sideBar": true,
   "threshold": 4,
   "toc_cell": false,
   "toc_section_display": "block",
   "toc_window_display": false,
   "widenNotebook": false
  }
 },
 "nbformat": 4,
 "nbformat_minor": 2
}
